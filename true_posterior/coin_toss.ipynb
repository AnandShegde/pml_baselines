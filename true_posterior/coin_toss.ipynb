{
 "cells": [
  {
   "cell_type": "code",
   "execution_count": 20,
   "metadata": {},
   "outputs": [],
   "source": [
    "import jax\n",
    "import jax.numpy as jnp\n",
    "from pandas import to_pickle\n",
    "import tensorflow_probability.substrates.jax as tfp\n",
    "tfd = tfp.distributions\n",
    "import pickle"
   ]
  },
  {
   "cell_type": "code",
   "execution_count": 21,
   "metadata": {},
   "outputs": [
    {
     "name": "stdout",
     "output_type": "stream",
     "text": [
      "{'data': array([1, 1, 1, 1, 1, 1, 0, 0, 1, 1], dtype=int32), 'prior': {'alpha': 10, 'beta': 15}}\n"
     ]
    }
   ],
   "source": [
    "\n",
    "\n",
    "def get_data(file_name):\n",
    "    with open(file_name,'rb') as f:\n",
    "        all_data = pickle.load(f)\n",
    "    print(all_data)\n",
    "    samples = all_data['data']\n",
    "    alpha_prior = all_data['prior']['alpha']\n",
    "    beta_prior = all_data['prior']['beta']\n",
    "    return samples, alpha_prior, beta_prior\n",
    "\n",
    "samples, alpha_prior , beta_prior = get_data(\"../data/coin_toss/coin_toss\")\n",
    "\n",
    "def true_posterior(samples,alpha_prior,beta_prior):\n",
    "    x = jnp.linspace(0,1,100)\n",
    "    one= jnp.sum(samples==1).astype('float32')\n",
    "    zero= jnp.sum(samples==0).astype('float32')\n",
    "    true_post_dist = tfd.Beta(alpha_prior+one,beta_prior+zero)\n",
    "    true_post_pdf = true_post_dist.prob(x)\n",
    "    return true_post_pdf\n",
    "filename = \"../data/coin_toss/coin_toss1\"\n",
    "true_post_pdf = true_posterior(samples,alpha_prior,beta_prior)\n",
    "\n",
    "to_pickle(true_post_pdf,\"../results/coin_toss/results_data/true_post\")"
   ]
  },
  {
   "cell_type": "code",
   "execution_count": null,
   "metadata": {},
   "outputs": [],
   "source": []
  }
 ],
 "metadata": {
  "kernelspec": {
   "display_name": "Python 3.7.13 ('srip')",
   "language": "python",
   "name": "python3"
  },
  "language_info": {
   "codemirror_mode": {
    "name": "ipython",
    "version": 3
   },
   "file_extension": ".py",
   "mimetype": "text/x-python",
   "name": "python",
   "nbconvert_exporter": "python",
   "pygments_lexer": "ipython3",
   "version": "3.7.13"
  },
  "orig_nbformat": 4,
  "vscode": {
   "interpreter": {
    "hash": "31cf91725cfa433ed6f8f914e51425bfdb4b966b135703f258bb56c1780b6111"
   }
  }
 },
 "nbformat": 4,
 "nbformat_minor": 2
}
