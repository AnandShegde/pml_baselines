{
 "cells": [
  {
   "cell_type": "code",
   "execution_count": 15,
   "metadata": {},
   "outputs": [],
   "source": [
    "import pickle\n",
    "import jax\n",
    "import jax.numpy as jnp"
   ]
  },
  {
   "cell_type": "code",
   "execution_count": 16,
   "metadata": {},
   "outputs": [
    {
     "data": {
      "text/plain": [
       "{'data': {'x': array([[ 1.7598495 ],\n",
       "         [-0.23643708],\n",
       "         [ 3.1509051 ],\n",
       "         [-0.79705334],\n",
       "         [-2.500547  ],\n",
       "         [ 1.6101036 ],\n",
       "         [ 0.14806175],\n",
       "         [ 0.05331182],\n",
       "         [ 2.6665907 ],\n",
       "         [-0.14456654]], dtype=float32),\n",
       "  'y': array([[ 9.011515 ],\n",
       "         [ 5.4843464],\n",
       "         [ 9.670069 ],\n",
       "         [ 1.1274505],\n",
       "         [-1.283633 ],\n",
       "         [ 7.062801 ],\n",
       "         [ 3.6567392],\n",
       "         [ 2.2533112],\n",
       "         [10.321623 ],\n",
       "         [ 2.2750926]], dtype=float32)},\n",
       " 'noise_variance': 1,\n",
       " 'prior': {'mean': array([14. ,  7.3], dtype=float32),\n",
       "  'var': array([[10.,  0.],\n",
       "         [ 0., 10.]], dtype=float32)}}"
      ]
     },
     "execution_count": 16,
     "metadata": {},
     "output_type": "execute_result"
    }
   ],
   "source": [
    "with open(\"../data/linear_regression/linear_regression\",'rb') as f:\n",
    "    data = pickle.load(f)\n",
    "data"
   ]
  },
  {
   "cell_type": "code",
   "execution_count": 17,
   "metadata": {},
   "outputs": [],
   "source": [
    "X = data['data']['x']\n",
    "Y = jnp.array(data['data']['y']).reshape((-1))\n",
    "\n",
    "def identity_trans(x):\n",
    "    return jnp.append(jnp.ones((m,1)),x,axis=1)\n",
    "m = X.shape[0]\n",
    "X = identity_trans(X)\n",
    "mean_prior = data['prior']['mean']\n",
    "var_prior = jnp.array(data['prior']['var'])"
   ]
  },
  {
   "cell_type": "code",
   "execution_count": 18,
   "metadata": {},
   "outputs": [],
   "source": [
    "def posterior(phi,m_0, t, S_0, beta, return_inverse=False):\n",
    "    \"\"\"Computes mean and covariance matrix of the posterior distribution.\"\"\"\n",
    "    S_N_inv = jnp.linalg.inv(S_0) + beta * phi.T.dot(phi)\n",
    "    S_N = jnp.linalg.inv(S_N_inv)\n",
    "    print(S_N.shape,m_0.shape)\n",
    "    m_N =S_N@(jnp.linalg.inv(S_0)@m_0+beta *phi.T.dot(t))\n",
    "\n",
    "    if return_inverse:\n",
    "        return m_N, S_N, S_N_inv\n",
    "    else:\n",
    "        return m_N, S_N"
   ]
  },
  {
   "cell_type": "code",
   "execution_count": 19,
   "metadata": {},
   "outputs": [
    {
     "name": "stdout",
     "output_type": "stream",
     "text": [
      "(2, 2) (2, 1)\n"
     ]
    }
   ],
   "source": [
    "mean,cov = posterior(X, mean_prior.reshape((-1,1)), Y.reshape((-1,1)), var_prior,1)"
   ]
  },
  {
   "cell_type": "code",
   "execution_count": 23,
   "metadata": {},
   "outputs": [],
   "source": [
    "di = {\n",
    "    \"mean\":mean,\n",
    "    \"covariance\":cov\n",
    "}\n",
    "with open(\"./linear_regression\",'wb') as f:\n",
    "    pickle.dump(di, f)"
   ]
  },
  {
   "cell_type": "code",
   "execution_count": 24,
   "metadata": {},
   "outputs": [
    {
     "data": {
      "text/plain": [
       "{'mean': array([[3.804038 ],\n",
       "        [2.1993077]], dtype=float32),\n",
       " 'covariance': array([[ 0.11103116, -0.02126273],\n",
       "        [-0.02126273,  0.03760864]], dtype=float32)}"
      ]
     },
     "execution_count": 24,
     "metadata": {},
     "output_type": "execute_result"
    }
   ],
   "source": [
    "with open(\"./linear_regression\",'rb') as f:\n",
    "    ans = pickle.load(f)\n",
    "ans"
   ]
  }
 ],
 "metadata": {
  "interpreter": {
   "hash": "e86a58d0b3133c413efff51ef13f246853108f9d46506a1801e007bc21f6618c"
  },
  "kernelspec": {
   "display_name": "Python 3.7.13 ('base')",
   "language": "python",
   "name": "python3"
  },
  "language_info": {
   "codemirror_mode": {
    "name": "ipython",
    "version": 3
   },
   "file_extension": ".py",
   "mimetype": "text/x-python",
   "name": "python",
   "nbconvert_exporter": "python",
   "pygments_lexer": "ipython3",
   "version": "3.7.13"
  },
  "orig_nbformat": 4
 },
 "nbformat": 4,
 "nbformat_minor": 2
}
