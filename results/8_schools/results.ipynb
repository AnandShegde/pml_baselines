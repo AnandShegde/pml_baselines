{
 "cells": [
  {
   "cell_type": "code",
   "execution_count": 2,
   "metadata": {},
   "outputs": [],
   "source": [
    "import matplotlib.pyplot as plt\n",
    "from plotly.subplots import make_subplots\n",
    "import plotly.graph_objects as go\n",
    "import plotly.figure_factory as ff\n",
    "import pandas as pd\n",
    "import seaborn as sns"
   ]
  },
  {
   "cell_type": "code",
   "execution_count": 3,
   "metadata": {},
   "outputs": [
    {
     "data": {
      "text/html": [
       "<div>\n",
       "<style scoped>\n",
       "    .dataframe tbody tr th:only-of-type {\n",
       "        vertical-align: middle;\n",
       "    }\n",
       "\n",
       "    .dataframe tbody tr th {\n",
       "        vertical-align: top;\n",
       "    }\n",
       "\n",
       "    .dataframe thead th {\n",
       "        text-align: right;\n",
       "    }\n",
       "</style>\n",
       "<table border=\"1\" class=\"dataframe\">\n",
       "  <thead>\n",
       "    <tr style=\"text-align: right;\">\n",
       "      <th></th>\n",
       "      <th>chain</th>\n",
       "      <th>draw</th>\n",
       "      <th>warmup</th>\n",
       "      <th>mu</th>\n",
       "      <th>logtau</th>\n",
       "      <th>theta_prime[1]</th>\n",
       "      <th>theta_prime[2]</th>\n",
       "      <th>theta_prime[3]</th>\n",
       "      <th>theta_prime[4]</th>\n",
       "      <th>theta_prime[5]</th>\n",
       "      <th>...</th>\n",
       "      <th>divergent__</th>\n",
       "      <th>energy__</th>\n",
       "      <th>theta[1]</th>\n",
       "      <th>theta[2]</th>\n",
       "      <th>theta[3]</th>\n",
       "      <th>theta[4]</th>\n",
       "      <th>theta[5]</th>\n",
       "      <th>theta[6]</th>\n",
       "      <th>theta[7]</th>\n",
       "      <th>theta[8]</th>\n",
       "    </tr>\n",
       "  </thead>\n",
       "  <tbody>\n",
       "    <tr>\n",
       "      <th>0</th>\n",
       "      <td>0</td>\n",
       "      <td>0</td>\n",
       "      <td>0</td>\n",
       "      <td>6.547992</td>\n",
       "      <td>2.665117</td>\n",
       "      <td>-0.569524</td>\n",
       "      <td>-0.177498</td>\n",
       "      <td>-0.310216</td>\n",
       "      <td>0.298768</td>\n",
       "      <td>-0.477434</td>\n",
       "      <td>...</td>\n",
       "      <td>0</td>\n",
       "      <td>13.675695</td>\n",
       "      <td>-1.635855</td>\n",
       "      <td>3.997412</td>\n",
       "      <td>2.090308</td>\n",
       "      <td>10.841181</td>\n",
       "      <td>-0.312560</td>\n",
       "      <td>-18.729364</td>\n",
       "      <td>15.221723</td>\n",
       "      <td>17.594987</td>\n",
       "    </tr>\n",
       "    <tr>\n",
       "      <th>1</th>\n",
       "      <td>0</td>\n",
       "      <td>1</td>\n",
       "      <td>0</td>\n",
       "      <td>3.004298</td>\n",
       "      <td>2.396597</td>\n",
       "      <td>-0.783524</td>\n",
       "      <td>-0.262493</td>\n",
       "      <td>-0.557419</td>\n",
       "      <td>0.254404</td>\n",
       "      <td>0.007083</td>\n",
       "      <td>...</td>\n",
       "      <td>0</td>\n",
       "      <td>15.005492</td>\n",
       "      <td>-5.603292</td>\n",
       "      <td>0.120623</td>\n",
       "      <td>-3.119361</td>\n",
       "      <td>5.799107</td>\n",
       "      <td>3.082108</td>\n",
       "      <td>-17.494041</td>\n",
       "      <td>8.748049</td>\n",
       "      <td>10.519741</td>\n",
       "    </tr>\n",
       "    <tr>\n",
       "      <th>2</th>\n",
       "      <td>0</td>\n",
       "      <td>2</td>\n",
       "      <td>0</td>\n",
       "      <td>-0.194647</td>\n",
       "      <td>2.247775</td>\n",
       "      <td>1.885068</td>\n",
       "      <td>0.035816</td>\n",
       "      <td>0.177853</td>\n",
       "      <td>-0.566742</td>\n",
       "      <td>-0.894739</td>\n",
       "      <td>...</td>\n",
       "      <td>0</td>\n",
       "      <td>15.091184</td>\n",
       "      <td>17.650637</td>\n",
       "      <td>0.144409</td>\n",
       "      <td>1.489026</td>\n",
       "      <td>-5.559793</td>\n",
       "      <td>-8.664827</td>\n",
       "      <td>9.437025</td>\n",
       "      <td>4.978968</td>\n",
       "      <td>-5.015763</td>\n",
       "    </tr>\n",
       "    <tr>\n",
       "      <th>3</th>\n",
       "      <td>0</td>\n",
       "      <td>3</td>\n",
       "      <td>0</td>\n",
       "      <td>7.252711</td>\n",
       "      <td>1.102637</td>\n",
       "      <td>-0.788020</td>\n",
       "      <td>0.448272</td>\n",
       "      <td>-1.198964</td>\n",
       "      <td>1.619066</td>\n",
       "      <td>0.498733</td>\n",
       "      <td>...</td>\n",
       "      <td>0</td>\n",
       "      <td>19.081941</td>\n",
       "      <td>4.879118</td>\n",
       "      <td>8.602949</td>\n",
       "      <td>3.641313</td>\n",
       "      <td>12.129496</td>\n",
       "      <td>8.754944</td>\n",
       "      <td>2.309464</td>\n",
       "      <td>4.314342</td>\n",
       "      <td>10.195681</td>\n",
       "    </tr>\n",
       "    <tr>\n",
       "      <th>4</th>\n",
       "      <td>0</td>\n",
       "      <td>4</td>\n",
       "      <td>0</td>\n",
       "      <td>12.386971</td>\n",
       "      <td>2.102837</td>\n",
       "      <td>2.109539</td>\n",
       "      <td>-0.060576</td>\n",
       "      <td>-1.265540</td>\n",
       "      <td>0.909937</td>\n",
       "      <td>-0.917573</td>\n",
       "      <td>...</td>\n",
       "      <td>0</td>\n",
       "      <td>22.282023</td>\n",
       "      <td>29.662771</td>\n",
       "      <td>11.890894</td>\n",
       "      <td>2.022994</td>\n",
       "      <td>19.838787</td>\n",
       "      <td>4.872627</td>\n",
       "      <td>25.494354</td>\n",
       "      <td>10.773718</td>\n",
       "      <td>13.631313</td>\n",
       "    </tr>\n",
       "    <tr>\n",
       "      <th>...</th>\n",
       "      <td>...</td>\n",
       "      <td>...</td>\n",
       "      <td>...</td>\n",
       "      <td>...</td>\n",
       "      <td>...</td>\n",
       "      <td>...</td>\n",
       "      <td>...</td>\n",
       "      <td>...</td>\n",
       "      <td>...</td>\n",
       "      <td>...</td>\n",
       "      <td>...</td>\n",
       "      <td>...</td>\n",
       "      <td>...</td>\n",
       "      <td>...</td>\n",
       "      <td>...</td>\n",
       "      <td>...</td>\n",
       "      <td>...</td>\n",
       "      <td>...</td>\n",
       "      <td>...</td>\n",
       "      <td>...</td>\n",
       "      <td>...</td>\n",
       "    </tr>\n",
       "    <tr>\n",
       "      <th>7995</th>\n",
       "      <td>7</td>\n",
       "      <td>995</td>\n",
       "      <td>0</td>\n",
       "      <td>5.537976</td>\n",
       "      <td>1.992814</td>\n",
       "      <td>0.140761</td>\n",
       "      <td>-0.530215</td>\n",
       "      <td>0.413935</td>\n",
       "      <td>-0.517715</td>\n",
       "      <td>0.569388</td>\n",
       "      <td>...</td>\n",
       "      <td>0</td>\n",
       "      <td>10.378140</td>\n",
       "      <td>6.570619</td>\n",
       "      <td>1.648239</td>\n",
       "      <td>8.574668</td>\n",
       "      <td>1.739943</td>\n",
       "      <td>9.715095</td>\n",
       "      <td>2.538744</td>\n",
       "      <td>8.654425</td>\n",
       "      <td>2.649024</td>\n",
       "    </tr>\n",
       "    <tr>\n",
       "      <th>7996</th>\n",
       "      <td>7</td>\n",
       "      <td>996</td>\n",
       "      <td>0</td>\n",
       "      <td>8.425103</td>\n",
       "      <td>2.309077</td>\n",
       "      <td>0.833363</td>\n",
       "      <td>0.362584</td>\n",
       "      <td>-0.133427</td>\n",
       "      <td>-0.780587</td>\n",
       "      <td>0.108922</td>\n",
       "      <td>...</td>\n",
       "      <td>0</td>\n",
       "      <td>13.612948</td>\n",
       "      <td>16.813010</td>\n",
       "      <td>12.074558</td>\n",
       "      <td>7.082148</td>\n",
       "      <td>0.568390</td>\n",
       "      <td>9.521413</td>\n",
       "      <td>8.256939</td>\n",
       "      <td>4.760740</td>\n",
       "      <td>16.553897</td>\n",
       "    </tr>\n",
       "    <tr>\n",
       "      <th>7997</th>\n",
       "      <td>7</td>\n",
       "      <td>997</td>\n",
       "      <td>0</td>\n",
       "      <td>5.970969</td>\n",
       "      <td>2.875064</td>\n",
       "      <td>0.259968</td>\n",
       "      <td>-0.109580</td>\n",
       "      <td>-0.335398</td>\n",
       "      <td>0.527610</td>\n",
       "      <td>-0.799931</td>\n",
       "      <td>...</td>\n",
       "      <td>0</td>\n",
       "      <td>10.471301</td>\n",
       "      <td>10.579309</td>\n",
       "      <td>4.028497</td>\n",
       "      <td>0.025512</td>\n",
       "      <td>15.323668</td>\n",
       "      <td>-8.209057</td>\n",
       "      <td>-1.010109</td>\n",
       "      <td>31.744319</td>\n",
       "      <td>-2.034680</td>\n",
       "    </tr>\n",
       "    <tr>\n",
       "      <th>7998</th>\n",
       "      <td>7</td>\n",
       "      <td>998</td>\n",
       "      <td>0</td>\n",
       "      <td>4.562103</td>\n",
       "      <td>1.997577</td>\n",
       "      <td>1.711122</td>\n",
       "      <td>0.928748</td>\n",
       "      <td>0.009907</td>\n",
       "      <td>-0.244922</td>\n",
       "      <td>0.310011</td>\n",
       "      <td>...</td>\n",
       "      <td>0</td>\n",
       "      <td>13.349291</td>\n",
       "      <td>17.175076</td>\n",
       "      <td>11.408065</td>\n",
       "      <td>4.635128</td>\n",
       "      <td>2.756742</td>\n",
       "      <td>6.847249</td>\n",
       "      <td>9.385796</td>\n",
       "      <td>1.873962</td>\n",
       "      <td>10.342855</td>\n",
       "    </tr>\n",
       "    <tr>\n",
       "      <th>7999</th>\n",
       "      <td>7</td>\n",
       "      <td>999</td>\n",
       "      <td>0</td>\n",
       "      <td>3.933205</td>\n",
       "      <td>2.925605</td>\n",
       "      <td>1.275440</td>\n",
       "      <td>0.526540</td>\n",
       "      <td>-0.277190</td>\n",
       "      <td>-0.273710</td>\n",
       "      <td>-0.606054</td>\n",
       "      <td>...</td>\n",
       "      <td>0</td>\n",
       "      <td>10.446321</td>\n",
       "      <td>27.714420</td>\n",
       "      <td>13.750799</td>\n",
       "      <td>-1.235134</td>\n",
       "      <td>-1.170246</td>\n",
       "      <td>-7.366967</td>\n",
       "      <td>0.833621</td>\n",
       "      <td>18.116064</td>\n",
       "      <td>-9.121987</td>\n",
       "    </tr>\n",
       "  </tbody>\n",
       "</table>\n",
       "<p>8000 rows × 28 columns</p>\n",
       "</div>"
      ],
      "text/plain": [
       "      chain  draw  warmup         mu    logtau  theta_prime[1]  \\\n",
       "0         0     0       0   6.547992  2.665117       -0.569524   \n",
       "1         0     1       0   3.004298  2.396597       -0.783524   \n",
       "2         0     2       0  -0.194647  2.247775        1.885068   \n",
       "3         0     3       0   7.252711  1.102637       -0.788020   \n",
       "4         0     4       0  12.386971  2.102837        2.109539   \n",
       "...     ...   ...     ...        ...       ...             ...   \n",
       "7995      7   995       0   5.537976  1.992814        0.140761   \n",
       "7996      7   996       0   8.425103  2.309077        0.833363   \n",
       "7997      7   997       0   5.970969  2.875064        0.259968   \n",
       "7998      7   998       0   4.562103  1.997577        1.711122   \n",
       "7999      7   999       0   3.933205  2.925605        1.275440   \n",
       "\n",
       "      theta_prime[2]  theta_prime[3]  theta_prime[4]  theta_prime[5]  ...  \\\n",
       "0          -0.177498       -0.310216        0.298768       -0.477434  ...   \n",
       "1          -0.262493       -0.557419        0.254404        0.007083  ...   \n",
       "2           0.035816        0.177853       -0.566742       -0.894739  ...   \n",
       "3           0.448272       -1.198964        1.619066        0.498733  ...   \n",
       "4          -0.060576       -1.265540        0.909937       -0.917573  ...   \n",
       "...              ...             ...             ...             ...  ...   \n",
       "7995       -0.530215        0.413935       -0.517715        0.569388  ...   \n",
       "7996        0.362584       -0.133427       -0.780587        0.108922  ...   \n",
       "7997       -0.109580       -0.335398        0.527610       -0.799931  ...   \n",
       "7998        0.928748        0.009907       -0.244922        0.310011  ...   \n",
       "7999        0.526540       -0.277190       -0.273710       -0.606054  ...   \n",
       "\n",
       "      divergent__   energy__   theta[1]   theta[2]  theta[3]   theta[4]  \\\n",
       "0               0  13.675695  -1.635855   3.997412  2.090308  10.841181   \n",
       "1               0  15.005492  -5.603292   0.120623 -3.119361   5.799107   \n",
       "2               0  15.091184  17.650637   0.144409  1.489026  -5.559793   \n",
       "3               0  19.081941   4.879118   8.602949  3.641313  12.129496   \n",
       "4               0  22.282023  29.662771  11.890894  2.022994  19.838787   \n",
       "...           ...        ...        ...        ...       ...        ...   \n",
       "7995            0  10.378140   6.570619   1.648239  8.574668   1.739943   \n",
       "7996            0  13.612948  16.813010  12.074558  7.082148   0.568390   \n",
       "7997            0  10.471301  10.579309   4.028497  0.025512  15.323668   \n",
       "7998            0  13.349291  17.175076  11.408065  4.635128   2.756742   \n",
       "7999            0  10.446321  27.714420  13.750799 -1.235134  -1.170246   \n",
       "\n",
       "      theta[5]   theta[6]   theta[7]   theta[8]  \n",
       "0    -0.312560 -18.729364  15.221723  17.594987  \n",
       "1     3.082108 -17.494041   8.748049  10.519741  \n",
       "2    -8.664827   9.437025   4.978968  -5.015763  \n",
       "3     8.754944   2.309464   4.314342  10.195681  \n",
       "4     4.872627  25.494354  10.773718  13.631313  \n",
       "...        ...        ...        ...        ...  \n",
       "7995  9.715095   2.538744   8.654425   2.649024  \n",
       "7996  9.521413   8.256939   4.760740  16.553897  \n",
       "7997 -8.209057  -1.010109  31.744319  -2.034680  \n",
       "7998  6.847249   9.385796   1.873962  10.342855  \n",
       "7999 -7.366967   0.833621  18.116064  -9.121987  \n",
       "\n",
       "[8000 rows x 28 columns]"
      ]
     },
     "execution_count": 3,
     "metadata": {},
     "output_type": "execute_result"
    }
   ],
   "source": [
    "black_cent = pd.read_pickle(\"results_data/blackjax_cent.pkl\")\n",
    "black_non_cent = pd.read_pickle(\"results_data/blackjax_non_cent.pkl\")\n",
    "pystan_cent = pd.read_pickle(\"results_data/pymc_cent.pkl\")\n",
    "pystan_non_cent = pd.read_pickle(\"results_data/pymc_non_cent.pkl\")\n",
    "\n",
    "pystan_non_cent"
   ]
  },
  {
   "cell_type": "code",
   "execution_count": 7,
   "metadata": {},
   "outputs": [
    {
     "data": {
      "text/plain": [
       "[]"
      ]
     },
     "execution_count": 7,
     "metadata": {},
     "output_type": "execute_result"
    },
    {
     "data": {
      "image/png": "[encoded data removed]",
      "text/plain": [
       "<Figure size 1440x720 with 8 Axes>"
      ]
     },
     "metadata": {
      "needs_background": "light"
     },
     "output_type": "display_data"
    }
   ],
   "source": [
    "\n",
    "fig,ax = plt.subplots(2,4,figsize=(20,10))\n",
    "i=0\n",
    "sns.kdeplot(black_non_cent['theta['+str(i)+']'],label=f\"non-cent NUTS(Blackjax)\" ,ax=ax[int(i/4)][i%4])\n",
    "sns.kdeplot(black_cent['theta['+str(i)+']'],label=f\"cent NUTS (blackjax)\" ,ax=ax[int(i/4)][i%4])\n",
    "sns.kdeplot(pystan_non_cent['theta['+str(i+1)+']'],label=f\"non-cent NUTS (PYSTAN)\" ,ax=ax[int(i/4)][i%4])\n",
    "sns.kdeplot(pystan_cent['theta['+str(i+1)+']'],label=f\"cent NUTS (PYSTAN)\" ,ax=ax[int(i/4)][i%4])\n",
    "ax[int(i/4)][i%4].legend(loc=2)\n",
    "\n",
    "\n",
    "for i in range(1,8):\n",
    "    sns.kdeplot(black_non_cent['theta['+str(i)+']'],label=f\"non-cent NUTS(Blackjax)\" ,ax=ax[int(i/4)][i%4])\n",
    "    sns.kdeplot(black_cent['theta['+str(i)+']'],label=f\"cent NUTS (blackjax)\" ,ax=ax[int(i/4)][i%4])\n",
    "    sns.kdeplot(pystan_non_cent['theta['+str(i+1)+']'],label=f\"non-cent NUTS (STAN)\" ,ax=ax[int(i/4)][i%4])\n",
    "    sns.kdeplot(pystan_cent['theta['+str(i+1)+']'],label=f\"cent NUTS ()\" ,ax=ax[int(i/4)][i%4])\n",
    "plt.suptitle(\"8 school predictions\")\n",
    "plt.plot()"
   ]
  },
  {
   "cell_type": "code",
   "execution_count": 4,
   "metadata": {},
   "outputs": [
    {
     "data": {
      "application/vnd.plotly.v1+json": {
       "config": {
        "plotlyServerURL": "https://plot.ly"
       },
       "data": [
        {
         "type": "scatter",
         "x": [
          1,
          2,
          3
         ],
         "xaxis": "x",
         "y": [
          4,
          5,
          6
         ],
         "yaxis": "y"
        },
        {
         "mode": "lines",
         "type": "scatter",
         "x": [
          20,
          30,
          40
         ],
         "xaxis": "x2",
         "y": [
          50,
          60,
          70
         ],
         "yaxis": "y2"
        }
       ],
       "layout": {
        "height": 600,
        "template": {
         "data": {
          "bar": [
           {
            "error_x": {
             "color": "#2a3f5f"
            },
            "error_y": {
             "color": "#2a3f5f"
            },
            "marker": {
             "line": {
              "color": "#E5ECF6",
              "width": 0.5
             },
             "pattern": {
              "fillmode": "overlay",
              "size": 10,
              "solidity": 0.2
             }
            },
            "type": "bar"
           }
          ],
          "barpolar": [
           {
            "marker": {
             "line": {
              "color": "#E5ECF6",
              "width": 0.5
             },
             "pattern": {
              "fillmode": "overlay",
              "size": 10,
              "solidity": 0.2
             }
            },
            "type": "barpolar"
           }
          ],
          "carpet": [
           {
            "aaxis": {
             "endlinecolor": "#2a3f5f",
             "gridcolor": "white",
             "linecolor": "white",
             "minorgridcolor": "white",
             "startlinecolor": "#2a3f5f"
            },
            "baxis": {
             "endlinecolor": "#2a3f5f",
             "gridcolor": "white",
             "linecolor": "white",
             "minorgridcolor": "white",
             "startlinecolor": "#2a3f5f"
            },
            "type": "carpet"
           }
          ],
          "choropleth": [
           {
            "colorbar": {
             "outlinewidth": 0,
             "ticks": ""
            },
            "type": "choropleth"
           }
          ],
          "contour": [
           {
            "colorbar": {
             "outlinewidth": 0,
             "ticks": ""
            },
            "colorscale": [
             [
              0,
              "#0d0887"
             ],
             [
              0.1111111111111111,
              "#46039f"
             ],
             [
              0.2222222222222222,
              "#7201a8"
             ],
             [
              0.3333333333333333,
              "#9c179e"
             ],
             [
              0.4444444444444444,
              "#bd3786"
             ],
             [
              0.5555555555555556,
              "#d8576b"
             ],
             [
              0.6666666666666666,
              "#ed7953"
             ],
             [
              0.7777777777777778,
              "#fb9f3a"
             ],
             [
              0.8888888888888888,
              "#fdca26"
             ],
             [
              1,
              "#f0f921"
             ]
            ],
            "type": "contour"
           }
          ],
          "contourcarpet": [
           {
            "colorbar": {
             "outlinewidth": 0,
             "ticks": ""
            },
            "type": "contourcarpet"
           }
          ],
          "heatmap": [
           {
            "colorbar": {
             "outlinewidth": 0,
             "ticks": ""
            },
            "colorscale": [
             [
              0,
              "#0d0887"
             ],
             [
              0.1111111111111111,
              "#46039f"
             ],
             [
              0.2222222222222222,
              "#7201a8"
             ],
             [
              0.3333333333333333,
              "#9c179e"
             ],
             [
              0.4444444444444444,
              "#bd3786"
             ],
             [
              0.5555555555555556,
              "#d8576b"
             ],
             [
              0.6666666666666666,
              "#ed7953"
             ],
             [
              0.7777777777777778,
              "#fb9f3a"
             ],
             [
              0.8888888888888888,
              "#fdca26"
             ],
             [
              1,
              "#f0f921"
             ]
            ],
            "type": "heatmap"
           }
          ],
          "heatmapgl": [
           {
            "colorbar": {
             "outlinewidth": 0,
             "ticks": ""
            },
            "colorscale": [
             [
              0,
              "#0d0887"
             ],
             [
              0.1111111111111111,
              "#46039f"
             ],
             [
              0.2222222222222222,
              "#7201a8"
             ],
             [
              0.3333333333333333,
              "#9c179e"
             ],
             [
              0.4444444444444444,
              "#bd3786"
             ],
             [
              0.5555555555555556,
              "#d8576b"
             ],
             [
              0.6666666666666666,
              "#ed7953"
             ],
             [
              0.7777777777777778,
              "#fb9f3a"
             ],
             [
              0.8888888888888888,
              "#fdca26"
             ],
             [
              1,
              "#f0f921"
             ]
            ],
            "type": "heatmapgl"
           }
          ],
          "histogram": [
           {
            "marker": {
             "pattern": {
              "fillmode": "overlay",
              "size": 10,
              "solidity": 0.2
             }
            },
            "type": "histogram"
           }
          ],
          "histogram2d": [
           {
            "colorbar": {
             "outlinewidth": 0,
             "ticks": ""
            },
            "colorscale": [
             [
              0,
              "#0d0887"
             ],
             [
              0.1111111111111111,
              "#46039f"
             ],
             [
              0.2222222222222222,
              "#7201a8"
             ],
             [
              0.3333333333333333,
              "#9c179e"
             ],
             [
              0.4444444444444444,
              "#bd3786"
             ],
             [
              0.5555555555555556,
              "#d8576b"
             ],
             [
              0.6666666666666666,
              "#ed7953"
             ],
             [
              0.7777777777777778,
              "#fb9f3a"
             ],
             [
              0.8888888888888888,
              "#fdca26"
             ],
             [
              1,
              "#f0f921"
             ]
            ],
            "type": "histogram2d"
           }
          ],
          "histogram2dcontour": [
           {
            "colorbar": {
             "outlinewidth": 0,
             "ticks": ""
            },
            "colorscale": [
             [
              0,
              "#0d0887"
             ],
             [
              0.1111111111111111,
              "#46039f"
             ],
             [
              0.2222222222222222,
              "#7201a8"
             ],
             [
              0.3333333333333333,
              "#9c179e"
             ],
             [
              0.4444444444444444,
              "#bd3786"
             ],
             [
              0.5555555555555556,
              "#d8576b"
             ],
             [
              0.6666666666666666,
              "#ed7953"
             ],
             [
              0.7777777777777778,
              "#fb9f3a"
             ],
             [
              0.8888888888888888,
              "#fdca26"
             ],
             [
              1,
              "#f0f921"
             ]
            ],
            "type": "histogram2dcontour"
           }
          ],
          "mesh3d": [
           {
            "colorbar": {
             "outlinewidth": 0,
             "ticks": ""
            },
            "type": "mesh3d"
           }
          ],
          "parcoords": [
           {
            "line": {
             "colorbar": {
              "outlinewidth": 0,
              "ticks": ""
             }
            },
            "type": "parcoords"
           }
          ],
          "pie": [
           {
            "automargin": true,
            "type": "pie"
           }
          ],
          "scatter": [
           {
            "fillpattern": {
             "fillmode": "overlay",
             "size": 10,
             "solidity": 0.2
            },
            "type": "scatter"
           }
          ],
          "scatter3d": [
           {
            "line": {
             "colorbar": {
              "outlinewidth": 0,
              "ticks": ""
             }
            },
            "marker": {
             "colorbar": {
              "outlinewidth": 0,
              "ticks": ""
             }
            },
            "type": "scatter3d"
           }
          ],
          "scattercarpet": [
           {
            "marker": {
             "colorbar": {
              "outlinewidth": 0,
              "ticks": ""
             }
            },
            "type": "scattercarpet"
           }
          ],
          "scattergeo": [
           {
            "marker": {
             "colorbar": {
              "outlinewidth": 0,
              "ticks": ""
             }
            },
            "type": "scattergeo"
           }
          ],
          "scattergl": [
           {
            "marker": {
             "colorbar": {
              "outlinewidth": 0,
              "ticks": ""
             }
            },
            "type": "scattergl"
           }
          ],
          "scattermapbox": [
           {
            "marker": {
             "colorbar": {
              "outlinewidth": 0,
              "ticks": ""
             }
            },
            "type": "scattermapbox"
           }
          ],
          "scatterpolar": [
           {
            "marker": {
             "colorbar": {
              "outlinewidth": 0,
              "ticks": ""
             }
            },
            "type": "scatterpolar"
           }
          ],
          "scatterpolargl": [
           {
            "marker": {
             "colorbar": {
              "outlinewidth": 0,
              "ticks": ""
             }
            },
            "type": "scatterpolargl"
           }
          ],
          "scatterternary": [
           {
            "marker": {
             "colorbar": {
              "outlinewidth": 0,
              "ticks": ""
             }
            },
            "type": "scatterternary"
           }
          ],
          "surface": [
           {
            "colorbar": {
             "outlinewidth": 0,
             "ticks": ""
            },
            "colorscale": [
             [
              0,
              "#0d0887"
             ],
             [
              0.1111111111111111,
              "#46039f"
             ],
             [
              0.2222222222222222,
              "#7201a8"
             ],
             [
              0.3333333333333333,
              "#9c179e"
             ],
             [
              0.4444444444444444,
              "#bd3786"
             ],
             [
              0.5555555555555556,
              "#d8576b"
             ],
             [
              0.6666666666666666,
              "#ed7953"
             ],
             [
              0.7777777777777778,
              "#fb9f3a"
             ],
             [
              0.8888888888888888,
              "#fdca26"
             ],
             [
              1,
              "#f0f921"
             ]
            ],
            "type": "surface"
           }
          ],
          "table": [
           {
            "cells": {
             "fill": {
              "color": "#EBF0F8"
             },
             "line": {
              "color": "white"
             }
            },
            "header": {
             "fill": {
              "color": "#C8D4E3"
             },
             "line": {
              "color": "white"
             }
            },
            "type": "table"
           }
          ]
         },
         "layout": {
          "annotationdefaults": {
           "arrowcolor": "#2a3f5f",
           "arrowhead": 0,
           "arrowwidth": 1
          },
          "autotypenumbers": "strict",
          "coloraxis": {
           "colorbar": {
            "outlinewidth": 0,
            "ticks": ""
           }
          },
          "colorscale": {
           "diverging": [
            [
             0,
             "#8e0152"
            ],
            [
             0.1,
             "#c51b7d"
            ],
            [
             0.2,
             "#de77ae"
            ],
            [
             0.3,
             "#f1b6da"
            ],
            [
             0.4,
             "#fde0ef"
            ],
            [
             0.5,
             "#f7f7f7"
            ],
            [
             0.6,
             "#e6f5d0"
            ],
            [
             0.7,
             "#b8e186"
            ],
            [
             0.8,
             "#7fbc41"
            ],
            [
             0.9,
             "#4d9221"
            ],
            [
             1,
             "#276419"
            ]
           ],
           "sequential": [
            [
             0,
             "#0d0887"
            ],
            [
             0.1111111111111111,
             "#46039f"
            ],
            [
             0.2222222222222222,
             "#7201a8"
            ],
            [
             0.3333333333333333,
             "#9c179e"
            ],
            [
             0.4444444444444444,
             "#bd3786"
            ],
            [
             0.5555555555555556,
             "#d8576b"
            ],
            [
             0.6666666666666666,
             "#ed7953"
            ],
            [
             0.7777777777777778,
             "#fb9f3a"
            ],
            [
             0.8888888888888888,
             "#fdca26"
            ],
            [
             1,
             "#f0f921"
            ]
           ],
           "sequentialminus": [
            [
             0,
             "#0d0887"
            ],
            [
             0.1111111111111111,
             "#46039f"
            ],
            [
             0.2222222222222222,
             "#7201a8"
            ],
            [
             0.3333333333333333,
             "#9c179e"
            ],
            [
             0.4444444444444444,
             "#bd3786"
            ],
            [
             0.5555555555555556,
             "#d8576b"
            ],
            [
             0.6666666666666666,
             "#ed7953"
            ],
            [
             0.7777777777777778,
             "#fb9f3a"
            ],
            [
             0.8888888888888888,
             "#fdca26"
            ],
            [
             1,
             "#f0f921"
            ]
           ]
          },
          "colorway": [
           "#636efa",
           "#EF553B",
           "#00cc96",
           "#ab63fa",
           "#FFA15A",
           "#19d3f3",
           "#FF6692",
           "#B6E880",
           "#FF97FF",
           "#FECB52"
          ],
          "font": {
           "color": "#2a3f5f"
          },
          "geo": {
           "bgcolor": "white",
           "lakecolor": "white",
           "landcolor": "#E5ECF6",
           "showlakes": true,
           "showland": true,
           "subunitcolor": "white"
          },
          "hoverlabel": {
           "align": "left"
          },
          "hovermode": "closest",
          "mapbox": {
           "style": "light"
          },
          "paper_bgcolor": "white",
          "plot_bgcolor": "#E5ECF6",
          "polar": {
           "angularaxis": {
            "gridcolor": "white",
            "linecolor": "white",
            "ticks": ""
           },
           "bgcolor": "#E5ECF6",
           "radialaxis": {
            "gridcolor": "white",
            "linecolor": "white",
            "ticks": ""
           }
          },
          "scene": {
           "xaxis": {
            "backgroundcolor": "#E5ECF6",
            "gridcolor": "white",
            "gridwidth": 2,
            "linecolor": "white",
            "showbackground": true,
            "ticks": "",
            "zerolinecolor": "white"
           },
           "yaxis": {
            "backgroundcolor": "#E5ECF6",
            "gridcolor": "white",
            "gridwidth": 2,
            "linecolor": "white",
            "showbackground": true,
            "ticks": "",
            "zerolinecolor": "white"
           },
           "zaxis": {
            "backgroundcolor": "#E5ECF6",
            "gridcolor": "white",
            "gridwidth": 2,
            "linecolor": "white",
            "showbackground": true,
            "ticks": "",
            "zerolinecolor": "white"
           }
          },
          "shapedefaults": {
           "line": {
            "color": "#2a3f5f"
           }
          },
          "ternary": {
           "aaxis": {
            "gridcolor": "white",
            "linecolor": "white",
            "ticks": ""
           },
           "baxis": {
            "gridcolor": "white",
            "linecolor": "white",
            "ticks": ""
           },
           "bgcolor": "#E5ECF6",
           "caxis": {
            "gridcolor": "white",
            "linecolor": "white",
            "ticks": ""
           }
          },
          "title": {
           "x": 0.05
          },
          "xaxis": {
           "automargin": true,
           "gridcolor": "white",
           "linecolor": "white",
           "ticks": "",
           "title": {
            "standoff": 15
           },
           "zerolinecolor": "white",
           "zerolinewidth": 2
          },
          "yaxis": {
           "automargin": true,
           "gridcolor": "white",
           "linecolor": "white",
           "ticks": "",
           "title": {
            "standoff": 15
           },
           "zerolinecolor": "white",
           "zerolinewidth": 2
          }
         }
        },
        "title": {
         "text": "8 school results"
        },
        "width": 800,
        "xaxis": {
         "anchor": "y",
         "domain": [
          0,
          0.2888888888888889
         ]
        },
        "xaxis2": {
         "anchor": "y2",
         "domain": [
          0.35555555555555557,
          0.6444444444444445
         ]
        },
        "xaxis3": {
         "anchor": "y3",
         "domain": [
          0.7111111111111111,
          1
         ]
        },
        "xaxis4": {
         "anchor": "y4",
         "domain": [
          0,
          0.2888888888888889
         ]
        },
        "xaxis5": {
         "anchor": "y5",
         "domain": [
          0.35555555555555557,
          0.6444444444444445
         ]
        },
        "xaxis6": {
         "anchor": "y6",
         "domain": [
          0.7111111111111111,
          1
         ]
        },
        "xaxis7": {
         "anchor": "y7",
         "domain": [
          0,
          0.2888888888888889
         ]
        },
        "xaxis8": {
         "anchor": "y8",
         "domain": [
          0.35555555555555557,
          0.6444444444444445
         ]
        },
        "xaxis9": {
         "anchor": "y9",
         "domain": [
          0.7111111111111111,
          1
         ]
        },
        "yaxis": {
         "anchor": "x",
         "domain": [
          0.7333333333333333,
          1
         ]
        },
        "yaxis2": {
         "anchor": "x2",
         "domain": [
          0.7333333333333333,
          1
         ]
        },
        "yaxis3": {
         "anchor": "x3",
         "domain": [
          0.7333333333333333,
          1
         ]
        },
        "yaxis4": {
         "anchor": "x4",
         "domain": [
          0.36666666666666664,
          0.6333333333333333
         ]
        },
        "yaxis5": {
         "anchor": "x5",
         "domain": [
          0.36666666666666664,
          0.6333333333333333
         ]
        },
        "yaxis6": {
         "anchor": "x6",
         "domain": [
          0.36666666666666664,
          0.6333333333333333
         ]
        },
        "yaxis7": {
         "anchor": "x7",
         "domain": [
          0,
          0.26666666666666666
         ]
        },
        "yaxis8": {
         "anchor": "x8",
         "domain": [
          0,
          0.26666666666666666
         ]
        },
        "yaxis9": {
         "anchor": "x9",
         "domain": [
          0,
          0.26666666666666666
         ]
        }
       }
      }
     },
     "metadata": {},
     "output_type": "display_data"
    }
   ],
   "source": [
    "\n",
    "fig = make_subplots(rows=3, cols=3)\n",
    "\n",
    "fig.add_trace(\n",
    "    ff.create_distplot(),\n",
    "    row=1, col=1\n",
    ")\n",
    "\n",
    "fig.add_trace(\n",
    "    go.Scatter(x=[20, 30, 40], y=[50, 60, 70],mode='lines'),\n",
    "    row=1, col=2\n",
    ")\n",
    "\n",
    "fig.update_layout(height=600, width=800, title_text=\"8 school results\")\n",
    "fig.show()"
   ]
  },
  {
   "cell_type": "code",
   "execution_count": null,
   "metadata": {},
   "outputs": [],
   "source": [
    "fig,ax = plt.subplots(3,3,figsize=(16,16))\n",
    "\n",
    "for i in range(8):\n",
    "    sns.kdeplot(trace_non_cent_df['theta['+str(i)+']'],label=f\"non centered NUTS(Blackjax)\" ,ax=ax[int(i/3)][i%3])\n",
    "    sns.kdeplot(trace_cent_df['theta['+str(i)+']'],label=f\"centered NUTS (blackjax)\" ,ax=ax[int(i/3)][i%3])\n",
    "\n",
    "    ax[int(i/3)][i%3].legend(loc=2)\n"
   ]
  }
 ],
 "metadata": {
  "kernelspec": {
   "display_name": "Python 3.7.13 ('srip')",
   "language": "python",
   "name": "python3"
  },
  "language_info": {
   "codemirror_mode": {
    "name": "ipython",
    "version": 3
   },
   "file_extension": ".py",
   "mimetype": "text/x-python",
   "name": "python",
   "nbconvert_exporter": "python",
   "pygments_lexer": "ipython3",
   "version": "3.7.13"
  },
  "orig_nbformat": 4,
  "vscode": {
   "interpreter": {
    "hash": "31cf91725cfa433ed6f8f914e51425bfdb4b966b135703f258bb56c1780b6111"
   }
  }
 },
 "nbformat": 4,
 "nbformat_minor": 2
}
