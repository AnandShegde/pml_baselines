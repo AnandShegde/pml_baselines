{
 "cells": [
  {
   "cell_type": "code",
   "execution_count": 17,
   "metadata": {},
   "outputs": [],
   "source": [
    "import pickle\n",
    "import jax\n",
    "\n",
    "import matplotlib.pyplot as plt\n",
    "import jax.numpy as jnp\n",
    "import tensorflow_probability.substrates.jax as tfp\n",
    "from scipy.stats import gaussian_kde\n",
    "import plotly.express as px\n",
    "import pandas as pd\n",
    "import pickle\n",
    "tfd = tfp.distributions"
   ]
  },
  {
   "cell_type": "code",
   "execution_count": 18,
   "metadata": {},
   "outputs": [],
   "source": [
    "def get_data(file_name):\n",
    "    with open(file_name,'rb') as f:\n",
    "        all_data = pickle.load(f)\n",
    "    samples = all_data['samples']\n",
    "    alpha_prior = all_data['prior']['alpha']\n",
    "    beta_prior = all_data['prior']['beta']\n",
    "    return samples, alpha_prior, beta_prior"
   ]
  },
  {
   "cell_type": "code",
   "execution_count": 19,
   "metadata": {},
   "outputs": [
    {
     "data": {
      "image/png": "[encoded data removed]",
      "text/plain": [
       "<Figure size 432x288 with 1 Axes>"
      ]
     },
     "metadata": {
      "needs_background": "light"
     },
     "output_type": "display_data"
    }
   ],
   "source": [
    "samples, alpha_prior, beta_prior = get_data(\"../../data/coin_toss\")\n",
    "plt.hist(samples)\n",
    "plt.ylabel(\"frequency\")\n",
    "plt.title(\"Given Data\")\n",
    "plt.show()"
   ]
  },
  {
   "cell_type": "code",
   "execution_count": 20,
   "metadata": {},
   "outputs": [],
   "source": [
    "samples,alpha_prior,beta_prior = get_data(\"../../data/coin_toss\")\n",
    "x = jnp.linspace(0,1,100)\n",
    "one= jnp.sum(samples==1).astype('float32')\n",
    "zero= jnp.sum(samples==0).astype('float32')\n",
    "true_post_dist = tfd.Beta(alpha_prior+one,beta_prior+zero)\n",
    "true_post_pdf = true_post_dist.prob(x)"
   ]
  },
  {
   "cell_type": "code",
   "execution_count": 21,
   "metadata": {},
   "outputs": [],
   "source": [
    "with open('results_data/coin_toss_VI_Ajax_result','rb') as f:\n",
    "    variational  = pickle.load(f)\n",
    "ajax_vi_pdf = jnp.exp(variational.log_prob({\"theta\":x}))"
   ]
  },
  {
   "cell_type": "code",
   "execution_count": 22,
   "metadata": {},
   "outputs": [],
   "source": [
    "with open('results_data/MCMC_BlackJAX','rb') as black_f:\n",
    "    black_samples = pickle.load(black_f)\n",
    "kde_black = gaussian_kde(black_samples,bw_method=0.3)\n",
    "pdf_black = kde_black(x)"
   ]
  },
  {
   "cell_type": "code",
   "execution_count": 23,
   "metadata": {},
   "outputs": [],
   "source": [
    "with open('results_data/coin_toss_laplace_result','rb') as f:\n",
    "    laplace_normal  = pickle.load(f)\n",
    "laplace_pdf = laplace_normal.prob(x)"
   ]
  },
  {
   "cell_type": "code",
   "execution_count": 24,
   "metadata": {},
   "outputs": [
    {
     "data": {
      "application/vnd.plotly.v1+json": {
       "config": {
        "plotlyServerURL": "https://plot.ly"
       },
       "data": [
        {
         "hovertemplate": "label=True Posterior<br>theta=%{x}<br>PDF=%{y}<extra></extra>",
         "legendgroup": "True Posterior",
         "line": {
          "color": "#636efa",
          "dash": "solid"
         },
         "marker": {
          "symbol": "circle"
         },
         "mode": "lines",
         "name": "True Posterior",
         "orientation": "v",
         "showlegend": true,
         "type": "scatter",
         "x": [
          0,
          0.010101010091602802,
          0.020202020183205605,
          0.03030303120613098,
          0.04040404036641121,
          0.05050504952669144,
          0.06060606241226196,
          0.07070706784725189,
          0.08080808073282242,
          0.09090909361839294,
          0.10101009905338287,
          0.1111111119389534,
          0.12121212482452393,
          0.13131313025951385,
          0.14141413569450378,
          0.1515151560306549,
          0.16161616146564484,
          0.17171716690063477,
          0.1818181872367859,
          0.19191919267177582,
          0.20202019810676575,
          0.21212121844291687,
          0.2222222238779068,
          0.23232322931289673,
          0.24242424964904785,
          0.2525252401828766,
          0.2626262605190277,
          0.27272728085517883,
          0.28282827138900757,
          0.2929292917251587,
          0.3030303120613098,
          0.31313130259513855,
          0.3232323229312897,
          0.3333333432674408,
          0.34343433380126953,
          0.35353535413742065,
          0.3636363744735718,
          0.3737373650074005,
          0.38383838534355164,
          0.39393940567970276,
          0.4040403962135315,
          0.4141414165496826,
          0.42424243688583374,
          0.4343434274196625,
          0.4444444477558136,
          0.4545454680919647,
          0.46464645862579346,
          0.4747474789619446,
          0.4848484992980957,
          0.49494948983192444,
          0.5050504803657532,
          0.5151515007019043,
          0.5252525210380554,
          0.5353535413742065,
          0.5454545617103577,
          0.5555555820465088,
          0.5656565427780151,
          0.5757575631141663,
          0.5858585834503174,
          0.5959596037864685,
          0.6060606241226196,
          0.6161616444587708,
          0.6262626051902771,
          0.6363636255264282,
          0.6464646458625793,
          0.6565656661987305,
          0.6666666865348816,
          0.6767676472663879,
          0.6868686676025391,
          0.6969696879386902,
          0.7070707082748413,
          0.7171717286109924,
          0.7272727489471436,
          0.7373737096786499,
          0.747474730014801,
          0.7575757503509521,
          0.7676767706871033,
          0.7777777910232544,
          0.7878788113594055,
          0.7979797720909119,
          0.808080792427063,
          0.8181818127632141,
          0.8282828330993652,
          0.8383838534355164,
          0.8484848737716675,
          0.8585858345031738,
          0.868686854839325,
          0.8787878751754761,
          0.8888888955116272,
          0.8989899158477783,
          0.9090909361839294,
          0.9191918969154358,
          0.9292929172515869,
          0.939393937587738,
          0.9494949579238892,
          0.9595959782600403,
          0.9696969985961914,
          0.9797979593276978,
          0.9898989796638489,
          1
         ],
         "xaxis": "x",
         "y": [
          0,
          4.000641816512323e-24,
          4.450112271334352e-19,
          3.714626991283476e-16,
          4.1793720312885765e-14,
          1.5669284446351295e-12,
          2.9296322312521994e-11,
          3.386774194424902e-10,
          2.752358119195719e-9,
          1.708112051801436e-8,
          8.565537257254618e-8,
          3.6133724279352464e-7,
          0.0000013210009228714625,
          0.000004280818757251836,
          0.00001251391222467646,
          0.000033460742997704074,
          0.00008275676373159513,
          0.00019105919636785984,
          0.0004148657026235014,
          0.0008526401361450553,
          0.0016674662474542856,
          0.003117132931947708,
          0.005591795779764652,
          0.00965840369462967,
          0.016109632328152657,
          0.026013704016804695,
          0.04075929522514343,
          0.062089722603559494,
          0.09211583435535431,
          0.13330599665641785,
          0.1884349286556244,
          0.26049864292144775,
          0.3525830805301666,
          0.4676859378814697,
          0.6085121631622314,
          0.7772322297096252,
          0.9752284288406372,
          1.2028483152389526,
          1.459193468093872,
          1.741934895515442,
          2.0472304821014404,
          2.3696706295013428,
          2.7024009227752686,
          3.037290096282959,
          3.365220069885254,
          3.6764395236968994,
          3.9610557556152344,
          4.20951509475708,
          4.41304874420166,
          4.564237117767334,
          4.657375812530518,
          4.688857078552246,
          4.657331466674805,
          4.563827991485596,
          4.411727428436279,
          4.206521034240723,
          3.9555444717407227,
          3.6675446033477783,
          3.35221529006958,
          3.019660711288452,
          2.679903268814087,
          2.3423893451690674,
          2.0155832767486572,
          1.7066470384597778,
          1.4212242364883423,
          1.1633328199386597,
          0.9353723526000977,
          0.7382205724716187,
          0.571417510509491,
          0.43340012431144714,
          0.32177290320396423,
          0.23357941210269928,
          0.16557195782661438,
          0.11443967372179031,
          0.07700061053037643,
          0.050342630594968796,
          0.03191475197672844,
          0.019571300595998764,
          0.0115779098123312,
          0.006586521863937378,
          0.003590063890442252,
          0.0018668966367840767,
          0.0009215791942551732,
          0.0004293006204534322,
          0.0001873794972198084,
          0.00007597780495416373,
          0.00002831922574841883,
          0.0000095772693384788,
          0.0000028906965781061444,
          7.62332092563156e-7,
          1.7081063674595498e-7,
          3.130835679598931e-8,
          4.451204738131764e-9,
          4.540916809236961e-10,
          2.945825527955748e-11,
          9.925942446448177e-13,
          1.1886630189254094e-14,
          2.1583484757003242e-17,
          3.920692972578708e-22,
          0
         ],
         "yaxis": "y"
        },
        {
         "hovertemplate": "label=Ajax VI estimate<br>theta=%{x}<br>PDF=%{y}<extra></extra>",
         "legendgroup": "Ajax VI estimate",
         "line": {
          "color": "#EF553B",
          "dash": "solid"
         },
         "marker": {
          "symbol": "circle"
         },
         "mode": "lines",
         "name": "Ajax VI estimate",
         "orientation": "v",
         "showlegend": true,
         "type": "scatter",
         "x": [
          0,
          0.010101010091602802,
          0.020202020183205605,
          0.03030303120613098,
          0.04040404036641121,
          0.05050504952669144,
          0.06060606241226196,
          0.07070706784725189,
          0.08080808073282242,
          0.09090909361839294,
          0.10101009905338287,
          0.1111111119389534,
          0.12121212482452393,
          0.13131313025951385,
          0.14141413569450378,
          0.1515151560306549,
          0.16161616146564484,
          0.17171716690063477,
          0.1818181872367859,
          0.19191919267177582,
          0.20202019810676575,
          0.21212121844291687,
          0.2222222238779068,
          0.23232322931289673,
          0.24242424964904785,
          0.2525252401828766,
          0.2626262605190277,
          0.27272728085517883,
          0.28282827138900757,
          0.2929292917251587,
          0.3030303120613098,
          0.31313130259513855,
          0.3232323229312897,
          0.3333333432674408,
          0.34343433380126953,
          0.35353535413742065,
          0.3636363744735718,
          0.3737373650074005,
          0.38383838534355164,
          0.39393940567970276,
          0.4040403962135315,
          0.4141414165496826,
          0.42424243688583374,
          0.4343434274196625,
          0.4444444477558136,
          0.4545454680919647,
          0.46464645862579346,
          0.4747474789619446,
          0.4848484992980957,
          0.49494948983192444,
          0.5050504803657532,
          0.5151515007019043,
          0.5252525210380554,
          0.5353535413742065,
          0.5454545617103577,
          0.5555555820465088,
          0.5656565427780151,
          0.5757575631141663,
          0.5858585834503174,
          0.5959596037864685,
          0.6060606241226196,
          0.6161616444587708,
          0.6262626051902771,
          0.6363636255264282,
          0.6464646458625793,
          0.6565656661987305,
          0.6666666865348816,
          0.6767676472663879,
          0.6868686676025391,
          0.6969696879386902,
          0.7070707082748413,
          0.7171717286109924,
          0.7272727489471436,
          0.7373737096786499,
          0.747474730014801,
          0.7575757503509521,
          0.7676767706871033,
          0.7777777910232544,
          0.7878788113594055,
          0.7979797720909119,
          0.808080792427063,
          0.8181818127632141,
          0.8282828330993652,
          0.8383838534355164,
          0.8484848737716675,
          0.8585858345031738,
          0.868686854839325,
          0.8787878751754761,
          0.8888888955116272,
          0.8989899158477783,
          0.9090909361839294,
          0.9191918969154358,
          0.9292929172515869,
          0.939393937587738,
          0.9494949579238892,
          0.9595959782600403,
          0.9696969985961914,
          0.9797979593276978,
          0.9898989796638489,
          1
         ],
         "xaxis": "x",
         "y": [
          null,
          0,
          9.373981017186005e-30,
          7.054636347263137e-24,
          4.5519413066669263e-20,
          2.566643998875886e-17,
          3.3556442638417363e-15,
          1.672075699470435e-13,
          4.223716428691793e-12,
          6.461293999837636e-11,
          6.7340943932237e-10,
          5.188732110639194e-9,
          3.1347973106221616e-8,
          1.5512061679601175e-7,
          6.499047913166578e-7,
          0.000002365569798712386,
          0.000007634266694367398,
          0.000022204581910045817,
          0.000058984071074519306,
          0.00014467473374679685,
          0.0003306537983007729,
          0.0007095661130733788,
          0.0014389969874173403,
          0.0027731386944651604,
          0.005102490074932575,
          0.009000509977340698,
          0.015274623408913612,
          0.025017039850354195,
          0.039649758487939835,
          0.060956861823797226,
          0.0910952240228653,
          0.13257701694965363,
          0.1882176548242569,
          0.2610410451889038,
          0.354145884513855,
          0.4705299735069275,
          0.6128801703453064,
          0.7833387851715088,
          0.9832600951194763,
          1.2129738330841064,
          1.4715726375579834,
          1.7567514181137085,
          2.064702033996582,
          2.3900973796844482,
          2.726163625717163,
          3.0648484230041504,
          3.3970787525177,
          3.713132381439209,
          4.003037929534912,
          4.257061958312988,
          4.466195583343506,
          4.622642517089844,
          4.720248699188232,
          4.754879951477051,
          4.724678039550781,
          4.630209445953369,
          4.474468231201172,
          4.262740612030029,
          4.002349853515625,
          3.702258586883545,
          3.372598648071289,
          3.024139165878296,
          2.667720317840576,
          2.3137078285217285,
          1.9715079069137573,
          1.6491575241088867,
          1.353023648262024,
          1.0876376628875732,
          0.8556514978408813,
          0.6579281091690063,
          0.4937308430671692,
          0.36100155115127563,
          0.2566939890384674,
          0.17712506651878357,
          0.11831449717283249,
          0.07629144191741943,
          0.04733659699559212,
          0.02815721184015274,
          0.015987621620297432,
          0.00862183328717947,
          0.0043900348246097565,
          0.0020958269014954567,
          0.0009303382248617709,
          0.00038015597965568304,
          0.00014125746383797377,
          0.00004701709985965863,
          0.000013757324268226512,
          0.0000034554868761915714,
          7.225204399219365e-7,
          1.207746578302249e-7,
          1.5281132803579567e-8,
          1.3562984069181994e-9,
          7.565654353003382e-11,
          2.2461015252578376e-12,
          2.7165002221946587e-14,
          8.39057073264717e-17,
          2.6390279790012297e-20,
          9.410546070701372e-26,
          1.824781532532881e-36,
          null
         ],
         "yaxis": "y"
        },
        {
         "hovertemplate": "label=Blackjax rmh estimate<br>theta=%{x}<br>PDF=%{y}<extra></extra>",
         "legendgroup": "Blackjax rmh estimate",
         "line": {
          "color": "#00cc96",
          "dash": "solid"
         },
         "marker": {
          "symbol": "circle"
         },
         "mode": "lines",
         "name": "Blackjax rmh estimate",
         "orientation": "v",
         "showlegend": true,
         "type": "scatter",
         "x": [
          0,
          0.010101010091602802,
          0.020202020183205605,
          0.03030303120613098,
          0.04040404036641121,
          0.05050504952669144,
          0.06060606241226196,
          0.07070706784725189,
          0.08080808073282242,
          0.09090909361839294,
          0.10101009905338287,
          0.1111111119389534,
          0.12121212482452393,
          0.13131313025951385,
          0.14141413569450378,
          0.1515151560306549,
          0.16161616146564484,
          0.17171716690063477,
          0.1818181872367859,
          0.19191919267177582,
          0.20202019810676575,
          0.21212121844291687,
          0.2222222238779068,
          0.23232322931289673,
          0.24242424964904785,
          0.2525252401828766,
          0.2626262605190277,
          0.27272728085517883,
          0.28282827138900757,
          0.2929292917251587,
          0.3030303120613098,
          0.31313130259513855,
          0.3232323229312897,
          0.3333333432674408,
          0.34343433380126953,
          0.35353535413742065,
          0.3636363744735718,
          0.3737373650074005,
          0.38383838534355164,
          0.39393940567970276,
          0.4040403962135315,
          0.4141414165496826,
          0.42424243688583374,
          0.4343434274196625,
          0.4444444477558136,
          0.4545454680919647,
          0.46464645862579346,
          0.4747474789619446,
          0.4848484992980957,
          0.49494948983192444,
          0.5050504803657532,
          0.5151515007019043,
          0.5252525210380554,
          0.5353535413742065,
          0.5454545617103577,
          0.5555555820465088,
          0.5656565427780151,
          0.5757575631141663,
          0.5858585834503174,
          0.5959596037864685,
          0.6060606241226196,
          0.6161616444587708,
          0.6262626051902771,
          0.6363636255264282,
          0.6464646458625793,
          0.6565656661987305,
          0.6666666865348816,
          0.6767676472663879,
          0.6868686676025391,
          0.6969696879386902,
          0.7070707082748413,
          0.7171717286109924,
          0.7272727489471436,
          0.7373737096786499,
          0.747474730014801,
          0.7575757503509521,
          0.7676767706871033,
          0.7777777910232544,
          0.7878788113594055,
          0.7979797720909119,
          0.808080792427063,
          0.8181818127632141,
          0.8282828330993652,
          0.8383838534355164,
          0.8484848737716675,
          0.8585858345031738,
          0.868686854839325,
          0.8787878751754761,
          0.8888888955116272,
          0.8989899158477783,
          0.9090909361839294,
          0.9191918969154358,
          0.9292929172515869,
          0.939393937587738,
          0.9494949579238892,
          0.9595959782600403,
          0.9696969985961914,
          0.9797979593276978,
          0.9898989796638489,
          1
         ],
         "xaxis": "x",
         "y": [
          9.737293582456919e-20,
          2.9611605955617235e-18,
          7.678756669254668e-17,
          1.6981600282591543e-15,
          3.2031804509183304e-14,
          5.154185455172322e-13,
          7.075885016805117e-12,
          8.289251923754293e-11,
          8.287983077615024e-10,
          7.074233643322714e-9,
          5.1561826808210753e-8,
          3.2103611147249467e-7,
          0.000001708309241621464,
          0.000007774300684104674,
          0.000030288038033177145,
          0.00010117098281625658,
          0.0002904456341639161,
          0.0007195230573415756,
          0.0015488187782466412,
          0.0029321645852178335,
          0.004984657280147076,
          0.007863692007958889,
          0.012019610032439232,
          0.018506692722439766,
          0.02910151332616806,
          0.04603087529540062,
          0.07132693380117416,
          0.10600928962230682,
          0.14943186938762665,
          0.19933347404003143,
          0.25317293405532837,
          0.31072601675987244,
          0.3767388164997101,
          0.4616703391075134,
          0.5791765451431274,
          0.7408252954483032,
          0.9504279494285583,
          1.2011929750442505,
          1.4780687093734741,
          1.7650680541992188,
          2.0537595748901367,
          2.3467774391174316,
          2.652466297149658,
          2.973710298538208,
          3.2998292446136475,
          3.6087071895599365,
          3.8778369426727295,
          4.095343112945557,
          4.262068748474121,
          4.383636474609375,
          4.460620403289795,
          4.486571311950684,
          4.455140113830566,
          4.368040561676025,
          4.235655307769775,
          4.070135116577148,
          3.8772335052490234,
          3.6530139446258545,
          3.3878235816955566,
          3.0759129524230957,
          2.725437879562378,
          2.361461877822876,
          2.0175676345825195,
          1.7201679944992065,
          1.476570963859558,
          1.2753089666366577,
          1.097147822380066,
          0.9273829460144043,
          0.7614505887031555,
          0.6031609177589417,
          0.4598597288131714,
          0.33831220865249634,
          0.24221986532211304,
          0.1711449921131134,
          0.12102290242910385,
          0.08617404848337173,
          0.06160743162035942,
          0.04416442662477493,
          0.03214007988572121,
          0.024248603731393814,
          0.01901978999376297,
          0.014995509758591652,
          0.011269964277744293,
          0.007712343707680702,
          0.004665564280003309,
          0.002453806111589074,
          0.0011119847185909748,
          0.0004320964217185974,
          0.00014358817134052515,
          0.000040741473640082404,
          0.000009861098988039885,
          0.0000020348345515230903,
          3.5782335316980607e-7,
          5.360813659649466e-8,
          6.841202271345992e-9,
          7.435563831315051e-10,
          6.882255876305976e-11,
          5.424459492697764e-12,
          3.6404264477062076e-13,
          2.0801985690086823e-14
         ],
         "yaxis": "y"
        },
        {
         "hovertemplate": "label=Laplace approximation<br>theta=%{x}<br>PDF=%{y}<extra></extra>",
         "legendgroup": "Laplace approximation",
         "line": {
          "color": "#ab63fa",
          "dash": "solid"
         },
         "marker": {
          "symbol": "circle"
         },
         "mode": "lines",
         "name": "Laplace approximation",
         "orientation": "v",
         "showlegend": true,
         "type": "scatter",
         "x": [
          0,
          0.010101010091602802,
          0.020202020183205605,
          0.03030303120613098,
          0.04040404036641121,
          0.05050504952669144,
          0.06060606241226196,
          0.07070706784725189,
          0.08080808073282242,
          0.09090909361839294,
          0.10101009905338287,
          0.1111111119389534,
          0.12121212482452393,
          0.13131313025951385,
          0.14141413569450378,
          0.1515151560306549,
          0.16161616146564484,
          0.17171716690063477,
          0.1818181872367859,
          0.19191919267177582,
          0.20202019810676575,
          0.21212121844291687,
          0.2222222238779068,
          0.23232322931289673,
          0.24242424964904785,
          0.2525252401828766,
          0.2626262605190277,
          0.27272728085517883,
          0.28282827138900757,
          0.2929292917251587,
          0.3030303120613098,
          0.31313130259513855,
          0.3232323229312897,
          0.3333333432674408,
          0.34343433380126953,
          0.35353535413742065,
          0.3636363744735718,
          0.3737373650074005,
          0.38383838534355164,
          0.39393940567970276,
          0.4040403962135315,
          0.4141414165496826,
          0.42424243688583374,
          0.4343434274196625,
          0.4444444477558136,
          0.4545454680919647,
          0.46464645862579346,
          0.4747474789619446,
          0.4848484992980957,
          0.49494948983192444,
          0.5050504803657532,
          0.5151515007019043,
          0.5252525210380554,
          0.5353535413742065,
          0.5454545617103577,
          0.5555555820465088,
          0.5656565427780151,
          0.5757575631141663,
          0.5858585834503174,
          0.5959596037864685,
          0.6060606241226196,
          0.6161616444587708,
          0.6262626051902771,
          0.6363636255264282,
          0.6464646458625793,
          0.6565656661987305,
          0.6666666865348816,
          0.6767676472663879,
          0.6868686676025391,
          0.6969696879386902,
          0.7070707082748413,
          0.7171717286109924,
          0.7272727489471436,
          0.7373737096786499,
          0.747474730014801,
          0.7575757503509521,
          0.7676767706871033,
          0.7777777910232544,
          0.7878788113594055,
          0.7979797720909119,
          0.808080792427063,
          0.8181818127632141,
          0.8282828330993652,
          0.8383838534355164,
          0.8484848737716675,
          0.8585858345031738,
          0.868686854839325,
          0.8787878751754761,
          0.8888888955116272,
          0.8989899158477783,
          0.9090909361839294,
          0.9191918969154358,
          0.9292929172515869,
          0.939393937587738,
          0.9494949579238892,
          0.9595959782600403,
          0.9696969985961914,
          0.9797979593276978,
          0.9898989796638489,
          1
         ],
         "xaxis": "x",
         "y": [
          1.1160193480463931e-7,
          2.20455717681034e-7,
          4.2965262991856434e-7,
          8.261497441708343e-7,
          0.0000015672769677621545,
          0.0000029334446480788756,
          0.000005416960902948631,
          0.000009869136192719452,
          0.00001773977783159353,
          0.000031460302125196904,
          0.00005504562068381347,
          0.00009502290049567819,
          0.0001618376118130982,
          0.0002719419717323035,
          0.0004508360871113837,
          0.0007374067790806293,
          0.00118997972458601,
          0.0018946040654554963,
          0.0029760701581835747,
          0.004612253047525883,
          0.007052266038954258,
          0.010638727806508541,
          0.015834199264645576,
          0.023251349106431007,
          0.03368572145700455,
          0.04814916104078293,
          0.06790123134851456,
          0.0944739431142807,
          0.12968561053276062,
          0.17563746869564056,
          0.23468659818172455,
          0.3093886971473694,
          0.40240782499313354,
          0.5163856148719788,
          0.6537730097770691,
          0.8166308403015137,
          1.0063982009887695,
          1.2236565351486206,
          1.4678940773010254,
          1.737302541732788,
          2.0286247730255127,
          2.3370797634124756,
          2.656384229660034,
          2.9788851737976074,
          3.2958104610443115,
          3.597627639770508,
          3.8745007514953613,
          4.116809844970703,
          4.315701484680176,
          4.463624000549316,
          4.5547990798950195,
          4.5856032371521,
          4.5547990798950195,
          4.463624000549316,
          4.315701484680176,
          4.116809368133545,
          3.8745007514953613,
          3.597627639770508,
          3.2958104610443115,
          2.9788851737976074,
          2.6563830375671387,
          2.33707857131958,
          2.0286247730255127,
          1.737302541732788,
          1.4678940773010254,
          1.2236555814743042,
          1.0063973665237427,
          0.8166308403015137,
          0.653773307800293,
          0.5163851380348206,
          0.4024076461791992,
          0.30938854813575745,
          0.23468632996082306,
          0.17563779652118683,
          0.12968555092811584,
          0.09447389096021652,
          0.06790120154619217,
          0.04814916104078293,
          0.033685702830553055,
          0.023251404985785484,
          0.01583419181406498,
          0.01063871756196022,
          0.007052259519696236,
          0.00461224839091301,
          0.002976067364215851,
          0.0018946040654554963,
          0.00118997972458601,
          0.0007374053820967674,
          0.0004508360871113837,
          0.0002719419717323035,
          0.0001618376118130982,
          0.00009502290049567819,
          0.00005504562068381347,
          0.000031460302125196904,
          0.00001773977783159353,
          0.000009869136192719452,
          0.000005416960902948631,
          0.0000029334446480788756,
          0.0000015672769677621545,
          8.261497441708343e-7
         ],
         "yaxis": "y"
        }
       ],
       "layout": {
        "legend": {
         "title": {
          "text": "label"
         },
         "tracegroupgap": 0
        },
        "margin": {
         "t": 60
        },
        "template": {
         "data": {
          "bar": [
           {
            "error_x": {
             "color": "#2a3f5f"
            },
            "error_y": {
             "color": "#2a3f5f"
            },
            "marker": {
             "line": {
              "color": "#E5ECF6",
              "width": 0.5
             },
             "pattern": {
              "fillmode": "overlay",
              "size": 10,
              "solidity": 0.2
             }
            },
            "type": "bar"
           }
          ],
          "barpolar": [
           {
            "marker": {
             "line": {
              "color": "#E5ECF6",
              "width": 0.5
             },
             "pattern": {
              "fillmode": "overlay",
              "size": 10,
              "solidity": 0.2
             }
            },
            "type": "barpolar"
           }
          ],
          "carpet": [
           {
            "aaxis": {
             "endlinecolor": "#2a3f5f",
             "gridcolor": "white",
             "linecolor": "white",
             "minorgridcolor": "white",
             "startlinecolor": "#2a3f5f"
            },
            "baxis": {
             "endlinecolor": "#2a3f5f",
             "gridcolor": "white",
             "linecolor": "white",
             "minorgridcolor": "white",
             "startlinecolor": "#2a3f5f"
            },
            "type": "carpet"
           }
          ],
          "choropleth": [
           {
            "colorbar": {
             "outlinewidth": 0,
             "ticks": ""
            },
            "type": "choropleth"
           }
          ],
          "contour": [
           {
            "colorbar": {
             "outlinewidth": 0,
             "ticks": ""
            },
            "colorscale": [
             [
              0,
              "#0d0887"
             ],
             [
              0.1111111111111111,
              "#46039f"
             ],
             [
              0.2222222222222222,
              "#7201a8"
             ],
             [
              0.3333333333333333,
              "#9c179e"
             ],
             [
              0.4444444444444444,
              "#bd3786"
             ],
             [
              0.5555555555555556,
              "#d8576b"
             ],
             [
              0.6666666666666666,
              "#ed7953"
             ],
             [
              0.7777777777777778,
              "#fb9f3a"
             ],
             [
              0.8888888888888888,
              "#fdca26"
             ],
             [
              1,
              "#f0f921"
             ]
            ],
            "type": "contour"
           }
          ],
          "contourcarpet": [
           {
            "colorbar": {
             "outlinewidth": 0,
             "ticks": ""
            },
            "type": "contourcarpet"
           }
          ],
          "heatmap": [
           {
            "colorbar": {
             "outlinewidth": 0,
             "ticks": ""
            },
            "colorscale": [
             [
              0,
              "#0d0887"
             ],
             [
              0.1111111111111111,
              "#46039f"
             ],
             [
              0.2222222222222222,
              "#7201a8"
             ],
             [
              0.3333333333333333,
              "#9c179e"
             ],
             [
              0.4444444444444444,
              "#bd3786"
             ],
             [
              0.5555555555555556,
              "#d8576b"
             ],
             [
              0.6666666666666666,
              "#ed7953"
             ],
             [
              0.7777777777777778,
              "#fb9f3a"
             ],
             [
              0.8888888888888888,
              "#fdca26"
             ],
             [
              1,
              "#f0f921"
             ]
            ],
            "type": "heatmap"
           }
          ],
          "heatmapgl": [
           {
            "colorbar": {
             "outlinewidth": 0,
             "ticks": ""
            },
            "colorscale": [
             [
              0,
              "#0d0887"
             ],
             [
              0.1111111111111111,
              "#46039f"
             ],
             [
              0.2222222222222222,
              "#7201a8"
             ],
             [
              0.3333333333333333,
              "#9c179e"
             ],
             [
              0.4444444444444444,
              "#bd3786"
             ],
             [
              0.5555555555555556,
              "#d8576b"
             ],
             [
              0.6666666666666666,
              "#ed7953"
             ],
             [
              0.7777777777777778,
              "#fb9f3a"
             ],
             [
              0.8888888888888888,
              "#fdca26"
             ],
             [
              1,
              "#f0f921"
             ]
            ],
            "type": "heatmapgl"
           }
          ],
          "histogram": [
           {
            "marker": {
             "pattern": {
              "fillmode": "overlay",
              "size": 10,
              "solidity": 0.2
             }
            },
            "type": "histogram"
           }
          ],
          "histogram2d": [
           {
            "colorbar": {
             "outlinewidth": 0,
             "ticks": ""
            },
            "colorscale": [
             [
              0,
              "#0d0887"
             ],
             [
              0.1111111111111111,
              "#46039f"
             ],
             [
              0.2222222222222222,
              "#7201a8"
             ],
             [
              0.3333333333333333,
              "#9c179e"
             ],
             [
              0.4444444444444444,
              "#bd3786"
             ],
             [
              0.5555555555555556,
              "#d8576b"
             ],
             [
              0.6666666666666666,
              "#ed7953"
             ],
             [
              0.7777777777777778,
              "#fb9f3a"
             ],
             [
              0.8888888888888888,
              "#fdca26"
             ],
             [
              1,
              "#f0f921"
             ]
            ],
            "type": "histogram2d"
           }
          ],
          "histogram2dcontour": [
           {
            "colorbar": {
             "outlinewidth": 0,
             "ticks": ""
            },
            "colorscale": [
             [
              0,
              "#0d0887"
             ],
             [
              0.1111111111111111,
              "#46039f"
             ],
             [
              0.2222222222222222,
              "#7201a8"
             ],
             [
              0.3333333333333333,
              "#9c179e"
             ],
             [
              0.4444444444444444,
              "#bd3786"
             ],
             [
              0.5555555555555556,
              "#d8576b"
             ],
             [
              0.6666666666666666,
              "#ed7953"
             ],
             [
              0.7777777777777778,
              "#fb9f3a"
             ],
             [
              0.8888888888888888,
              "#fdca26"
             ],
             [
              1,
              "#f0f921"
             ]
            ],
            "type": "histogram2dcontour"
           }
          ],
          "mesh3d": [
           {
            "colorbar": {
             "outlinewidth": 0,
             "ticks": ""
            },
            "type": "mesh3d"
           }
          ],
          "parcoords": [
           {
            "line": {
             "colorbar": {
              "outlinewidth": 0,
              "ticks": ""
             }
            },
            "type": "parcoords"
           }
          ],
          "pie": [
           {
            "automargin": true,
            "type": "pie"
           }
          ],
          "scatter": [
           {
            "fillpattern": {
             "fillmode": "overlay",
             "size": 10,
             "solidity": 0.2
            },
            "type": "scatter"
           }
          ],
          "scatter3d": [
           {
            "line": {
             "colorbar": {
              "outlinewidth": 0,
              "ticks": ""
             }
            },
            "marker": {
             "colorbar": {
              "outlinewidth": 0,
              "ticks": ""
             }
            },
            "type": "scatter3d"
           }
          ],
          "scattercarpet": [
           {
            "marker": {
             "colorbar": {
              "outlinewidth": 0,
              "ticks": ""
             }
            },
            "type": "scattercarpet"
           }
          ],
          "scattergeo": [
           {
            "marker": {
             "colorbar": {
              "outlinewidth": 0,
              "ticks": ""
             }
            },
            "type": "scattergeo"
           }
          ],
          "scattergl": [
           {
            "marker": {
             "colorbar": {
              "outlinewidth": 0,
              "ticks": ""
             }
            },
            "type": "scattergl"
           }
          ],
          "scattermapbox": [
           {
            "marker": {
             "colorbar": {
              "outlinewidth": 0,
              "ticks": ""
             }
            },
            "type": "scattermapbox"
           }
          ],
          "scatterpolar": [
           {
            "marker": {
             "colorbar": {
              "outlinewidth": 0,
              "ticks": ""
             }
            },
            "type": "scatterpolar"
           }
          ],
          "scatterpolargl": [
           {
            "marker": {
             "colorbar": {
              "outlinewidth": 0,
              "ticks": ""
             }
            },
            "type": "scatterpolargl"
           }
          ],
          "scatterternary": [
           {
            "marker": {
             "colorbar": {
              "outlinewidth": 0,
              "ticks": ""
             }
            },
            "type": "scatterternary"
           }
          ],
          "surface": [
           {
            "colorbar": {
             "outlinewidth": 0,
             "ticks": ""
            },
            "colorscale": [
             [
              0,
              "#0d0887"
             ],
             [
              0.1111111111111111,
              "#46039f"
             ],
             [
              0.2222222222222222,
              "#7201a8"
             ],
             [
              0.3333333333333333,
              "#9c179e"
             ],
             [
              0.4444444444444444,
              "#bd3786"
             ],
             [
              0.5555555555555556,
              "#d8576b"
             ],
             [
              0.6666666666666666,
              "#ed7953"
             ],
             [
              0.7777777777777778,
              "#fb9f3a"
             ],
             [
              0.8888888888888888,
              "#fdca26"
             ],
             [
              1,
              "#f0f921"
             ]
            ],
            "type": "surface"
           }
          ],
          "table": [
           {
            "cells": {
             "fill": {
              "color": "#EBF0F8"
             },
             "line": {
              "color": "white"
             }
            },
            "header": {
             "fill": {
              "color": "#C8D4E3"
             },
             "line": {
              "color": "white"
             }
            },
            "type": "table"
           }
          ]
         },
         "layout": {
          "annotationdefaults": {
           "arrowcolor": "#2a3f5f",
           "arrowhead": 0,
           "arrowwidth": 1
          },
          "autotypenumbers": "strict",
          "coloraxis": {
           "colorbar": {
            "outlinewidth": 0,
            "ticks": ""
           }
          },
          "colorscale": {
           "diverging": [
            [
             0,
             "#8e0152"
            ],
            [
             0.1,
             "#c51b7d"
            ],
            [
             0.2,
             "#de77ae"
            ],
            [
             0.3,
             "#f1b6da"
            ],
            [
             0.4,
             "#fde0ef"
            ],
            [
             0.5,
             "#f7f7f7"
            ],
            [
             0.6,
             "#e6f5d0"
            ],
            [
             0.7,
             "#b8e186"
            ],
            [
             0.8,
             "#7fbc41"
            ],
            [
             0.9,
             "#4d9221"
            ],
            [
             1,
             "#276419"
            ]
           ],
           "sequential": [
            [
             0,
             "#0d0887"
            ],
            [
             0.1111111111111111,
             "#46039f"
            ],
            [
             0.2222222222222222,
             "#7201a8"
            ],
            [
             0.3333333333333333,
             "#9c179e"
            ],
            [
             0.4444444444444444,
             "#bd3786"
            ],
            [
             0.5555555555555556,
             "#d8576b"
            ],
            [
             0.6666666666666666,
             "#ed7953"
            ],
            [
             0.7777777777777778,
             "#fb9f3a"
            ],
            [
             0.8888888888888888,
             "#fdca26"
            ],
            [
             1,
             "#f0f921"
            ]
           ],
           "sequentialminus": [
            [
             0,
             "#0d0887"
            ],
            [
             0.1111111111111111,
             "#46039f"
            ],
            [
             0.2222222222222222,
             "#7201a8"
            ],
            [
             0.3333333333333333,
             "#9c179e"
            ],
            [
             0.4444444444444444,
             "#bd3786"
            ],
            [
             0.5555555555555556,
             "#d8576b"
            ],
            [
             0.6666666666666666,
             "#ed7953"
            ],
            [
             0.7777777777777778,
             "#fb9f3a"
            ],
            [
             0.8888888888888888,
             "#fdca26"
            ],
            [
             1,
             "#f0f921"
            ]
           ]
          },
          "colorway": [
           "#636efa",
           "#EF553B",
           "#00cc96",
           "#ab63fa",
           "#FFA15A",
           "#19d3f3",
           "#FF6692",
           "#B6E880",
           "#FF97FF",
           "#FECB52"
          ],
          "font": {
           "color": "#2a3f5f"
          },
          "geo": {
           "bgcolor": "white",
           "lakecolor": "white",
           "landcolor": "#E5ECF6",
           "showlakes": true,
           "showland": true,
           "subunitcolor": "white"
          },
          "hoverlabel": {
           "align": "left"
          },
          "hovermode": "closest",
          "mapbox": {
           "style": "light"
          },
          "paper_bgcolor": "white",
          "plot_bgcolor": "#E5ECF6",
          "polar": {
           "angularaxis": {
            "gridcolor": "white",
            "linecolor": "white",
            "ticks": ""
           },
           "bgcolor": "#E5ECF6",
           "radialaxis": {
            "gridcolor": "white",
            "linecolor": "white",
            "ticks": ""
           }
          },
          "scene": {
           "xaxis": {
            "backgroundcolor": "#E5ECF6",
            "gridcolor": "white",
            "gridwidth": 2,
            "linecolor": "white",
            "showbackground": true,
            "ticks": "",
            "zerolinecolor": "white"
           },
           "yaxis": {
            "backgroundcolor": "#E5ECF6",
            "gridcolor": "white",
            "gridwidth": 2,
            "linecolor": "white",
            "showbackground": true,
            "ticks": "",
            "zerolinecolor": "white"
           },
           "zaxis": {
            "backgroundcolor": "#E5ECF6",
            "gridcolor": "white",
            "gridwidth": 2,
            "linecolor": "white",
            "showbackground": true,
            "ticks": "",
            "zerolinecolor": "white"
           }
          },
          "shapedefaults": {
           "line": {
            "color": "#2a3f5f"
           }
          },
          "ternary": {
           "aaxis": {
            "gridcolor": "white",
            "linecolor": "white",
            "ticks": ""
           },
           "baxis": {
            "gridcolor": "white",
            "linecolor": "white",
            "ticks": ""
           },
           "bgcolor": "#E5ECF6",
           "caxis": {
            "gridcolor": "white",
            "linecolor": "white",
            "ticks": ""
           }
          },
          "title": {
           "x": 0.05
          },
          "xaxis": {
           "automargin": true,
           "gridcolor": "white",
           "linecolor": "white",
           "ticks": "",
           "title": {
            "standoff": 15
           },
           "zerolinecolor": "white",
           "zerolinewidth": 2
          },
          "yaxis": {
           "automargin": true,
           "gridcolor": "white",
           "linecolor": "white",
           "ticks": "",
           "title": {
            "standoff": 15
           },
           "zerolinecolor": "white",
           "zerolinewidth": 2
          }
         }
        },
        "xaxis": {
         "anchor": "y",
         "domain": [
          0,
          1
         ],
         "title": {
          "text": "theta"
         }
        },
        "yaxis": {
         "anchor": "x",
         "domain": [
          0,
          1
         ],
         "title": {
          "text": "PDF"
         }
        }
       }
      }
     },
     "metadata": {},
     "output_type": "display_data"
    }
   ],
   "source": [
    "all_pdfs = jnp.array([true_post_pdf,ajax_vi_pdf,pdf_black,laplace_pdf]).reshape((-1))\n",
    "all_labels = [\"True Posterior\"]*x.shape[0]+[\"Ajax VI estimate\"]*x.shape[0]+[\"Blackjax rmh estimate\"]*x.shape[0]+[\"Laplace approximation\"]*x.shape[0]\n",
    "x_repeated = jnp.tile(x,4)\n",
    "to_df = {\n",
    "    \"theta\":x_repeated,\n",
    "    \"PDF\":all_pdfs,\n",
    "    \"label\": all_labels\n",
    "\n",
    "}\n",
    "df = pd.DataFrame(to_df)\n",
    "\n",
    "fig = px.line(to_df,\"theta\",\"PDF\",color=\"label\") \n",
    "fig.write_html(\"coin_toss_results.html\")\n",
    "fig.show()"
   ]
  },
  {
   "cell_type": "code",
   "execution_count": null,
   "metadata": {},
   "outputs": [],
   "source": []
  }
 ],
 "metadata": {
  "interpreter": {
   "hash": "31cf91725cfa433ed6f8f914e51425bfdb4b966b135703f258bb56c1780b6111"
  },
  "kernelspec": {
   "display_name": "Python 3.7.13 ('srip')",
   "language": "python",
   "name": "python3"
  },
  "language_info": {
   "codemirror_mode": {
    "name": "ipython",
    "version": 3
   },
   "file_extension": ".py",
   "mimetype": "text/x-python",
   "name": "python",
   "nbconvert_exporter": "python",
   "pygments_lexer": "ipython3",
   "version": "3.7.13"
  },
  "orig_nbformat": 4
 },
 "nbformat": 4,
 "nbformat_minor": 2
}
