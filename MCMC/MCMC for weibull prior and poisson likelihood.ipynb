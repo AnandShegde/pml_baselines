{
 "cells": [
  {
   "cell_type": "code",
   "execution_count": 19,
   "id": "f7cd57e1",
   "metadata": {},
   "outputs": [],
   "source": [
    "import jax\n",
    "import jax.numpy as jnp\n",
    "import distrax\n",
    "import tensorflow as tf\n",
    "import tensorflow_probability as tfp\n",
    "tfd = tfp.distributions\n",
    "try:\n",
    "    import blackjax\n",
    "except:\n",
    "    %pip install blackjax\n",
    "    import blackjax\n",
    "import seaborn as sns\n",
    "import matplotlib.pyplot as plt\n"
   ]
  },
  {
   "cell_type": "code",
   "execution_count": 7,
   "id": "fd250f47",
   "metadata": {},
   "outputs": [
    {
     "name": "stdout",
     "output_type": "stream",
     "text": [
      "Requirement already satisfied: tensorflow_probability in /home/anand/anaconda3/envs/srip/lib/python3.7/site-packages (0.16.0)\n",
      "Requirement already satisfied: numpy>=1.13.3 in /home/anand/anaconda3/envs/srip/lib/python3.7/site-packages (from tensorflow_probability) (1.21.5)\n",
      "Requirement already satisfied: six>=1.10.0 in /home/anand/anaconda3/envs/srip/lib/python3.7/site-packages (from tensorflow_probability) (1.16.0)\n",
      "Requirement already satisfied: gast>=0.3.2 in /home/anand/anaconda3/envs/srip/lib/python3.7/site-packages (from tensorflow_probability) (0.5.3)\n",
      "Requirement already satisfied: absl-py in /home/anand/anaconda3/envs/srip/lib/python3.7/site-packages (from tensorflow_probability) (1.0.0)\n",
      "Requirement already satisfied: cloudpickle>=1.3 in /home/anand/anaconda3/envs/srip/lib/python3.7/site-packages (from tensorflow_probability) (2.0.0)\n",
      "Requirement already satisfied: dm-tree in /home/anand/anaconda3/envs/srip/lib/python3.7/site-packages (from tensorflow_probability) (0.1.7)\n",
      "Requirement already satisfied: decorator in /home/anand/anaconda3/envs/srip/lib/python3.7/site-packages (from tensorflow_probability) (5.1.1)\n",
      "Note: you may need to restart the kernel to use updated packages.\n"
     ]
    }
   ],
   "source": [
    "%pip install tensorflow_probability"
   ]
  },
  {
   "cell_type": "code",
   "execution_count": 16,
   "id": "5055b020",
   "metadata": {},
   "outputs": [
    {
     "name": "stderr",
     "output_type": "stream",
     "text": [
      "2022-05-26 16:27:16.970151: W tensorflow/stream_executor/platform/default/dso_loader.cc:64] Could not load dynamic library 'libcuda.so.1'; dlerror: libcuda.so.1: cannot open shared object file: No such file or directory\n",
      "2022-05-26 16:27:16.970234: W tensorflow/stream_executor/cuda/cuda_driver.cc:269] failed call to cuInit: UNKNOWN ERROR (303)\n"
     ]
    }
   ],
   "source": [
    "poisson = tfd.Poisson(rate=10)"
   ]
  },
  {
   "cell_type": "code",
   "execution_count": 26,
   "id": "bf326b76",
   "metadata": {},
   "outputs": [
    {
     "data": {
      "text/plain": [
       "[<matplotlib.lines.Line2D at 0x7f44ea1f7bd0>]"
      ]
     },
     "execution_count": 26,
     "metadata": {},
     "output_type": "execute_result"
    },
    {
     "data": {
      "image/png": "[encoded data removed]",
      "text/plain": [
       "<Figure size 432x288 with 1 Axes>"
      ]
     },
     "metadata": {
      "needs_background": "light"
     },
     "output_type": "display_data"
    }
   ],
   "source": [
    "x = jnp.linspace(0,30,1000)\n",
    "true_pdf = poisson.prob(x)\n",
    "plt.plot(x,true_pdf)"
   ]
  },
  {
   "cell_type": "code",
   "execution_count": 28,
   "id": "806d2197",
   "metadata": {},
   "outputs": [
    {
     "data": {
      "text/plain": [
       "<tf.Tensor: shape=(2000,), dtype=float32, numpy=array([10.,  8.,  8., ...,  9., 14.,  5.], dtype=float32)>"
      ]
     },
     "execution_count": 28,
     "metadata": {},
     "output_type": "execute_result"
    }
   ],
   "source": [
    "samples = poisson.sample(sample_shape=2000)\n",
    "samples"
   ]
  },
  {
   "cell_type": "code",
   "execution_count": 27,
   "id": "a85b0f51",
   "metadata": {},
   "outputs": [
    {
     "data": {
      "image/png": "[encoded data removed]",
      "text/plain": [
       "<Figure size 432x288 with 1 Axes>"
      ]
     },
     "metadata": {
      "needs_background": "light"
     },
     "output_type": "display_data"
    }
   ],
   "source": [
    "plt.hist(samples)\n",
    "plt.xlim(0,30)\n",
    "plt.show()"
   ]
  },
  {
   "cell_type": "code",
   "execution_count": null,
   "id": "2f20bc00",
   "metadata": {},
   "outputs": [],
   "source": [
    "def log_postfun()"
   ]
  }
 ],
 "metadata": {
  "kernelspec": {
   "display_name": "Python 3 (ipykernel)",
   "language": "python",
   "name": "python3"
  },
  "language_info": {
   "codemirror_mode": {
    "name": "ipython",
    "version": 3
   },
   "file_extension": ".py",
   "mimetype": "text/x-python",
   "name": "python",
   "nbconvert_exporter": "python",
   "pygments_lexer": "ipython3",
   "version": "3.7.13"
  }
 },
 "nbformat": 4,
 "nbformat_minor": 5
}
