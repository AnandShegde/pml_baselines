{
 "cells": [
  {
   "cell_type": "code",
   "execution_count": 4,
   "metadata": {},
   "outputs": [],
   "source": [
    "import distrax\n",
    "import matplotlib.pyplot as plt\n",
    "import numpy\n",
    "import jax\n",
    "key = jax.random.PRNGKey(1)\n"
   ]
  },
  {
   "cell_type": "code",
   "execution_count": 9,
   "metadata": {},
   "outputs": [
    {
     "data": {
      "text/plain": [
       "(array([ 41., 166., 386., 630., 775., 812., 608., 381., 163.,  38.]),\n",
       " array([-1.16734825e-01, -9.33940411e-02, -7.00532645e-02, -4.67124805e-02,\n",
       "        -2.33716983e-02, -3.09161842e-05,  2.33098660e-02,  4.66506481e-02,\n",
       "         6.99914321e-02,  9.33322087e-02,  1.16672993e-01], dtype=float32),\n",
       " <BarContainer object of 10 artists>)"
      ]
     },
     "execution_count": 9,
     "metadata": {},
     "output_type": "execute_result"
    },
    {
     "data": {
      "image/png": "[encoded data removed]",
      "text/plain": [
       "<Figure size 432x288 with 1 Axes>"
      ]
     },
     "metadata": {
      "needs_background": "light"
     },
     "output_type": "display_data"
    }
   ],
   "source": [
    "uniform = distrax.Uniform()\n",
    "\n",
    "u1 = uniform.sample(seed=key,sample_shape=4000)\n",
    "key,_ = jax.random.split(key)\n",
    "u2 = uniform.sample(seed=key,sample_shape=4000)\n",
    "key,_ = jax.random.split(key)\n",
    "u3 = uniform.sample(seed=key,sample_shape=4000)\n",
    "\n",
    "\n",
    "norm = (u1+u2+u3-1.5)/12\n",
    "\n",
    "plt.hist(norm)\n",
    "print()"
   ]
  },
  {
   "cell_type": "code",
   "execution_count": null,
   "metadata": {},
   "outputs": [],
   "source": []
  }
 ],
 "metadata": {
  "interpreter": {
   "hash": "31cf91725cfa433ed6f8f914e51425bfdb4b966b135703f258bb56c1780b6111"
  },
  "kernelspec": {
   "display_name": "Python 3.7.13 ('srip')",
   "language": "python",
   "name": "python3"
  },
  "language_info": {
   "codemirror_mode": {
    "name": "ipython",
    "version": 3
   },
   "file_extension": ".py",
   "mimetype": "text/x-python",
   "name": "python",
   "nbconvert_exporter": "python",
   "pygments_lexer": "ipython3",
   "version": "3.7.13"
  },
  "orig_nbformat": 4
 },
 "nbformat": 4,
 "nbformat_minor": 2
}
