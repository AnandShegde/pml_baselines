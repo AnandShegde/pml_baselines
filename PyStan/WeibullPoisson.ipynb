{
  "nbformat": 4,
  "nbformat_minor": 0,
  "metadata": {
    "colab": {
      "name": "WeibullPoisson.ipynb",
      "provenance": [],
      "collapsed_sections": [],
      "authorship_tag": "ABX9TyN9gWSUzDKFtNr1Q2MAnRP6",
      "include_colab_link": true
    },
    "kernelspec": {
      "name": "python3",
      "display_name": "Python 3"
    },
    "language_info": {
      "name": "python"
    }
  },
  "cells": [
    {
      "cell_type": "markdown",
      "metadata": {
        "id": "view-in-github",
        "colab_type": "text"
      },
      "source": [
        "<a href=\"https://colab.research.google.com/github/AnandShegde/pml_baselines/blob/main/PyStan/WeibullPoisson.ipynb\" target=\"_parent\"><img src=\"https://colab.research.google.com/assets/colab-badge.svg\" alt=\"Open In Colab\"/></a>"
      ]
    },
    {
      "cell_type": "code",
      "source": [
        "try:\n",
        "  import pystan\n",
        "except:\n",
        "  %pip install -qq pystan\n",
        "  import pystan\n",
        "import tensorflow as tf\n",
        "import seaborn as sns\n",
        "import numpy as np\n",
        "import jax\n",
        "import jax.numpy as jnp\n",
        "!pip install tensorflow_probability\n",
        "import tensorflow_probability.substrates.jax as tfp\n",
        "tfd = tfp.distributions\n",
        "import matplotlib.pyplot as plt\n",
        "import arviz as az"
      ],
      "metadata": {
        "colab": {
          "base_uri": "https://localhost:8080/"
        },
        "id": "LJSOdUTdu31K",
        "outputId": "ea3237e6-1e9f-4588-a12a-f2f681bda9e4"
      },
      "execution_count": 112,
      "outputs": [
        {
          "output_type": "stream",
          "name": "stdout",
          "text": [
            "Looking in indexes: https://pypi.org/simple, https://us-python.pkg.dev/colab-wheels/public/simple/\n",
            "Requirement already satisfied: tensorflow_probability in /usr/local/lib/python3.7/dist-packages (0.16.0)\n",
            "Requirement already satisfied: cloudpickle>=1.3 in /usr/local/lib/python3.7/dist-packages (from tensorflow_probability) (1.3.0)\n",
            "Requirement already satisfied: dm-tree in /usr/local/lib/python3.7/dist-packages (from tensorflow_probability) (0.1.7)\n",
            "Requirement already satisfied: numpy>=1.13.3 in /usr/local/lib/python3.7/dist-packages (from tensorflow_probability) (1.21.6)\n",
            "Requirement already satisfied: gast>=0.3.2 in /usr/local/lib/python3.7/dist-packages (from tensorflow_probability) (0.5.3)\n",
            "Requirement already satisfied: decorator in /usr/local/lib/python3.7/dist-packages (from tensorflow_probability) (4.4.2)\n",
            "Requirement already satisfied: absl-py in /usr/local/lib/python3.7/dist-packages (from tensorflow_probability) (1.0.0)\n",
            "Requirement already satisfied: six>=1.10.0 in /usr/local/lib/python3.7/dist-packages (from tensorflow_probability) (1.15.0)\n"
          ]
        }
      ]
    },
    {
      "cell_type": "code",
      "source": [
        "import pickle\n",
        "file=open('/content/WeibullPoissonData/weibull_poisson','rb')\n",
        "data=pickle.load(file)\n",
        "file.close()\n",
        "data"
      ],
      "metadata": {
        "colab": {
          "base_uri": "https://localhost:8080/"
        },
        "id": "aHmtHdzjCWUw",
        "outputId": "4e7b32dd-df66-4a4f-e211-4175191f6c45"
      },
      "execution_count": 113,
      "outputs": [
        {
          "output_type": "execute_result",
          "data": {
            "text/plain": [
              "{'prior': {'k': 15, 'lambda': array([10.], dtype=float32)},\n",
              " 'samples': array([15., 17., 11., ..., 11., 13., 10.], dtype=float32)}"
            ]
          },
          "metadata": {},
          "execution_count": 113
        }
      ]
    },
    {
      "cell_type": "code",
      "source": [
        "x_space = jnp.linspace(0,30,1000)\n",
        "poisson = tfd.Poisson(rate=10)\n",
        "true_pdf = poisson.prob(x_space)\n",
        "plt.plot(x_space,true_pdf)\n",
        "plt.title(\"True PDF of the generative distribution\")\n",
        "plt.show()"
      ],
      "metadata": {
        "colab": {
          "base_uri": "https://localhost:8080/",
          "height": 281
        },
        "id": "IeAUNxS-Rg_7",
        "outputId": "925bb6a0-e758-4c8a-e20e-7cc33c4767b1"
      },
      "execution_count": 114,
      "outputs": [
        {
          "output_type": "display_data",
          "data": {
            "text/plain": [
              "<Figure size 432x288 with 1 Axes>"
            ],
            "image/png": "[encoded data removed]"
          },
          "metadata": {
            "needs_background": "light"
          }
        }
      ]
    },
    {
      "cell_type": "code",
      "source": [
        "samples=data['samples']"
      ],
      "metadata": {
        "id": "fN9b1x3SRqKm"
      },
      "execution_count": 115,
      "outputs": []
    },
    {
      "cell_type": "code",
      "source": [
        "plt.hist(samples)\n",
        "plt.xlim(0,30)\n",
        "plt.title(\"histogram of samples\")\n",
        "plt.show()"
      ],
      "metadata": {
        "colab": {
          "base_uri": "https://localhost:8080/",
          "height": 281
        },
        "id": "HX9Jzy2vRtcq",
        "outputId": "8e4e7c3e-421f-457f-b5ba-dc4a03797609"
      },
      "execution_count": 116,
      "outputs": [
        {
          "output_type": "display_data",
          "data": {
            "text/plain": [
              "<Figure size 432x288 with 1 Axes>"
            ],
            "image/png": "[encoded data removed]"
          },
          "metadata": {
            "needs_background": "light"
          }
        }
      ]
    },
    {
      "cell_type": "code",
      "source": [
        "WeibullPoisson = \"\"\"\n",
        "data {\n",
        "  int<lower=0> n;\n",
        "  int x[n];\n",
        "}\n",
        "parameters {\n",
        "  real<lower=0>lambda;\n",
        "}\n",
        "model {\n",
        "  lambda~weibull(10,15);\n",
        "  x~poisson(lambda);\n",
        "}\n",
        "\"\"\""
      ],
      "metadata": {
        "id": "YT7ZFglFv6Pq"
      },
      "execution_count": 117,
      "outputs": []
    },
    {
      "cell_type": "markdown",
      "source": [
        "#**Using HMC(Hamiltonian Monte Carlo)**"
      ],
      "metadata": {
        "id": "X9QD73HJxciW"
      }
    },
    {
      "cell_type": "code",
      "source": [
        "model_WeibullPoisson = pystan.StanModel(model_code=WeibullPoisson)"
      ],
      "metadata": {
        "colab": {
          "base_uri": "https://localhost:8080/"
        },
        "id": "V5qmk4dhxUho",
        "outputId": "2bebd132-20f2-494d-ca54-73e8b163f825"
      },
      "execution_count": 118,
      "outputs": [
        {
          "output_type": "stream",
          "name": "stderr",
          "text": [
            "INFO:pystan:COMPILING THE C++ CODE FOR MODEL anon_model_3e60283f9b7d28dc8f1fce38d1f77d9d NOW.\n"
          ]
        }
      ]
    },
    {
      "cell_type": "code",
      "source": [
        "data = {\n",
        "    'n':  len(samples),\n",
        "    'x': samples.astype(int),\n",
        "}"
      ],
      "metadata": {
        "id": "Qgzmv_PBx7OV"
      },
      "execution_count": 119,
      "outputs": []
    },
    {
      "cell_type": "code",
      "source": [
        "model_weibull_hmc = model_WeibullPoisson.sampling(data=data, chains=8, warmup=500, iter=1500)"
      ],
      "metadata": {
        "id": "74lFrjiYxztD"
      },
      "execution_count": 120,
      "outputs": []
    },
    {
      "cell_type": "code",
      "source": [
        "model_weibull_hmc"
      ],
      "metadata": {
        "id": "cvhRJGgAzVDT",
        "colab": {
          "base_uri": "https://localhost:8080/"
        },
        "outputId": "6bde76d4-58a1-45fb-c493-691fa5f91357"
      },
      "execution_count": 121,
      "outputs": [
        {
          "output_type": "execute_result",
          "data": {
            "text/plain": [
              "Inference for Stan model: anon_model_3e60283f9b7d28dc8f1fce38d1f77d9d.\n",
              "8 chains, each with iter=1500; warmup=500; thin=1; \n",
              "post-warmup draws per chain=1000, total post-warmup draws=8000.\n",
              "\n",
              "         mean se_mean     sd   2.5%    25%    50%    75%  97.5%  n_eff   Rhat\n",
              "lambda  10.04  1.3e-3   0.07    9.9   9.99  10.04  10.09  10.18   3007    1.0\n",
              "lp__    2.6e4    0.01   0.69  2.6e4  2.6e4  2.6e4  2.6e4  2.6e4   3879    1.0\n",
              "\n",
              "Samples were drawn using NUTS at Sun Jun  5 10:11:45 2022.\n",
              "For each parameter, n_eff is a crude measure of effective sample size,\n",
              "and Rhat is the potential scale reduction factor on split chains (at \n",
              "convergence, Rhat=1)."
            ]
          },
          "metadata": {},
          "execution_count": 121
        }
      ]
    },
    {
      "cell_type": "code",
      "source": [
        "lambda_hmc=(model_weibull_hmc.extract())['lambda'].mean()\n",
        "lambda_hmc"
      ],
      "metadata": {
        "id": "twTtaLjY5CZw",
        "colab": {
          "base_uri": "https://localhost:8080/"
        },
        "outputId": "89990b9f-e7f5-423a-8a2a-ff0617f6a389"
      },
      "execution_count": 122,
      "outputs": [
        {
          "output_type": "execute_result",
          "data": {
            "text/plain": [
              "10.039564298088326"
            ]
          },
          "metadata": {},
          "execution_count": 122
        }
      ]
    },
    {
      "cell_type": "code",
      "source": [
        "# az.plot_trace(model_weibull_hmc, figsize = (12, 4))"
      ],
      "metadata": {
        "id": "4CfctjzhzV-L"
      },
      "execution_count": 135,
      "outputs": []
    },
    {
      "cell_type": "code",
      "source": [
        "# weibullhmc_df = model_weibull_hmc.to_dataframe()\n",
        "# weibullhmc_df"
      ],
      "metadata": {
        "id": "SJd6JNqGPvFL"
      },
      "execution_count": 134,
      "outputs": []
    },
    {
      "cell_type": "markdown",
      "source": [
        "# **Using Variational Inference(VI)**"
      ],
      "metadata": {
        "id": "o14TuiZYz84j"
      }
    },
    {
      "cell_type": "code",
      "source": [
        "model_Weibull_vi=model_WeibullPoisson.vb(data=data)"
      ],
      "metadata": {
        "id": "WLV6ZZa-0GON",
        "colab": {
          "base_uri": "https://localhost:8080/"
        },
        "outputId": "534129a6-8dff-4843-f3b3-fc0f5fc8ee62"
      },
      "execution_count": 125,
      "outputs": [
        {
          "output_type": "stream",
          "name": "stderr",
          "text": [
            "WARNING:pystan:Automatic Differentiation Variational Inference (ADVI) is an EXPERIMENTAL ALGORITHM.\n",
            "WARNING:pystan:ADVI samples may be found on the filesystem in the file `/tmp/tmp4lbu6pp9/output.csv`\n"
          ]
        }
      ]
    },
    {
      "cell_type": "code",
      "source": [
        "# model_bernoulli_vi"
      ],
      "metadata": {
        "id": "3Rc-WFIi0ytN"
      },
      "execution_count": 126,
      "outputs": []
    },
    {
      "cell_type": "code",
      "source": [
        "lambda_vi=model_Weibull_vi.get('mean_pars')\n",
        "lambda_vi"
      ],
      "metadata": {
        "id": "qi7-v72G0wj5",
        "colab": {
          "base_uri": "https://localhost:8080/"
        },
        "outputId": "40d44bf5-5363-41ee-db1a-6a643e4185ae"
      },
      "execution_count": 127,
      "outputs": [
        {
          "output_type": "execute_result",
          "data": {
            "text/plain": [
              "[10.393394543756473]"
            ]
          },
          "metadata": {},
          "execution_count": 127
        }
      ]
    },
    {
      "cell_type": "code",
      "source": [
        "# az.plot_trace(data=np.array(model_Weibull_vi.get('sampler_params')[0]), figsize = (12, 4))"
      ],
      "metadata": {
        "id": "lOtJGjeV1iWG"
      },
      "execution_count": 133,
      "outputs": []
    },
    {
      "cell_type": "markdown",
      "source": [
        "#**Plotting the distributions**\n"
      ],
      "metadata": {
        "id": "o7RQcLs-QvQG"
      }
    },
    {
      "cell_type": "code",
      "source": [
        "plt.plot(x_space,true_pdf,label='True PDF',color='brown',alpha=1,linestyle='dashed')\n",
        "\n",
        "pois = tfd.Poisson(rate = lambda_hmc)\n",
        "sample_pdf_hmc = pois.prob(x_space)\n",
        "plt.plot(x_space,sample_pdf_hmc,color='g',alpha=0.6,label='Pdf using Hmc Estimate')\n",
        "\n",
        "pois = tfd.Poisson(rate = lambda_vi)\n",
        "sample_pdf = pois.prob(x_space)\n",
        "plt.plot(x_space,sample_pdf,color='r',alpha=0.5,label='Pdf using Vi Estimate')\n",
        "plt.xlim(0,20)\n",
        "plt.legend()\n",
        "plt.show()"
      ],
      "metadata": {
        "colab": {
          "base_uri": "https://localhost:8080/",
          "height": 320
        },
        "id": "oCoFglKhOtHW",
        "outputId": "31ba8e5f-f5ce-4101-9b7e-e02d4b72e3ad"
      },
      "execution_count": 146,
      "outputs": [
        {
          "output_type": "stream",
          "name": "stderr",
          "text": [
            "/usr/local/lib/python3.7/dist-packages/jax/_src/numpy/lax_numpy.py:4457: UserWarning: Explicitly requested dtype <class 'numpy.float64'> requested in astype is not available, and will be truncated to dtype float32. To enable more dtypes, set the jax_enable_x64 configuration option or the JAX_ENABLE_X64 shell environment variable. See https://github.com/google/jax#current-gotchas for more.\n",
            "  lax_internal._check_user_dtype_supported(dtype, \"astype\")\n"
          ]
        },
        {
          "output_type": "display_data",
          "data": {
            "text/plain": [
              "<Figure size 432x288 with 1 Axes>"
            ],
            "image/png": "[encoded data removed]"
          },
          "metadata": {
            "needs_background": "light"
          }
        }
      ]
    }
  ]
}