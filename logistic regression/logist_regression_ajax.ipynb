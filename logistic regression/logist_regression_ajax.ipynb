{
 "cells": [
  {
   "cell_type": "code",
   "execution_count": 2,
   "metadata": {},
   "outputs": [],
   "source": [
    "try:\n",
    "  import optax\n",
    "except:\n",
    "  %pip install -qq optax\n",
    "  import optax\n",
    "try:\n",
    "    from ajax import Prior, Likelihood, Variational, ADVI\n",
    "except:\n",
    "   %pip install -qq git+https://github.com/patel-zeel/ajax.git\n",
    "   from ajax import Prior, Likelihood, Variational, ADVI\n",
    "\n",
    "try:\n",
    "  import tensorflow_probability.substrates.jax as tfp\n",
    "except:\n",
    "  %pip install -qq tensorflow_probability.substrates.jax\n",
    "  import tensorflow_probability.substrates.jax as tfp\n",
    "\n",
    "try:\n",
    "  import jax.numpy as jnp\n",
    "except:\n",
    "  %pip install -qq jax\n",
    "  import jax.numpy as jnp\n",
    "import jax\n",
    "import matplotlib.pyplot as plt\n",
    "import pickle\n",
    "import pandas as pd\n",
    "tfd = tfp.distributions\n",
    "tfb = tfp.bijectors\n",
    "import numpy as np"
   ]
  },
  {
   "cell_type": "code",
   "execution_count": 3,
   "metadata": {},
   "outputs": [],
   "source": [
    "with open(\"./logistic_regression_data\",'rb') as f:\n",
    "    data = pickle.load(f)"
   ]
  },
  {
   "cell_type": "code",
   "execution_count": 4,
   "metadata": {},
   "outputs": [
    {
     "name": "stderr",
     "output_type": "stream",
     "text": [
      "WARNING:absl:No GPU/TPU found, falling back to CPU. (Set TF_CPP_MIN_LOG_LEVEL=0 and rerun for more info.)\n"
     ]
    }
   ],
   "source": [
    "X = data['data']['x']\n",
    "X[:,:2] = (X[:,:2]- jax.numpy.min(X,axis = 0)[:2])/(jax.numpy.max(X,axis = 0)[:2]-jax.numpy.min(X, axis = 0)[:2])\n",
    "mean_prior = data['prior']['loc']\n",
    "var_prior = data['prior']['covariance_matrix']\n",
    "Y = jnp.array(data['data']['y'])\n",
    "Y = jnp.reshape(Y, (Y.shape[1],))"
   ]
  },
  {
   "cell_type": "code",
   "execution_count": 5,
   "metadata": {},
   "outputs": [],
   "source": [
    "prior = Prior(distributions={\"beta\":tfd.MultivariateNormalDiag(loc=mean_prior, scale_diag= jnp.diagonal(var_prior))})"
   ]
  },
  {
   "cell_type": "code",
   "execution_count": 6,
   "metadata": {},
   "outputs": [],
   "source": [
    "def link_function(samples):\n",
    "    theta = X@samples[\"beta\"]\n",
    "    probs = jax.nn.sigmoid(theta)\n",
    "    return {\n",
    "        'probs' : probs\n",
    "    }"
   ]
  },
  {
   "cell_type": "code",
   "execution_count": 7,
   "metadata": {},
   "outputs": [],
   "source": [
    "likelihood = Likelihood(tfd.Bernoulli, link_function)"
   ]
  },
  {
   "cell_type": "code",
   "execution_count": 8,
   "metadata": {},
   "outputs": [],
   "source": [
    "variational = Variational(\n",
    "    prior=prior,\n",
    "    bijectors={\"beta\":tfb.Identity()},\n",
    "    vi_type=\"full_rank\"\n",
    ")"
   ]
  },
  {
   "cell_type": "code",
   "execution_count": 9,
   "metadata": {},
   "outputs": [],
   "source": [
    "advi = ADVI(prior, likelihood, variational, Y)"
   ]
  },
  {
   "cell_type": "code",
   "execution_count": 10,
   "metadata": {},
   "outputs": [
    {
     "data": {
      "text/plain": [
       "(DeviceArray(790.6045, dtype=float32),\n",
       " {'beta': <tfp.distributions.TransformedDistribution 'identityMultivariateNormalTriL' batch_shape=[] event_shape=[3] dtype=float32>})"
      ]
     },
     "execution_count": 10,
     "metadata": {},
     "output_type": "execute_result"
    }
   ],
   "source": [
    "params = variational.get_params()\n",
    "tx = optax.adam(learning_rate=0.1)\n",
    "state = tx.init(params)\n",
    "value_and_grad_fun = jax.jit(jax.value_and_grad(advi.loss),static_argnames=['n_samples'])\n",
    "seed = jax.random.PRNGKey(10)\n",
    "value_and_grad_fun(params, seed)"
   ]
  },
  {
   "cell_type": "code",
   "execution_count": 11,
   "metadata": {},
   "outputs": [],
   "source": [
    "def update_func(carry,x):\n",
    "  params = carry['params']\n",
    "  state = carry['state']\n",
    "  seed = carry['seed']\n",
    "  seed = jax.random.split(seed, 1)[0]\n",
    "  loss, grads = value_and_grad_fun(params, seed = seed,n_samples = 10)\n",
    "  updates, state = tx.update(grads, state)\n",
    "  loc_m, scale = jax.tree_leaves(variational.transform_dist(params['beta']))\n",
    "  params = optax.apply_updates(params, updates)\n",
    "  carry = {'params':params, 'state':state, 'seed':seed}\n",
    "  di = {\"scale\":scale, \"loc\" : loc_m, \"loss\" : loss,'grads':grads}\n",
    "  return carry, di"
   ]
  },
  {
   "cell_type": "code",
   "execution_count": 12,
   "metadata": {},
   "outputs": [],
   "source": [
    "carry = {'params':params, 'state': state,'seed':jax.random.PRNGKey(5)}\n",
    "n_itr = 600\n",
    "carry,loss = jax.lax.scan(update_func, carry,xs = None,length = n_itr)"
   ]
  },
  {
   "cell_type": "code",
   "execution_count": 13,
   "metadata": {},
   "outputs": [],
   "source": [
    "variational.set_params(carry['params'])"
   ]
  },
  {
   "cell_type": "code",
   "execution_count": 19,
   "metadata": {},
   "outputs": [],
   "source": [
    "loc_m, scale = jax.tree_leaves(variational.transform_dist(carry['params']['beta']))"
   ]
  },
  {
   "cell_type": "code",
   "execution_count": 20,
   "metadata": {},
   "outputs": [
    {
     "data": {
      "text/plain": [
       "DeviceArray([[ 1.3107129 , -0.61637175, -0.32735184],\n",
       "             [-0.61637175,  0.47308454,  0.07872671],\n",
       "             [-0.32735184,  0.07872671,  0.12840475]], dtype=float32)"
      ]
     },
     "execution_count": 20,
     "metadata": {},
     "output_type": "execute_result"
    }
   ],
   "source": [
    "scale = jnp.dot(scale, scale.T)\n",
    "scale"
   ]
  },
  {
   "cell_type": "code",
   "execution_count": 21,
   "metadata": {},
   "outputs": [
    {
     "name": "stdout",
     "output_type": "stream",
     "text": [
      "1.3107129\n",
      "0.47308454\n",
      "0.12840475\n"
     ]
    },
    {
     "data": {
      "text/plain": [
       "<matplotlib.legend.Legend at 0x7f6fc4446250>"
      ]
     },
     "execution_count": 21,
     "metadata": {},
     "output_type": "execute_result"
    },
    {
     "data": {
      "image/png": "[encoded data removed]",
      "text/plain": [
       "<Figure size 720x288 with 1 Axes>"
      ]
     },
     "metadata": {
      "needs_background": "light"
     },
     "output_type": "display_data"
    }
   ],
   "source": [
    "plt.rcParams[\"figure.figsize\"] = (10,4)\n",
    "fig, (ax1) = plt.subplots(1,1)\n",
    "x = jnp.linspace(-15,25,10000)\n",
    "for i in range(3):\n",
    "    print(scale[i][i])\n",
    "    ax1.plot(x, tfd.Normal(loc = loc_m[i],scale = jnp.sqrt(scale[i][i])).prob(x), label = r\"vi $\\theta$\"+str(i))\n",
    "ax1.set_title(\"AJAX with full rank\")\n",
    "ax1.legend()"
   ]
  },
  {
   "cell_type": "code",
   "execution_count": 22,
   "metadata": {},
   "outputs": [],
   "source": [
    "variational = Variational(\n",
    "    prior=prior,\n",
    "    bijectors={\"beta\":tfb.Identity()},\n",
    "    vi_type=\"mean_field\"\n",
    ")"
   ]
  },
  {
   "cell_type": "code",
   "execution_count": 23,
   "metadata": {},
   "outputs": [],
   "source": [
    "advi = ADVI(prior, likelihood, variational, Y)"
   ]
  },
  {
   "cell_type": "code",
   "execution_count": 24,
   "metadata": {},
   "outputs": [
    {
     "data": {
      "text/plain": [
       "(DeviceArray(1467.177, dtype=float32),\n",
       " {'beta': <tfp.distributions.TransformedDistribution 'identityMultivariateNormalDiag' batch_shape=[] event_shape=[3] dtype=float32>})"
      ]
     },
     "execution_count": 24,
     "metadata": {},
     "output_type": "execute_result"
    }
   ],
   "source": [
    "params = variational.get_params()\n",
    "tx = optax.adam(learning_rate=0.1)\n",
    "state = tx.init(params)\n",
    "value_and_grad_fun = jax.jit(jax.value_and_grad(advi.loss),static_argnames=['n_samples'])\n",
    "seed = jax.random.PRNGKey(10)\n",
    "value_and_grad_fun(params, seed)"
   ]
  },
  {
   "cell_type": "code",
   "execution_count": 25,
   "metadata": {},
   "outputs": [],
   "source": [
    "def update_func(carry,x):\n",
    "  params = carry['params']\n",
    "  state = carry['state']\n",
    "  seed = carry['seed']\n",
    "  seed = jax.random.split(seed, 1)[0]\n",
    "  loss, grads = value_and_grad_fun(params, seed = seed,n_samples = 10)\n",
    "  updates, state = tx.update(grads, state)\n",
    "  loc_m, scale = jax.tree_leaves(variational.transform_dist(params['beta']))\n",
    "  params = optax.apply_updates(params, updates)\n",
    "  carry = {'params':params, 'state':state, 'seed':seed}\n",
    "  di = {\"scale\":scale, \"loc\" : loc_m, \"loss\" : loss,'grads':grads}\n",
    "  return carry, di"
   ]
  },
  {
   "cell_type": "code",
   "execution_count": 26,
   "metadata": {},
   "outputs": [],
   "source": [
    "carry = {'params':params, 'state': state,'seed':jax.random.PRNGKey(5)}\n",
    "n_itr = 600\n",
    "carry,loss = jax.lax.scan(update_func, carry,xs = None,length = n_itr)"
   ]
  },
  {
   "cell_type": "code",
   "execution_count": 27,
   "metadata": {},
   "outputs": [],
   "source": [
    "variational.set_params(carry['params'])"
   ]
  },
  {
   "cell_type": "code",
   "execution_count": 28,
   "metadata": {},
   "outputs": [
    {
     "data": {
      "text/plain": [
       "(DeviceArray([0.22388707, 0.22115716, 0.13090336], dtype=float32),\n",
       " DeviceArray([17.636656 , -9.019957 , -4.0580244], dtype=float32))"
      ]
     },
     "execution_count": 28,
     "metadata": {},
     "output_type": "execute_result"
    }
   ],
   "source": [
    "loc_m, scale = jax.tree_leaves(variational.transform_dist(carry['params']['beta']))\n",
    "scale,loc_m"
   ]
  },
  {
   "cell_type": "code",
   "execution_count": 29,
   "metadata": {},
   "outputs": [
    {
     "data": {
      "text/plain": [
       "<matplotlib.legend.Legend at 0x7f6fc4319ad0>"
      ]
     },
     "execution_count": 29,
     "metadata": {},
     "output_type": "execute_result"
    },
    {
     "data": {
      "image/png": "[encoded data removed]",
      "text/plain": [
       "<Figure size 720x288 with 1 Axes>"
      ]
     },
     "metadata": {
      "needs_background": "light"
     },
     "output_type": "display_data"
    }
   ],
   "source": [
    "plt.rcParams[\"figure.figsize\"] = (10,4)\n",
    "fig, (ax1) = plt.subplots(1,1)\n",
    "x = jnp.linspace(-15,25,10000)\n",
    "samples = variational.sample(seed = jax.random.PRNGKey(12),sample_shape = (190000,))\n",
    "for i in range(3):\n",
    "    ax1.plot(x, tfd.Normal(loc = loc_m[i],scale = (scale[i])).prob(x), label = r\"vi $\\theta$\"+str(i))\n",
    "#ax1.legend()\n",
    "ax1.set_title(\"AJAX with mean field\")\n",
    "ax1.legend()"
   ]
  }
 ],
 "metadata": {
  "kernelspec": {
   "display_name": "Python 3",
   "language": "python",
   "name": "python3"
  },
  "language_info": {
   "codemirror_mode": {
    "name": "ipython",
    "version": 3
   },
   "file_extension": ".py",
   "mimetype": "text/x-python",
   "name": "python",
   "nbconvert_exporter": "python",
   "pygments_lexer": "ipython3",
   "version": "3.7.13"
  }
 },
 "nbformat": 4,
 "nbformat_minor": 4
}
