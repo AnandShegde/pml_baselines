{
 "cells": [
  {
   "cell_type": "code",
   "execution_count": 1,
   "metadata": {},
   "outputs": [],
   "source": [
    "try:\n",
    "  import optax\n",
    "except:\n",
    "  %pip install -qq optax\n",
    "  import optax\n",
    "try:\n",
    "    from ajax import Prior, Likelihood, Variational, ADVI\n",
    "except:\n",
    "   %pip install -qq git+https://github.com/patel-zeel/ajax.git\n",
    "   from ajax import Prior, Likelihood, Variational, ADVI\n",
    "\n",
    "try:\n",
    "  import tensorflow_probability.substrates.jax as tfp\n",
    "except:\n",
    "  %pip install -qq tensorflow_probability.substrates.jax\n",
    "  import tensorflow_probability.substrates.jax as tfp\n",
    "\n",
    "try:\n",
    "  import jax.numpy as jnp\n",
    "except:\n",
    "  %pip install -qq jax\n",
    "  import jax.numpy as jnp\n",
    "\n",
    "try:\n",
    "    import seaborn as sns\n",
    "except:\n",
    "    %pip install -qq seaborn \n",
    "    import seaborn as sns\n",
    "from ajax.utils import fill_params\n",
    "import jax\n",
    "import matplotlib.pyplot as plt\n",
    "import pickle\n",
    "import pandas as pd\n",
    "tfd = tfp.distributions\n",
    "tfb = tfp.bijectors\n",
    "import seaborn as sns"
   ]
  },
  {
   "cell_type": "code",
   "execution_count": 2,
   "metadata": {},
   "outputs": [
    {
     "data": {
      "text/plain": [
       "{'data': {'x': array([[ 1.7598495 ],\n",
       "         [-0.23643708],\n",
       "         [ 3.1509051 ],\n",
       "         [-0.79705334],\n",
       "         [-2.500547  ],\n",
       "         [ 1.6101036 ],\n",
       "         [ 0.14806175],\n",
       "         [ 0.05331182],\n",
       "         [ 2.6665907 ],\n",
       "         [-0.14456654]], dtype=float32),\n",
       "  'y': array([[ 9.011515 ],\n",
       "         [ 5.4843464],\n",
       "         [ 9.670069 ],\n",
       "         [ 1.1274505],\n",
       "         [-1.283633 ],\n",
       "         [ 7.062801 ],\n",
       "         [ 3.6567392],\n",
       "         [ 2.2533112],\n",
       "         [10.321623 ],\n",
       "         [ 2.2750926]], dtype=float32)},\n",
       " 'noise_variance': 1,\n",
       " 'prior': {'mean': array([14. ,  7.3], dtype=float32),\n",
       "  'var': array([[10.,  0.],\n",
       "         [ 0., 10.]], dtype=float32)}}"
      ]
     },
     "execution_count": 2,
     "metadata": {},
     "output_type": "execute_result"
    }
   ],
   "source": [
    "with open(\"../data/linear_regression/linear_regression\",'rb') as f:\n",
    "    data = pickle.load(f)\n",
    "data"
   ]
  },
  {
   "cell_type": "code",
   "execution_count": 3,
   "metadata": {},
   "outputs": [
    {
     "name": "stderr",
     "output_type": "stream",
     "text": [
      "WARNING:absl:No GPU/TPU found, falling back to CPU. (Set TF_CPP_MIN_LOG_LEVEL=0 and rerun for more info.)\n"
     ]
    },
    {
     "name": "stdout",
     "output_type": "stream",
     "text": [
      "(2, 2)\n",
      "(2,)\n"
     ]
    }
   ],
   "source": [
    "X = data['data']['x']\n",
    "Y = jnp.array(data['data']['y']).reshape((-1))\n",
    "\n",
    "def identity_trans(x):\n",
    "    return jnp.append(jnp.ones((m,1)),x,axis=1)\n",
    "m = X.shape[0]\n",
    "X = identity_trans(X)\n",
    "mean_prior = data['prior']['mean']\n",
    "var_prior = jnp.array(data['prior']['var'])\n",
    "print(var_prior.shape)\n",
    "print(mean_prior.shape)\n",
    "# mean_prior = mean_prior.reshape((-1,1))\n",
    "prior = Prior(\n",
    "    distributions = {\n",
    "        \"theta\" : tfp.distributions.MultivariateNormalDiag(loc = mean_prior, scale_diag = jnp.diagonal(var_prior))\n",
    "        }\n",
    "    )"
   ]
  },
  {
   "cell_type": "code",
   "execution_count": 4,
   "metadata": {},
   "outputs": [
    {
     "data": {
      "text/plain": [
       "<matplotlib.collections.PathCollection at 0x7fba64297650>"
      ]
     },
     "execution_count": 4,
     "metadata": {},
     "output_type": "execute_result"
    },
    {
     "data": {
      "image/png": "[encoded data removed]",
      "text/plain": [
       "<Figure size 432x288 with 1 Axes>"
      ]
     },
     "metadata": {
      "needs_background": "light"
     },
     "output_type": "display_data"
    }
   ],
   "source": [
    "plt.scatter(X[:,1],Y)"
   ]
  },
  {
   "cell_type": "code",
   "execution_count": 5,
   "metadata": {},
   "outputs": [],
   "source": [
    "def link_func(samples):\n",
    "    mean = X@samples[\"theta\"]\n",
    "    diag = jnp.ones_like(mean)\n",
    "    return {\"loc\" : mean, \"scale_diag\" : diag}"
   ]
  },
  {
   "cell_type": "code",
   "execution_count": 6,
   "metadata": {},
   "outputs": [],
   "source": [
    "likelihood = Likelihood(tfp.distributions.MultivariateNormalDiag, link_func)"
   ]
  },
  {
   "cell_type": "code",
   "execution_count": 7,
   "metadata": {},
   "outputs": [],
   "source": [
    "variational = Variational(\n",
    "    prior=prior,\n",
    "    bijectors={\"theta\":tfb.Identity()},\n",
    "    vi_type=\"full_rank\"\n",
    ")"
   ]
  },
  {
   "cell_type": "code",
   "execution_count": 8,
   "metadata": {},
   "outputs": [
    {
     "data": {
      "text/plain": [
       "(10,)"
      ]
     },
     "execution_count": 8,
     "metadata": {},
     "output_type": "execute_result"
    }
   ],
   "source": [
    "advi = ADVI(prior, likelihood, variational, Y)\n",
    "Y.shape"
   ]
  },
  {
   "cell_type": "code",
   "execution_count": 9,
   "metadata": {},
   "outputs": [],
   "source": [
    "params = variational.get_params()\n",
    "tx = optax.adam(learning_rate=0.1)\n",
    "state = tx.init(params)\n",
    "value_and_grad_fun = jax.jit(jax.value_and_grad(advi.loss))"
   ]
  },
  {
   "cell_type": "code",
   "execution_count": 10,
   "metadata": {},
   "outputs": [],
   "source": [
    "def update_func(carry,x):\n",
    "  params = carry['params']\n",
    "  state = carry['state']\n",
    "  seed = carry['seed']\n",
    "  seed = jax.random.split(seed, 1)[0]\n",
    "  loss, grads = value_and_grad_fun(params, seed = seed)\n",
    "  updates, state = tx.update(grads, state)\n",
    "  params = optax.apply_updates(params, updates)\n",
    "  carry = {'params':params, 'state':state, 'seed':seed}\n",
    "  return carry, loss"
   ]
  },
  {
   "cell_type": "code",
   "execution_count": 11,
   "metadata": {},
   "outputs": [],
   "source": [
    "carry = {'params':params, 'state': state,'seed':jax.random.PRNGKey(100)}\n",
    "carry,loss = jax.lax.scan(update_func, carry,xs = None,length= 350) \n"
   ]
  },
  {
   "cell_type": "code",
   "execution_count": 12,
   "metadata": {},
   "outputs": [
    {
     "data": {
      "text/plain": [
       "DeviceArray(-3408.3374, dtype=float32)"
      ]
     },
     "execution_count": 12,
     "metadata": {},
     "output_type": "execute_result"
    }
   ],
   "source": [
    "likelihood.log_prob(data=Y,params =prior.sample(seed = jax.random.PRNGKey(100)))"
   ]
  },
  {
   "cell_type": "code",
   "execution_count": 13,
   "metadata": {},
   "outputs": [
    {
     "data": {
      "text/plain": [
       "<matplotlib.collections.PathCollection at 0x7fba6055b110>"
      ]
     },
     "execution_count": 13,
     "metadata": {},
     "output_type": "execute_result"
    },
    {
     "data": {
      "image/png": "[encoded data removed]",
      "text/plain": [
       "<Figure size 432x288 with 1 Axes>"
      ]
     },
     "metadata": {
      "needs_background": "light"
     },
     "output_type": "display_data"
    }
   ],
   "source": [
    "x = jnp.linspace(1,6,10000)\n",
    "variational.set_params(carry['params'])\n",
    "di = {\"theta\":x}\n",
    "samples = variational.sample(seed = jax.random.PRNGKey(10),sample_shape = (100000,))\n",
    "plt.scatter(samples['theta'][:,0],samples['theta'][:,1])\n",
    "# plt.scatter(data['data']['x'],data['data']['y'])"
   ]
  },
  {
   "cell_type": "code",
   "execution_count": 14,
   "metadata": {},
   "outputs": [
    {
     "data": {
      "text/plain": [
       "DeviceArray([3.9884493, 2.9489195, 3.5725625, ..., 3.6642082, 3.6312225,\n",
       "             3.3159654], dtype=float32)"
      ]
     },
     "execution_count": 14,
     "metadata": {},
     "output_type": "execute_result"
    }
   ],
   "source": [
    "samples['theta'][:,0]"
   ]
  },
  {
   "cell_type": "code",
   "execution_count": 15,
   "metadata": {},
   "outputs": [],
   "source": [
    "def posterior(phi,m_0, t, S_0, beta, return_inverse=False):\n",
    "    \"\"\"Computes mean and covariance matrix of the posterior distribution.\"\"\"\n",
    "    S_N_inv = jnp.linalg.inv(S_0) + beta * phi.T.dot(phi)\n",
    "    S_N = jnp.linalg.inv(S_N_inv)\n",
    "    print(S_N.shape,m_0.shape)\n",
    "    m_N =S_N@(jnp.linalg.inv(S_0)@m_0+beta *phi.T.dot(t))\n",
    "\n",
    "    if return_inverse:\n",
    "        return m_N, S_N, S_N_inv\n",
    "    else:\n",
    "        return m_N, S_N\n"
   ]
  },
  {
   "cell_type": "code",
   "execution_count": 16,
   "metadata": {},
   "outputs": [
    {
     "name": "stdout",
     "output_type": "stream",
     "text": [
      "(2, 2) (2, 1)\n"
     ]
    }
   ],
   "source": [
    "mean,cov = posterior(X, mean_prior.reshape((-1,1)), Y.reshape((-1,1)), var_prior,1)\n"
   ]
  },
  {
   "cell_type": "code",
   "execution_count": 19,
   "metadata": {},
   "outputs": [
    {
     "data": {
      "text/plain": [
       "<matplotlib.legend.Legend at 0x7fba60227390>"
      ]
     },
     "execution_count": 19,
     "metadata": {},
     "output_type": "execute_result"
    },
    {
     "data": {
      "image/png": "[encoded data removed]",
      "text/plain": [
       "<Figure size 432x288 with 1 Axes>"
      ]
     },
     "metadata": {
      "needs_background": "light"
     },
     "output_type": "display_data"
    }
   ],
   "source": [
    "plt.xlim(1,6)\n",
    "normal1 = tfd.Normal(mean[0],jnp.sqrt(cov[0,0]))\n",
    "x = jnp.linspace(1,6,10000)\n",
    "pdf1 = normal1.prob(x)\n",
    "plt.plot(x,pdf1,label=\"theta0\")\n",
    "normal2 = tfd.Normal(mean[1],jnp.sqrt(cov[1,1]))\n",
    "pdf2=  normal2.prob(x)\n",
    "plt.plot(x,pdf2,label=\"theta1\")\n",
    "sns.kdeplot(samples[\"theta\"][:,0],label=r\"$VI\\ \\theta_0$\",bw_method= 0.05)\n",
    "sns.kdeplot(samples[\"theta\"][:,1],label = r\"$VI\\ \\theta_1$\",bw_method = 0.05)\n",
    "plt.legend()"
   ]
  },
  {
   "cell_type": "code",
   "execution_count": 20,
   "metadata": {},
   "outputs": [],
   "source": [
    "with open(\"../results/linear_regression/results_data/linear_regression_Ajax\",'wb') as f:\n",
    "    pickle.dump(variational, f,protocol = 1)"
   ]
  }
 ],
 "metadata": {
  "kernelspec": {
   "display_name": "Python 3.7.13 ('srip')",
   "language": "python",
   "name": "python3"
  },
  "language_info": {
   "codemirror_mode": {
    "name": "ipython",
    "version": 3
   },
   "file_extension": ".py",
   "mimetype": "text/x-python",
   "name": "python",
   "nbconvert_exporter": "python",
   "pygments_lexer": "ipython3",
   "version": "3.7.13"
  },
  "vscode": {
   "interpreter": {
    "hash": "31cf91725cfa433ed6f8f914e51425bfdb4b966b135703f258bb56c1780b6111"
   }
  }
 },
 "nbformat": 4,
 "nbformat_minor": 4
}
