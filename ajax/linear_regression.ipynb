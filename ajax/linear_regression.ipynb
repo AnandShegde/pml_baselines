{
 "cells": [
  {
   "cell_type": "markdown",
   "metadata": {},
   "source": [
    "# Linear regression in ajax"
   ]
  },
  {
   "cell_type": "code",
   "execution_count": 7,
   "metadata": {},
   "outputs": [],
   "source": [
    "try:\n",
    "  import optax\n",
    "except:\n",
    "  %pip install -qq optax\n",
    "  import optax\n",
    "try:\n",
    "    from ajax import ADVI\n",
    "except:\n",
    "   %pip install -qq git+https://github.com/patel-zeel/ajax.git\n",
    "   from ajax import ADVI\n",
    "\n",
    "try:\n",
    "  import tensorflow_probability.substrates.jax as tfp\n",
    "except:\n",
    "  %pip install -qq tensorflow_probability.substrates.jax\n",
    "  import tensorflow_probability.substrates.jax as tfp\n",
    "\n",
    "try:\n",
    "  import jax.numpy as jnp\n",
    "except:\n",
    "  %pip install -qq jax\n",
    "  import jax.numpy as jnp\n",
    "\n",
    "try:\n",
    "    import seaborn as sns\n",
    "except:\n",
    "    %pip install -qq seaborn \n",
    "    import seaborn as sns\n",
    "from ajax.utils import train\n",
    "import jax\n",
    "import matplotlib.pyplot as plt\n",
    "import pickle\n",
    "import pandas as pd\n",
    "from functools import partial\n",
    "tfd = tfp.distributions\n",
    "tfb = tfp.bijectors\n",
    "import seaborn as sns"
   ]
  },
  {
   "cell_type": "code",
   "execution_count": 8,
   "metadata": {},
   "outputs": [
    {
     "data": {
      "text/plain": [
       "{'data': {'x': array([[ 1.7598495 ],\n",
       "         [-0.23643708],\n",
       "         [ 3.1509051 ],\n",
       "         [-0.79705334],\n",
       "         [-2.500547  ],\n",
       "         [ 1.6101036 ],\n",
       "         [ 0.14806175],\n",
       "         [ 0.05331182],\n",
       "         [ 2.6665907 ],\n",
       "         [-0.14456654]], dtype=float32),\n",
       "  'y': array([[ 9.011515 ],\n",
       "         [ 5.4843464],\n",
       "         [ 9.670069 ],\n",
       "         [ 1.1274505],\n",
       "         [-1.283633 ],\n",
       "         [ 7.062801 ],\n",
       "         [ 3.6567392],\n",
       "         [ 2.2533112],\n",
       "         [10.321623 ],\n",
       "         [ 2.2750926]], dtype=float32)},\n",
       " 'noise_variance': 1,\n",
       " 'prior': {'mean': array([14. ,  7.3], dtype=float32),\n",
       "  'var': array([[10.,  0.],\n",
       "         [ 0., 10.]], dtype=float32),\n",
       "  'alpha': 1,\n",
       "  'beta': 1}}"
      ]
     },
     "execution_count": 8,
     "metadata": {},
     "output_type": "execute_result"
    }
   ],
   "source": [
    "url =  \"https://raw.githubusercontent.com/AnandShegde/pml_baselines/main/data/linear_regression/linear_regression\"\n",
    "data = pd.read_pickle(url)\n",
    "data"
   ]
  },
  {
   "cell_type": "code",
   "execution_count": 9,
   "metadata": {},
   "outputs": [
    {
     "name": "stderr",
     "output_type": "stream",
     "text": [
      "WARNING:absl:No GPU/TPU found, falling back to CPU. (Set TF_CPP_MIN_LOG_LEVEL=0 and rerun for more info.)\n"
     ]
    }
   ],
   "source": [
    "X = data['data']['x']\n",
    "Y = jnp.array(data['data']['y']).reshape((-1))\n",
    "\n",
    "def identity_trans(x):\n",
    "    return jnp.append(jnp.ones((m,1)),x,axis=1)\n",
    "\n",
    "m = X.shape[0]\n",
    "X = identity_trans(X)\n",
    "mean_prior = data['prior']['mean']\n",
    "var_prior = jnp.array(data['prior']['var'])"
   ]
  },
  {
   "cell_type": "markdown",
   "metadata": {},
   "source": [
    "## Defining model with ajax"
   ]
  },
  {
   "cell_type": "code",
   "execution_count": 12,
   "metadata": {},
   "outputs": [],
   "source": [
    "prior = {\n",
    "        \"theta\" : tfp.distributions.MultivariateNormalDiag(loc = mean_prior, scale_diag = jnp.diagonal(var_prior))\n",
    "}\n",
    "\n",
    "bijectors = {\n",
    "    \"theta\" : tfb.Identity()\n",
    "}\n",
    "\n",
    "def get_log_likelihood(params, aux, data,**kwargs):\n",
    "    mean = aux[\"X\"] @ params[\"theta\"]\n",
    "    diag = jnp.ones_like(mean)\n",
    "    likelihood = tfd.MultivariateNormalDiag(loc=mean, scale_diag = diag)\n",
    "    return likelihood.log_prob(data).sum()\n",
    "\n",
    "model = ADVI(prior, bijectors, get_log_likelihood, vi_type = \"full_rank\")"
   ]
  },
  {
   "cell_type": "markdown",
   "metadata": {},
   "source": [
    "## Training the model"
   ]
  },
  {
   "cell_type": "code",
   "execution_count": 23,
   "metadata": {},
   "outputs": [
    {
     "data": {
      "text/plain": [
       "Text(0, 0.5, 'loss')"
      ]
     },
     "execution_count": 23,
     "metadata": {},
     "output_type": "execute_result"
    },
    {
     "data": {
      "image/png": "[encoded data removed]",
      "text/plain": [
       "<Figure size 432x288 with 1 Axes>"
      ]
     },
     "metadata": {
      "needs_background": "light"
     },
     "output_type": "display_data"
    }
   ],
   "source": [
    "optimizer = optax.adam(learning_rate=0.1)\n",
    "epochs = 1500\n",
    "seed = jax.random.PRNGKey(10)\n",
    "params = model.init(seed)\n",
    "\n",
    "loss_fn = partial(model.loss_fn,batch = Y,  data_size = len(Y), aux = {\"X\":X}, n_samples = 10)\n",
    "model_params = train(loss_fn, params, optimizer = optimizer, n_epochs = epochs, seed = jax.random.PRNGKey(10),return_args = [\"losses\"])\n",
    "\n",
    "plt.plot(model_params[\"losses\"])\n",
    "plt.xlabel(\"iterations\")\n",
    "plt.ylabel(\"loss\")"
   ]
  },
  {
   "cell_type": "markdown",
   "metadata": {},
   "source": [
    "## Plotting results"
   ]
  },
  {
   "cell_type": "code",
   "execution_count": 19,
   "metadata": {},
   "outputs": [],
   "source": [
    "url = \"https://raw.githubusercontent.com/AnandShegde/pml_baselines/main/results/linear_regression/results_data/linear_regression_true_posterior\"\n",
    "distribution_params = pd.read_pickle(url)\n",
    "\n",
    "mean = distribution_params[\"mean\"]\n",
    "cov = distribution_params[\"covariance\"]"
   ]
  },
  {
   "cell_type": "code",
   "execution_count": 24,
   "metadata": {},
   "outputs": [
    {
     "data": {
      "text/plain": [
       "<matplotlib.legend.Legend at 0x7fc064212d50>"
      ]
     },
     "execution_count": 24,
     "metadata": {},
     "output_type": "execute_result"
    },
    {
     "data": {
      "image/png": "[encoded data removed]",
      "text/plain": [
       "<Figure size 432x288 with 1 Axes>"
      ]
     },
     "metadata": {
      "needs_background": "light"
     },
     "output_type": "display_data"
    }
   ],
   "source": [
    "plt.xlim(1,6)\n",
    "x = jnp.linspace(1,6,10000)\n",
    "\n",
    "normal1 = tfd.Normal(mean[0],jnp.sqrt(cov[0,0]))\n",
    "pdf1 = normal1.prob(x)\n",
    "plt.plot(x,pdf1,label=\"theta0\")\n",
    "normal2 = tfd.Normal(mean[1],jnp.sqrt(cov[1,1]))\n",
    "pdf2=  normal2.prob(x)\n",
    "plt.plot(x,pdf2,label=\"theta1\")\n",
    "\n",
    "posterior = model.apply(model_params[\"params\"])\n",
    "samples = posterior.sample(seed = jax.random.PRNGKey(10),sample_shape = (10000,))\n",
    "sns.kdeplot(samples[\"theta\"][:,0],label=r\"$VI\\ \\theta_0$\")\n",
    "sns.kdeplot(samples[\"theta\"][:,1],label = r\"$VI\\ \\theta_1$\")\n",
    "plt.legend()\n"
   ]
  },
  {
   "cell_type": "code",
   "execution_count": 25,
   "metadata": {},
   "outputs": [],
   "source": [
    "with open(\"../results/linear_regression/results_data/linear_regression_Ajax\",'wb') as f:\n",
    "    pickle.dump(posterior, f,protocol = 1)"
   ]
  },
  {
   "cell_type": "code",
   "execution_count": null,
   "metadata": {},
   "outputs": [],
   "source": []
  }
 ],
 "metadata": {
  "kernelspec": {
   "display_name": "Python 3.7.13 ('srip')",
   "language": "python",
   "name": "python3"
  },
  "language_info": {
   "codemirror_mode": {
    "name": "ipython",
    "version": 3
   },
   "file_extension": ".py",
   "mimetype": "text/x-python",
   "name": "python",
   "nbconvert_exporter": "python",
   "pygments_lexer": "ipython3",
   "version": "3.7.13"
  },
  "vscode": {
   "interpreter": {
    "hash": "31cf91725cfa433ed6f8f914e51425bfdb4b966b135703f258bb56c1780b6111"
   }
  }
 },
 "nbformat": 4,
 "nbformat_minor": 4
}
