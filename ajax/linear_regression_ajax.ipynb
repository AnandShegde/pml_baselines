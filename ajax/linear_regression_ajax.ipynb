{
 "cells": [
  {
   "cell_type": "code",
   "execution_count": 1,
   "metadata": {},
   "outputs": [],
   "source": [
    "try:\n",
    "  import optax\n",
    "except:\n",
    "  %pip install -qq optax\n",
    "  import optax\n",
    "try:\n",
    "    from ajax import Prior, Likelihood, Variational, ADVI\n",
    "except:\n",
    "   %pip install -qq git+https://github.com/patel-zeel/ajax.git\n",
    "   from ajax import Prior, Likelihood, Variational, ADVI\n",
    "\n",
    "try:\n",
    "  import tensorflow_probability.substrates.jax as tfp\n",
    "except:\n",
    "  %pip install -qq tensorflow_probability.substrates.jax\n",
    "  import tensorflow_probability.substrates.jax as tfp\n",
    "\n",
    "try:\n",
    "  import jax.numpy as jnp\n",
    "except:\n",
    "  %pip install -qq jax\n",
    "  import jax.numpy as jnp\n",
    "\n",
    "try:\n",
    "    import seaborn as sns\n",
    "except:\n",
    "    %pip install -qq seaborn \n",
    "    import seaborn as sns\n",
    "from ajax.utils import fill_params\n",
    "import jax\n",
    "import matplotlib.pyplot as plt\n",
    "import pickle\n",
    "import pandas as pd\n",
    "tfd = tfp.distributions\n",
    "tfb = tfp.bijectors\n",
    "import seaborn as sns"
   ]
  },
  {
   "cell_type": "code",
   "execution_count": 2,
   "metadata": {},
   "outputs": [
    {
     "data": {
      "text/plain": [
       "{'data': {'x': array([[-1.4144772 ],\n",
       "         [ 1.6039085 ],\n",
       "         [ 2.293806  ],\n",
       "         [ 3.8276772 ],\n",
       "         [ 1.999692  ],\n",
       "         [ 1.0609426 ],\n",
       "         [ 1.2900534 ],\n",
       "         [-2.3558607 ],\n",
       "         [ 3.0193057 ],\n",
       "         [-0.89879274]], dtype=float32),\n",
       "  'y': array([ 1.2143412,  7.422146 , 10.44427  , 12.321105 ,  7.133485 ,\n",
       "          6.848776 ,  6.8407617, -1.5791223, 11.820506 ,  1.6998756],\n",
       "        dtype=float32)},\n",
       " 'noise_variance': 1,\n",
       " 'prior': {'mean': array([14. ,  7.3], dtype=float32),\n",
       "  'var': array([[10.,  0.],\n",
       "         [ 0., 10.]], dtype=float32)}}"
      ]
     },
     "execution_count": 2,
     "metadata": {},
     "output_type": "execute_result"
    }
   ],
   "source": [
    "with open(\"../data/linear_regression_normal_distribution\",'rb') as f:\n",
    "    data = pickle.load(f)\n",
    "data"
   ]
  },
  {
   "cell_type": "code",
   "execution_count": 3,
   "metadata": {},
   "outputs": [
    {
     "name": "stderr",
     "output_type": "stream",
     "text": [
      "WARNING:absl:No GPU/TPU found, falling back to CPU. (Set TF_CPP_MIN_LOG_LEVEL=0 and rerun for more info.)\n"
     ]
    }
   ],
   "source": [
    "X = data['data']['x']\n",
    "Y = data['data']['y']\n",
    "\n",
    "def identity_trans(x):\n",
    "    return jnp.append(jnp.ones((m,1)),x,axis=1)\n",
    "m = X.shape[0]\n",
    "X = identity_trans(X)\n",
    "mean_prior = data['prior']['mean']\n",
    "var_prior = data['prior']['var']\n",
    "prior = Prior(\n",
    "    distributions = {\n",
    "        \"theta\" : tfp.distributions.MultivariateNormalDiag(loc = mean_prior, scale_diag = jnp.diagonal(var_prior))\n",
    "        }\n",
    "    )"
   ]
  },
  {
   "cell_type": "code",
   "execution_count": 4,
   "metadata": {},
   "outputs": [],
   "source": [
    "def link_func(samples):\n",
    "    mean = X@samples[\"theta\"]\n",
    "    diag = jnp.ones_like(mean)\n",
    "    return {\"loc\" : mean, \"scale_diag\" : diag}"
   ]
  },
  {
   "cell_type": "code",
   "execution_count": 5,
   "metadata": {},
   "outputs": [],
   "source": [
    "likelihood = Likelihood(tfp.distributions.MultivariateNormalDiag, link_func)"
   ]
  },
  {
   "cell_type": "code",
   "execution_count": 6,
   "metadata": {},
   "outputs": [],
   "source": [
    "variational = Variational(\n",
    "    prior=prior,\n",
    "    bijectors={\"theta\":tfb.Identity()},\n",
    "    vi_type=\"full_rank\"\n",
    ")"
   ]
  },
  {
   "cell_type": "code",
   "execution_count": 7,
   "metadata": {},
   "outputs": [
    {
     "data": {
      "text/plain": [
       "(10,)"
      ]
     },
     "execution_count": 7,
     "metadata": {},
     "output_type": "execute_result"
    }
   ],
   "source": [
    "advi = ADVI(prior, likelihood, variational, Y)\n",
    "Y.shape"
   ]
  },
  {
   "cell_type": "code",
   "execution_count": 8,
   "metadata": {},
   "outputs": [],
   "source": [
    "params = variational.get_params()\n",
    "tx = optax.adam(learning_rate=0.1)\n",
    "state = tx.init(params)\n",
    "value_and_grad_fun = jax.jit(jax.value_and_grad(advi.loss))"
   ]
  },
  {
   "cell_type": "code",
   "execution_count": 9,
   "metadata": {},
   "outputs": [],
   "source": [
    "def update_func(carry,x):\n",
    "  params = carry['params']\n",
    "  state = carry['state']\n",
    "  seed = carry['seed']\n",
    "  seed = jax.random.split(seed, 1)[0]\n",
    "  loss, grads = value_and_grad_fun(params, seed = seed)\n",
    "  updates, state = tx.update(grads, state)\n",
    "  params = optax.apply_updates(params, updates)\n",
    "  carry = {'params':params, 'state':state, 'seed':seed}\n",
    "  return carry, loss"
   ]
  },
  {
   "cell_type": "code",
   "execution_count": 10,
   "metadata": {},
   "outputs": [
    {
     "data": {
      "text/plain": [
       "DeviceArray([724.18286 , 258.6554  , 493.9683  , 101.28939 , 294.82098 ,\n",
       "             349.52515 ,  67.81837 , 207.18268 , 147.9197  , 278.1618  ,\n",
       "             254.59666 , 227.93672 , 127.90262 ,  84.82995 ,  69.22429 ,\n",
       "             212.09512 , 102.186615,  70.9604  , 197.90434 , 118.22158 ,\n",
       "              59.393616,  96.6113  ,  16.65726 ,  81.32517 ,  36.519783,\n",
       "              60.526978,  18.717678,  30.542679,  29.722649,  38.318916,\n",
       "              38.73203 ,  27.531479,  23.46746 ,  21.155405,  26.608809,\n",
       "              29.531902,  20.831917,  21.830654,  31.651226,  24.295326,\n",
       "              21.48712 ,  23.412714,  22.466381,  24.752155,  20.941753,\n",
       "              24.054907,  28.063107,  20.195696,  23.932518,  24.307285,\n",
       "              25.096727,  21.391354,  24.404293,  25.01939 ,  32.068638,\n",
       "              24.526754,  20.970009,  20.720352,  25.46098 ,  20.028538,\n",
       "              23.329477,  22.533787,  19.42607 ,  21.45922 ,  23.171211,\n",
       "              21.29714 ,  21.420698,  19.154804,  21.382177,  19.766308,\n",
       "              21.793556,  21.565191,  19.096706,  19.1268  ,  19.735697,\n",
       "              20.13765 ,  19.730593,  19.812054,  20.628386,  19.903008,\n",
       "              21.560762,  19.871048,  16.90934 ,  20.931751,  16.7213  ,\n",
       "              20.653381,  19.795288,  21.46574 ,  20.817444,  20.28227 ,\n",
       "              23.106182,  19.75392 ,  20.816948,  20.277376,  18.852165,\n",
       "              21.53803 ,  20.284782,  21.988941,  20.20681 ,  18.556087,\n",
       "              20.22288 ,  19.560772,  20.047926,  19.580711,  22.673676,\n",
       "              19.881214,  20.006   ,  19.293896,  18.204401,  20.295715,\n",
       "              19.793179,  19.805122,  20.625446,  20.631577,  19.567162,\n",
       "              19.867992,  19.614311,  19.567533,  19.554575,  19.823818,\n",
       "              19.910137,  19.408144,  20.532547,  19.10055 ,  23.82711 ,\n",
       "              19.226696,  19.171135,  19.938759,  19.775887,  20.443394,\n",
       "              20.254025,  20.814981,  20.532925,  20.7109  ,  20.624502,\n",
       "              20.530823,  19.57114 ,  20.418493,  21.081549,  19.111212,\n",
       "              19.028057,  20.246368,  20.060848,  21.307816,  22.600298,\n",
       "              19.550686,  20.538385,  19.550135,  19.99472 ,  20.233892,\n",
       "              20.062622,  20.102427,  20.149544,  20.195827,  19.74984 ,\n",
       "              20.074299,  20.080673,  20.302982,  20.02113 ,  19.633278,\n",
       "              20.203777,  19.72469 ,  19.796604,  20.162285,  19.942564,\n",
       "              19.950012,  19.921839,  19.832256,  20.386549,  19.493921,\n",
       "              19.979229,  19.531189,  19.199825,  19.732128,  19.775099,\n",
       "              19.37581 ,  21.980484,  19.729832,  20.971226,  19.721424,\n",
       "              21.445091,  19.602465,  20.407204,  20.52582 ,  20.304981,\n",
       "              19.906952,  19.511444,  19.835625,  20.219074,  20.00546 ,\n",
       "              20.018534,  19.928402,  19.753036,  20.048454,  20.076256,\n",
       "              19.972307,  19.991108,  20.149908,  19.856352,  19.7988  ,\n",
       "              19.83163 ,  20.186844,  19.981941,  20.05459 ,  20.149582,\n",
       "              19.992104,  20.131866,  20.161255,  19.75497 ,  20.027107,\n",
       "              19.372658,  20.008263,  19.230381,  20.397694,  20.083294,\n",
       "              20.25963 ,  19.48843 ,  20.07085 ,  19.82444 ,  20.174988,\n",
       "              19.46703 ,  20.607224,  20.974333,  20.447523,  19.6649  ,\n",
       "              19.93845 ,  20.003645,  18.84624 ,  20.324091,  20.297207,\n",
       "              18.771738,  20.318954,  19.756063,  20.314264,  20.266956,\n",
       "              19.052681,  19.363625,  19.971523,  20.528442,  19.788164,\n",
       "              19.576694,  21.028408,  20.892702,  19.17858 ,  20.394884,\n",
       "              19.32492 ,  19.464703,  19.943283,  20.417427,  19.87587 ,\n",
       "              19.971077,  20.426294,  20.449251,  21.194393,  19.428349,\n",
       "              20.43216 ,  20.111195,  20.224737,  19.828972,  20.082922,\n",
       "              20.138418,  19.90768 ,  20.021801,  20.085892,  19.448513,\n",
       "              20.037945,  20.085327,  19.753662,  19.727888,  19.765493,\n",
       "              19.661316,  20.193506,  19.56587 ,  19.613081,  19.745872,\n",
       "              19.63712 ,  20.890049,  19.419579,  19.333721,  19.47963 ,\n",
       "              19.278267,  19.466614,  20.141006,  20.396057,  20.015896,\n",
       "              19.755201,  20.768406,  25.843414,  19.21036 ,  19.312624,\n",
       "              21.14161 ,  19.808441,  20.144463,  20.038822,  19.984531,\n",
       "              19.669502,  19.369352,  19.528759,  19.921268,  20.086557,\n",
       "              20.529634,  20.687735,  20.72894 ,  22.691341,  19.752625,\n",
       "              19.92334 ,  19.74237 ,  20.37582 ,  20.265045,  19.512756,\n",
       "              19.617138,  19.529419,  20.262333,  20.794582,  19.767387,\n",
       "              20.066427,  19.71723 ,  19.715805,  19.937298,  19.730183,\n",
       "              20.0966  ,  19.848064,  19.896656,  19.626465,  20.34727 ,\n",
       "              19.534456,  19.52478 ,  19.8834  ,  19.941254,  20.120787,\n",
       "              19.498924,  19.693983,  21.735214,  19.719833,  19.824472,\n",
       "              20.033825,  19.704546,  20.546257,  19.850677,  19.705147,\n",
       "              19.80951 ,  19.918564,  19.907726,  19.696518,  20.158844,\n",
       "              19.925411,  19.959751,  20.778595,  19.627567,  19.963825],            dtype=float32)"
      ]
     },
     "execution_count": 10,
     "metadata": {},
     "output_type": "execute_result"
    }
   ],
   "source": [
    "carry = {'params':params, 'state': state,'seed':jax.random.PRNGKey(100)}\n",
    "carry,loss = jax.lax.scan(update_func, carry,xs = None,length= 350) \n",
    "loss"
   ]
  },
  {
   "cell_type": "code",
   "execution_count": 11,
   "metadata": {},
   "outputs": [
    {
     "data": {
      "text/plain": [
       "DeviceArray(-4599.714, dtype=float32)"
      ]
     },
     "execution_count": 11,
     "metadata": {},
     "output_type": "execute_result"
    }
   ],
   "source": [
    "likelihood.log_prob(data=Y,params =prior.sample(seed = jax.random.PRNGKey(100)))"
   ]
  },
  {
   "cell_type": "code",
   "execution_count": 12,
   "metadata": {},
   "outputs": [
    {
     "data": {
      "text/plain": [
       "<matplotlib.collections.PathCollection at 0x7f57cc381d50>"
      ]
     },
     "execution_count": 12,
     "metadata": {},
     "output_type": "execute_result"
    },
    {
     "data": {
      "image/png": "[encoded data removed]",
      "text/plain": [
       "<Figure size 432x288 with 1 Axes>"
      ]
     },
     "metadata": {
      "needs_background": "light"
     },
     "output_type": "display_data"
    }
   ],
   "source": [
    "x = jnp.linspace(1,6,10000)\n",
    "variational.set_params(carry['params'])\n",
    "di = {\"theta\":x}\n",
    "samples = variational.sample(seed = jax.random.PRNGKey(10),sample_shape = (100000,))\n",
    "plt.scatter(samples['theta'][:,0],samples['theta'][:,1])\n",
    "plt.scatter(data['data']['x'],data['data']['y'])"
   ]
  },
  {
   "cell_type": "code",
   "execution_count": 13,
   "metadata": {},
   "outputs": [],
   "source": [
    "def posterior(phi,m_0, t, S_0, beta, return_inverse=False):\n",
    "    \"\"\"Computes mean and covariance matrix of the posterior distribution.\"\"\"\n",
    "    S_N_inv = jnp.linalg.inv(S_0) + beta * phi.T.dot(phi)\n",
    "    S_N = jnp.linalg.inv(S_N_inv)\n",
    "    m_N =S_N@(jnp.linalg.inv(S_0)@m_0+beta *phi.T.dot(t))\n",
    "\n",
    "    if return_inverse:\n",
    "        return m_N, S_N, S_N_inv\n",
    "    else:\n",
    "        return m_N, S_N\n"
   ]
  },
  {
   "cell_type": "code",
   "execution_count": 14,
   "metadata": {},
   "outputs": [],
   "source": [
    "mean,cov = posterior(X, mean_prior, Y, var_prior,1)\n"
   ]
  },
  {
   "cell_type": "code",
   "execution_count": 15,
   "metadata": {},
   "outputs": [
    {
     "data": {
      "image/png": "[encoded data removed]",
      "text/plain": [
       "<Figure size 432x288 with 1 Axes>"
      ]
     },
     "metadata": {
      "needs_background": "light"
     },
     "output_type": "display_data"
    }
   ],
   "source": [
    "plt.xlim(1,6)\n",
    "normal1 = tfd.Normal(mean[0],jnp.sqrt(cov[0,0]))\n",
    "x = jnp.linspace(1,6,10000)\n",
    "pdf1 = normal1.prob(x)\n",
    "plt.plot(x,pdf1,label=\"theta0\")\n",
    "normal2 = tfd.Normal(mean[1],jnp.sqrt(cov[1,1]))\n",
    "pdf2=  normal2.prob(x)\n",
    "plt.plot(x,pdf2,label=\"theta1\")\n",
    "sns.kdeplot(samples[\"theta\"][:,0],label=r\"$VI\\ \\theta_0$\",bw_method= 0.05)\n",
    "sns.kdeplot(samples[\"theta\"][:,1],label = r\"$VI\\ \\theta_1$\",bw_method = 0.05)\n",
    "plt.legend()\n",
    "plt.savefig(\"ajax_linear_regression\")"
   ]
  },
  {
   "cell_type": "code",
   "execution_count": 16,
   "metadata": {},
   "outputs": [],
   "source": [
    "with open(\"./linear_regression_Ajax\",'wb') as f:\n",
    "    pickle.dump(variational, f,protocol = 1)"
   ]
  }
 ],
 "metadata": {
  "kernelspec": {
   "display_name": "Python 3",
   "language": "python",
   "name": "python3"
  },
  "language_info": {
   "codemirror_mode": {
    "name": "ipython",
    "version": 3
   },
   "file_extension": ".py",
   "mimetype": "text/x-python",
   "name": "python",
   "nbconvert_exporter": "python",
   "pygments_lexer": "ipython3",
   "version": "3.7.13"
  }
 },
 "nbformat": 4,
 "nbformat_minor": 4
}
