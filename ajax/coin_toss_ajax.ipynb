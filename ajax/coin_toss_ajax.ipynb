{
 "cells": [
  {
   "cell_type": "code",
   "execution_count": 1,
   "metadata": {
    "id": "_LXsbDsgPc5n"
   },
   "outputs": [
    {
     "name": "stderr",
     "output_type": "stream",
     "text": [
      "2022-06-12 13:51:53.551684: W tensorflow/stream_executor/platform/default/dso_loader.cc:64] Could not load dynamic library 'libcudart.so.11.0'; dlerror: libcudart.so.11.0: cannot open shared object file: No such file or directory\n"
     ]
    }
   ],
   "source": [
    "try:\n",
    "  from ajax import Prior, Likelihood, Variational, ADVI\n",
    "except:\n",
    "  %pip install -qq git+https://github.com/patel-zeel/ajax.git\n",
    "  from ajax import Prior, Likelihood, Variational, ADVI\n",
    "\n",
    "try:\n",
    "  import optax\n",
    "except:\n",
    "  %pip install -qq optax\n",
    "  import optax\n",
    "\n",
    "try:\n",
    "  import tensorflow_probability.substrates.jax as tfp\n",
    "except:\n",
    "  %pip install -qq tensorflow_probability.substrates.jax\n",
    "  import tensorflow_probability.substrates.jax as tfp\n",
    "\n",
    "try:\n",
    "  import jax.numpy as jnp\n",
    "except:\n",
    "  %pip install -qq jax\n",
    "  import jax.numpy as jnp\n",
    "\n",
    "try:\n",
    "    import seaborn as sns\n",
    "except:\n",
    "    %pip install -qq seaborn \n",
    "    import seaborn as sns\n",
    "from ajax.utils import fill_params\n",
    "import jax\n",
    "import matplotlib.pyplot as plt\n",
    "import pickle\n",
    "tfd = tfp.distributions\n",
    "tfb = tfp.bijectors"
   ]
  },
  {
   "cell_type": "code",
   "execution_count": 2,
   "metadata": {},
   "outputs": [
    {
     "data": {
      "text/plain": [
       "{'samples': array([1, 1, 0, 1, 1, 1, 1, 1, 0, 1], dtype=int32),\n",
       " 'prior': {'alpha': 10, 'beta': 15}}"
      ]
     },
     "execution_count": 2,
     "metadata": {},
     "output_type": "execute_result"
    }
   ],
   "source": [
    "with open(\"../data/coin_toss\",'rb') as f:\n",
    "    data = pickle.load(f)\n",
    "data"
   ]
  },
  {
   "cell_type": "code",
   "execution_count": 3,
   "metadata": {
    "id": "zcQQaBQg2u4G"
   },
   "outputs": [],
   "source": [
    "dataset = data['samples']\n",
    "alpha_param = data['prior'] ['alpha']\n",
    "beta_param = data['prior']['beta']"
   ]
  },
  {
   "cell_type": "code",
   "execution_count": 4,
   "metadata": {
    "id": "VQYxJ4A1PkLn"
   },
   "outputs": [
    {
     "name": "stderr",
     "output_type": "stream",
     "text": [
      "WARNING:absl:No GPU/TPU found, falling back to CPU. (Set TF_CPP_MIN_LOG_LEVEL=0 and rerun for more info.)\n"
     ]
    }
   ],
   "source": [
    "prior = Prior(\n",
    "    distributions = {\n",
    "        \"theta\" : tfd.Beta(alpha_param, beta_param)\n",
    "        }\n",
    "    )"
   ]
  },
  {
   "cell_type": "code",
   "execution_count": 5,
   "metadata": {
    "id": "ALHyFO8LzGQt"
   },
   "outputs": [],
   "source": [
    "def link_function(samples):\n",
    "  probs = samples[\"theta\"]\n",
    "  return {\"probs\" : probs}"
   ]
  },
  {
   "cell_type": "code",
   "execution_count": 6,
   "metadata": {
    "id": "ZQVTu7sf8b0E"
   },
   "outputs": [],
   "source": [
    "likelihood = Likelihood(tfd.Bernoulli, link_function)"
   ]
  },
  {
   "cell_type": "code",
   "execution_count": 7,
   "metadata": {
    "id": "Rqz4jAJb8--m"
   },
   "outputs": [],
   "source": [
    "variational = Variational(\n",
    "    prior=prior,\n",
    "    bijectors={\"theta\":tfb.Sigmoid()},\n",
    "    vi_type=\"full_rank\"\n",
    ")"
   ]
  },
  {
   "cell_type": "code",
   "execution_count": 8,
   "metadata": {
    "id": "4SJOCk2u9I6t"
   },
   "outputs": [],
   "source": [
    "advi = ADVI(prior, likelihood, variational, dataset)"
   ]
  },
  {
   "cell_type": "code",
   "execution_count": 9,
   "metadata": {
    "id": "d5wj30co9Yi5"
   },
   "outputs": [],
   "source": [
    "params = variational.get_params()"
   ]
  },
  {
   "cell_type": "code",
   "execution_count": 10,
   "metadata": {
    "id": "QCBPtC8E9wg3"
   },
   "outputs": [],
   "source": [
    "tx = optax.adam(learning_rate=0.1)\n",
    "state = tx.init(params)\n",
    "value_and_grad_fun = jax.jit(jax.value_and_grad(advi.loss))"
   ]
  },
  {
   "cell_type": "code",
   "execution_count": 11,
   "metadata": {
    "colab": {
     "base_uri": "https://localhost:8080/"
    },
    "id": "71I4bEkl9-kI",
    "outputId": "10df9839-7477-41a3-c6b8-ae656a181562"
   },
   "outputs": [],
   "source": [
    "def update_func(carry,x):\n",
    "  params = carry['params']\n",
    "  state = carry['state']\n",
    "  seed = carry['seed']\n",
    "  seed = jax.random.split(seed, 1)[0]\n",
    "  loss, grads = value_and_grad_fun(params, seed = seed)\n",
    "  updates, state = tx.update(grads, state)\n",
    "  params = optax.apply_updates(params, updates)\n",
    "  carry = {'params':params, 'state':state, 'seed':seed}\n",
    "  return carry, loss"
   ]
  },
  {
   "cell_type": "code",
   "execution_count": 12,
   "metadata": {},
   "outputs": [
    {
     "data": {
      "text/plain": [
       "DeviceArray([10.058517 , 16.113482 ,  6.9468374, 13.484032 ,  7.629686 ,\n",
       "              7.020435 ,  6.9728394,  8.745751 ,  8.365893 ,  7.649653 ,\n",
       "              6.921013 ,  7.7824326,  7.522305 ,  8.534044 ,  7.358736 ,\n",
       "              7.980904 ,  7.944159 ,  7.7575483,  7.489364 ,  7.49482  ,\n",
       "              7.182612 ,  7.82884  ,  7.843391 ,  7.5552077,  7.91261  ,\n",
       "              7.8136683,  8.023399 ,  7.9987373,  7.66147  ,  7.0872345,\n",
       "              7.945277 ,  7.942891 ,  7.7062063,  7.8023224,  7.841023 ,\n",
       "              7.667099 ,  7.588679 ,  7.4945555,  7.921564 ,  8.338562 ,\n",
       "              7.803941 ,  7.715846 ,  8.002228 ,  7.9199047,  7.6822696,\n",
       "              7.6283045,  7.7069073,  7.7482386,  7.6718607,  7.7961497],            dtype=float32)"
      ]
     },
     "execution_count": 12,
     "metadata": {},
     "output_type": "execute_result"
    }
   ],
   "source": [
    "carry = {'params':params, 'state': state,'seed':jax.random.PRNGKey(10)}#key value matters keep it 10 :(\n",
    "carry,loss = jax.lax.scan(update_func, carry,xs = None,length= 50) \n",
    "loss"
   ]
  },
  {
   "cell_type": "code",
   "execution_count": 13,
   "metadata": {
    "id": "XwN54yTt_gEX"
   },
   "outputs": [],
   "source": [
    "keys = jax.random.PRNGKey(1)\n",
    "variational.set_params(carry['params'])\n",
    "sample = variational.sample(seed = keys, sample_shape = (19000,))"
   ]
  },
  {
   "cell_type": "code",
   "execution_count": 14,
   "metadata": {
    "colab": {
     "base_uri": "https://localhost:8080/",
     "height": 282
    },
    "id": "xHDwgFpxCS3e",
    "outputId": "ca56b1e2-f974-4173-9385-8f09790053ea"
   },
   "outputs": [
    {
     "data": {
      "image/png": "[encoded data removed]",
      "text/plain": [
       "<Figure size 432x288 with 1 Axes>"
      ]
     },
     "metadata": {
      "needs_background": "light"
     },
     "output_type": "display_data"
    }
   ],
   "source": [
    "beta_dist_one = tfd.Beta(alpha_param, beta_param)\n",
    "x = jnp.linspace(0,1,100)\n",
    "plt.plot(x,beta_dist_one.prob(x),label=\"prior\")\n",
    "one= jnp.sum(dataset==1).astype('float32')\n",
    "zero= jnp.sum(dataset==0).astype('float32')\n",
    "beta_dist = tfd.Beta(alpha_param+one, beta_param+zero)\n",
    "post_pdf = beta_dist.prob(x)\n",
    "plt.plot(x,post_pdf,label=\"True Posterior\")\n",
    "di = {\"theta\":x}\n",
    "plt.plot(x,jnp.exp(variational.log_prob(di)),label = \"VI Estimate\")\n",
    "plt.legend()\n",
    "plt.savefig(\"coin_toss_fig\")"
   ]
  },
  {
   "cell_type": "code",
   "execution_count": 16,
   "metadata": {},
   "outputs": [],
   "source": [
    "with open(\"results/coin_toss_VI_Ajax_result\",'wb') as f:\n",
    "    pickle.dump(variational, f,protocol = 1)"
   ]
  },
  {
   "cell_type": "code",
   "execution_count": null,
   "metadata": {},
   "outputs": [],
   "source": []
  }
 ],
 "metadata": {
  "colab": {
   "name": "coin_toss_ajax",
   "provenance": []
  },
  "interpreter": {
   "hash": "31cf91725cfa433ed6f8f914e51425bfdb4b966b135703f258bb56c1780b6111"
  },
  "kernelspec": {
   "display_name": "Python 3.7.13 ('srip')",
   "language": "python",
   "name": "python3"
  },
  "language_info": {
   "codemirror_mode": {
    "name": "ipython",
    "version": 3
   },
   "file_extension": ".py",
   "mimetype": "text/x-python",
   "name": "python",
   "nbconvert_exporter": "python",
   "pygments_lexer": "ipython3",
   "version": "3.7.13"
  }
 },
 "nbformat": 4,
 "nbformat_minor": 1
}
