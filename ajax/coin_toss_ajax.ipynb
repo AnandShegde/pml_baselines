{
 "cells": [
  {
   "cell_type": "code",
   "execution_count": 75,
   "metadata": {
    "id": "_LXsbDsgPc5n"
   },
   "outputs": [],
   "source": [
    "\n",
    "try:\n",
    "  from ajax import Prior, Likelihood, Variational, ADVI\n",
    "except:\n",
    "  %pip install -qq git+https://github.com/patel-zeel/ajax.git\n",
    "  from ajax import Prior, Likelihood, Variational, ADVI\n",
    "\n",
    "try:\n",
    "  import optax\n",
    "except:\n",
    "  %pip install -qq optax\n",
    "  import optax\n",
    "\n",
    "try:\n",
    "  import tensorflow_probability.substrates.jax as tfp\n",
    "except:\n",
    "  %pip install -qq tensorflow_probability.substrates.jax\n",
    "  import tensorflow_probability.substrates.jax as tfp\n",
    "\n",
    "try:\n",
    "  import jax.numpy as jnp\n",
    "except:\n",
    "  %pip install -qq jax\n",
    "  import jax.numpy as jnp\n",
    "\n",
    "try:\n",
    "    import seaborn as sns\n",
    "except:\n",
    "    %pip install -qq seaborn \n",
    "    import seaborn as sns\n",
    "from ajax.utils import fill_params\n",
    "import jax\n",
    "import matplotlib.pyplot as plt\n",
    "import pickle\n",
    "tfd = tfp.distributions\n",
    "tfb = tfp.bijectors"
   ]
  },
  {
   "cell_type": "code",
   "execution_count": 76,
   "metadata": {},
   "outputs": [
    {
     "data": {
      "text/plain": [
       "{'samples': array([1, 1, 0, 1, 1, 1, 1, 1, 0, 1], dtype=int32),\n",
       " 'prior': {'alpha': 10, 'beta': 15}}"
      ]
     },
     "execution_count": 76,
     "metadata": {},
     "output_type": "execute_result"
    }
   ],
   "source": [
    "with open(\"../data/coin_toss\",'rb') as f:\n",
    "    data = pickle.load(f)\n",
    "data"
   ]
  },
  {
   "cell_type": "code",
   "execution_count": 117,
   "metadata": {
    "id": "zcQQaBQg2u4G"
   },
   "outputs": [],
   "source": [
    "dataset = data['samples']\n",
    "alpha_param = data['prior'] ['alpha']\n",
    "beta_param = data['prior']['beta']"
   ]
  },
  {
   "cell_type": "code",
   "execution_count": 118,
   "metadata": {
    "id": "VQYxJ4A1PkLn"
   },
   "outputs": [],
   "source": [
    "prior = Prior(\n",
    "    distributions = {\n",
    "        \"theta\" : tfd.Beta(alpha_param, beta_param)\n",
    "        }\n",
    "    )"
   ]
  },
  {
   "cell_type": "code",
   "execution_count": 119,
   "metadata": {
    "id": "ALHyFO8LzGQt"
   },
   "outputs": [],
   "source": [
    "def link_function(samples):\n",
    "  probs = samples[\"theta\"]\n",
    "  return {\"probs\" : probs}"
   ]
  },
  {
   "cell_type": "code",
   "execution_count": 120,
   "metadata": {
    "id": "ZQVTu7sf8b0E"
   },
   "outputs": [],
   "source": [
    "likelihood = Likelihood(tfd.Bernoulli, link_function)"
   ]
  },
  {
   "cell_type": "code",
   "execution_count": 121,
   "metadata": {
    "id": "Rqz4jAJb8--m"
   },
   "outputs": [],
   "source": [
    "variational = Variational(\n",
    "    prior=prior,\n",
    "    bijectors={\"theta\":tfb.Sigmoid()},\n",
    "    vi_type=\"full_rank\"\n",
    ")"
   ]
  },
  {
   "cell_type": "code",
   "execution_count": 122,
   "metadata": {
    "id": "4SJOCk2u9I6t"
   },
   "outputs": [],
   "source": [
    "advi = ADVI(prior, likelihood, variational, dataset)"
   ]
  },
  {
   "cell_type": "code",
   "execution_count": 123,
   "metadata": {
    "id": "d5wj30co9Yi5"
   },
   "outputs": [],
   "source": [
    "params = variational.get_params()"
   ]
  },
  {
   "cell_type": "code",
   "execution_count": 132,
   "metadata": {
    "id": "QCBPtC8E9wg3"
   },
   "outputs": [],
   "source": [
    "tx = optax.adam(learning_rate=0.1)\n",
    "state = tx.init(params)\n",
    "value_and_grad_fun = jax.jit(jax.value_and_grad(advi.loss))"
   ]
  },
  {
   "cell_type": "code",
   "execution_count": 125,
   "metadata": {
    "colab": {
     "base_uri": "https://localhost:8080/"
    },
    "id": "71I4bEkl9-kI",
    "outputId": "10df9839-7477-41a3-c6b8-ae656a181562"
   },
   "outputs": [],
   "source": [
    "def update_func(carry,x):\n",
    "  params = carry['params']\n",
    "  state = carry['state']\n",
    "  seed = carry['seed']\n",
    "  seed = jax.random.split(seed, 1)[0]\n",
    "  loss, grads = value_and_grad_fun(params, seed = seed)\n",
    "  updates, state = tx.update(grads, state)\n",
    "  params = optax.apply_updates(params, updates)\n",
    "  carry = {'params':params, 'state':state, 'seed':seed}\n",
    "  return carry, loss"
   ]
  },
  {
   "cell_type": "code",
   "execution_count": 136,
   "metadata": {},
   "outputs": [
    {
     "data": {
      "text/plain": [
       "DeviceArray([10.058517 , 16.113482 ,  6.946836 , 13.484033 ,  7.629686 ,\n",
       "              7.020435 ,  6.9728394,  8.745752 ,  8.365892 ,  7.649656 ,\n",
       "              6.921013 ,  7.7824326,  7.522306 ,  8.534044 ,  7.3587365,\n",
       "              7.980905 ,  7.94416  ,  7.757548 ,  7.489363 ,  7.494821 ,\n",
       "              7.1826124,  7.8288393,  7.843391 ,  7.5552077,  7.912609 ,\n",
       "              7.8136673,  8.023399 ,  7.9987373,  7.661469 ,  7.0872355,\n",
       "              7.9452777,  7.9428906,  7.7062073,  7.8023214,  7.841023 ,\n",
       "              7.667098 ,  7.588679 ,  7.4945555,  7.921563 ,  8.338561 ,\n",
       "              7.8039403,  7.715846 ,  8.002229 ,  7.9199047,  7.68227  ,\n",
       "              7.628305 ,  7.7069063,  7.748238 ,  7.67186  ,  7.7961493],            dtype=float32)"
      ]
     },
     "execution_count": 136,
     "metadata": {},
     "output_type": "execute_result"
    }
   ],
   "source": [
    "carry = {'params':params, 'state': state,'seed':jax.random.PRNGKey(10)}#key value matters keep it 10 :(\n",
    "carry,loss = jax.lax.scan(update_func, carry,xs = None,length= 50) \n",
    "loss"
   ]
  },
  {
   "cell_type": "code",
   "execution_count": 137,
   "metadata": {
    "id": "XwN54yTt_gEX"
   },
   "outputs": [],
   "source": [
    "keys = jax.random.PRNGKey(1)\n",
    "variational.set_params(carry['params'])\n",
    "sample = variational.sample(seed = keys, sample_shape = (19000,))"
   ]
  },
  {
   "cell_type": "code",
   "execution_count": 138,
   "metadata": {
    "colab": {
     "base_uri": "https://localhost:8080/"
    },
    "id": "ophTBoq6T0By",
    "outputId": "23da2646-3c65-4806-fb9d-1e842845ed13"
   },
   "outputs": [
    {
     "data": {
      "text/plain": [
       "DeviceArray([0.41422155, 0.47354525, 0.50214016, ..., 0.61880934,\n",
       "             0.48988017, 0.5268108 ], dtype=float32)"
      ]
     },
     "execution_count": 138,
     "metadata": {},
     "output_type": "execute_result"
    }
   ],
   "source": [
    "sample['theta']\n",
    "# print(variational)"
   ]
  },
  {
   "cell_type": "code",
   "execution_count": 139,
   "metadata": {
    "colab": {
     "base_uri": "https://localhost:8080/",
     "height": 282
    },
    "id": "xHDwgFpxCS3e",
    "outputId": "ca56b1e2-f974-4173-9385-8f09790053ea"
   },
   "outputs": [
    {
     "data": {
      "text/plain": [
       "<matplotlib.legend.Legend at 0x7fbe2428a6d0>"
      ]
     },
     "execution_count": 139,
     "metadata": {},
     "output_type": "execute_result"
    },
    {
     "data": {
      "image/png": "[encoded data removed]",
      "text/plain": [
       "<Figure size 432x288 with 1 Axes>"
      ]
     },
     "metadata": {
      "needs_background": "light"
     },
     "output_type": "display_data"
    }
   ],
   "source": [
    "beta_dist_one = tfd.Beta(alpha_param, beta_param)\n",
    "x = jnp.linspace(0,1,100)\n",
    "plt.plot(x,beta_dist_one.prob(x),label=\"prior\")\n",
    "one= jnp.sum(dataset==1).astype('float32')\n",
    "zero= jnp.sum(dataset==0).astype('float32')\n",
    "beta_dist = tfd.Beta(alpha_param+one, beta_param+zero)\n",
    "post_pdf = beta_dist.prob(x)\n",
    "plt.plot(x,post_pdf,label=\"True Posterior\")\n",
    "sns.kdeplot(sample['theta'],label = \"vi estimate\")\n",
    "plt.legend()"
   ]
  }
 ],
 "metadata": {
  "colab": {
   "name": "coin_toss_ajax",
   "provenance": []
  },
  "kernelspec": {
   "display_name": "Python 3",
   "language": "python",
   "name": "python3"
  },
  "language_info": {
   "codemirror_mode": {
    "name": "ipython",
    "version": 3
   },
   "file_extension": ".py",
   "mimetype": "text/x-python",
   "name": "python",
   "nbconvert_exporter": "python",
   "pygments_lexer": "ipython3",
   "version": "3.7.13"
  }
 },
 "nbformat": 4,
 "nbformat_minor": 1
}
