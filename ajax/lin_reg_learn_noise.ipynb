{
 "cells": [
  {
   "cell_type": "markdown",
   "metadata": {},
   "source": [
    "# Linear regression with learnable noise parameter"
   ]
  },
  {
   "cell_type": "code",
   "execution_count": 40,
   "metadata": {},
   "outputs": [],
   "source": [
    "try:\n",
    "  import optax\n",
    "except:\n",
    "  %pip install -qq optax\n",
    "  import optax\n",
    "try:\n",
    "    from ajax import Prior, Likelihood, Variational, ADVI\n",
    "except:\n",
    "   %pip install -qq git+https://github.com/patel-zeel/ajax.git\n",
    "   from ajax import Prior, Likelihood, Variational, ADVI\n",
    "\n",
    "try:\n",
    "  import tensorflow_probability.substrates.jax as tfp\n",
    "except:\n",
    "  %pip install -qq tensorflow_probability.substrates.jax\n",
    "  import tensorflow_probability.substrates.jax as tfp\n",
    "\n",
    "try:\n",
    "  import jax.numpy as jnp\n",
    "except:\n",
    "  %pip install -qq jax\n",
    "  import jax.numpy as jnp\n",
    "\n",
    "try:\n",
    "    import seaborn as sns\n",
    "except:\n",
    "    %pip install -qq seaborn \n",
    "    import seaborn as sns\n",
    "from ajax.utils import fill_params\n",
    "import jax\n",
    "import matplotlib.pyplot as plt\n",
    "import pickle\n",
    "import pandas as pd\n",
    "tfd = tfp.distributions\n",
    "tfb = tfp.bijectors\n",
    "import seaborn as sns"
   ]
  },
  {
   "cell_type": "code",
   "execution_count": 41,
   "metadata": {},
   "outputs": [
    {
     "data": {
      "text/plain": [
       "{'data': {'x': array([[ 1.7598495 ],\n",
       "         [-0.23643708],\n",
       "         [ 3.1509051 ],\n",
       "         [-0.79705334],\n",
       "         [-2.500547  ],\n",
       "         [ 1.6101036 ],\n",
       "         [ 0.14806175],\n",
       "         [ 0.05331182],\n",
       "         [ 2.6665907 ],\n",
       "         [-0.14456654]], dtype=float32),\n",
       "  'y': array([[ 9.011515 ],\n",
       "         [ 5.4843464],\n",
       "         [ 9.670069 ],\n",
       "         [ 1.1274505],\n",
       "         [-1.283633 ],\n",
       "         [ 7.062801 ],\n",
       "         [ 3.6567392],\n",
       "         [ 2.2533112],\n",
       "         [10.321623 ],\n",
       "         [ 2.2750926]], dtype=float32)},\n",
       " 'noise_variance': 1,\n",
       " 'prior': {'mean': array([14. ,  7.3], dtype=float32),\n",
       "  'var': array([[10.,  0.],\n",
       "         [ 0., 10.]], dtype=float32),\n",
       "  'alpha': 1,\n",
       "  'beta': 1}}"
      ]
     },
     "execution_count": 41,
     "metadata": {},
     "output_type": "execute_result"
    }
   ],
   "source": [
    "with open(\"../data/linear_regression/linear_regression\",'rb') as f:\n",
    "    data = pickle.load(f)\n",
    "data"
   ]
  },
  {
   "cell_type": "code",
   "execution_count": 42,
   "metadata": {},
   "outputs": [],
   "source": [
    "X = data['data']['x']\n",
    "Y = data['data']['y'] \n",
    "Y = jnp.array(data['data']['y']).reshape((-1))\n",
    "prior_mean = data['prior']['mean']\n",
    "prior_cov = data['prior']['var']\n",
    "prior_alpha = data['prior']['alpha']\n",
    "prior_beta = data['prior']['beta']"
   ]
  },
  {
   "cell_type": "code",
   "execution_count": 43,
   "metadata": {},
   "outputs": [],
   "source": [
    "def identity_trans(x):\n",
    "    return jnp.append(jnp.ones((m,1)),x,axis=1)\n",
    "m = X.shape[0]\n",
    "X = identity_trans(X)"
   ]
  },
  {
   "cell_type": "code",
   "execution_count": 44,
   "metadata": {},
   "outputs": [],
   "source": [
    "prior = Prior(\n",
    "    distributions = {\n",
    "        \"theta\" : tfd.MultivariateNormalDiag(loc = prior_mean, scale_diag = jnp.diagonal(prior_cov)),\n",
    "        \"noise\" : tfd.InverseGamma(concentration = prior_alpha, scale = prior_beta)\n",
    "        }\n",
    "    )"
   ]
  },
  {
   "cell_type": "code",
   "execution_count": 45,
   "metadata": {},
   "outputs": [],
   "source": [
    "def link_func(samples):\n",
    "    mean = X@samples[\"theta\"]\n",
    "    diag = jnp.ones_like(mean)*samples[\"noise\"]\n",
    "    return {\"loc\" : mean, \"scale_diag\" : diag}"
   ]
  },
  {
   "cell_type": "code",
   "execution_count": 46,
   "metadata": {},
   "outputs": [],
   "source": [
    "likelihood = Likelihood(tfp.distributions.MultivariateNormalDiag, link_func)"
   ]
  },
  {
   "cell_type": "code",
   "execution_count": 47,
   "metadata": {},
   "outputs": [],
   "source": [
    "variational = Variational(\n",
    "    prior=prior,\n",
    "    bijectors={\"theta\":tfb.Identity(),\"noise\":tfb.Exp()},\n",
    "    vi_type=\"full_rank\"\n",
    ")"
   ]
  },
  {
   "cell_type": "code",
   "execution_count": 48,
   "metadata": {},
   "outputs": [],
   "source": [
    "advi = ADVI(prior, likelihood, variational, Y)"
   ]
  },
  {
   "cell_type": "code",
   "execution_count": 49,
   "metadata": {},
   "outputs": [
    {
     "data": {
      "text/plain": [
       "(DeviceArray(43.42201, dtype=float32),\n",
       " {'noise': <tfp.distributions.TransformedDistribution 'expMultivariateNormalTriL' batch_shape=[] event_shape=[1] dtype=float32>,\n",
       "  'theta': <tfp.distributions.TransformedDistribution 'identityMultivariateNormalTriL' batch_shape=[] event_shape=[2] dtype=float32>})"
      ]
     },
     "execution_count": 49,
     "metadata": {},
     "output_type": "execute_result"
    }
   ],
   "source": [
    "params = variational.get_params()\n",
    "tx = optax.adam(learning_rate=0.1)\n",
    "state = tx.init(params)\n",
    "value_and_grad_fun = jax.jit(jax.value_and_grad(advi.loss),static_argnames=['n_samples'])\n",
    "seed = jax.random.PRNGKey(10)\n",
    "value_and_grad_fun(params, seed)"
   ]
  },
  {
   "cell_type": "code",
   "execution_count": 12,
   "metadata": {},
   "outputs": [],
   "source": [
    "def update_func(carry,x):\n",
    "  params = carry['params']\n",
    "  state = carry['state']\n",
    "  seed = carry['seed']\n",
    "  seed = jax.random.split(seed, 1)[0]\n",
    "  loss, grads = value_and_grad_fun(params, seed = seed,n_samples = 10)\n",
    "  updates, state = tx.update(grads, state)\n",
    "  params = optax.apply_updates(params, updates)\n",
    "  carry = {'params':params, 'state':state, 'seed':seed}\n",
    "  return carry, loss"
   ]
  },
  {
   "cell_type": "code",
   "execution_count": 50,
   "metadata": {},
   "outputs": [],
   "source": [
    "carry = {'params':params, 'state': state,'seed':jax.random.PRNGKey(5)}\n",
    "n_itr = 350\n",
    "carry,loss = jax.lax.scan(update_func, carry,xs = None,length = n_itr)"
   ]
  },
  {
   "cell_type": "code",
   "execution_count": 51,
   "metadata": {},
   "outputs": [
    {
     "data": {
      "text/plain": [
       "[<matplotlib.lines.Line2D at 0x7f687c4ea0d0>]"
      ]
     },
     "execution_count": 51,
     "metadata": {},
     "output_type": "execute_result"
    },
    {
     "data": {
      "image/png": "[encoded data removed]",
      "text/plain": [
       "<Figure size 432x288 with 1 Axes>"
      ]
     },
     "metadata": {
      "needs_background": "light"
     },
     "output_type": "display_data"
    }
   ],
   "source": [
    "plt.plot(loss)"
   ]
  },
  {
   "cell_type": "code",
   "execution_count": 53,
   "metadata": {},
   "outputs": [],
   "source": [
    "variational.set_params(carry['params'])\n",
    "samples = variational.sample(seed = jax.random.PRNGKey(100),sample_shape = (20000,))"
   ]
  },
  {
   "cell_type": "code",
   "execution_count": 54,
   "metadata": {},
   "outputs": [
    {
     "data": {
      "text/plain": [
       "<matplotlib.legend.Legend at 0x7f686022b590>"
      ]
     },
     "execution_count": 54,
     "metadata": {},
     "output_type": "execute_result"
    },
    {
     "data": {
      "image/png": "[encoded data removed]",
      "text/plain": [
       "<Figure size 432x288 with 1 Axes>"
      ]
     },
     "metadata": {
      "needs_background": "light"
     },
     "output_type": "display_data"
    }
   ],
   "source": [
    "sns.kdeplot(samples['theta'][:,0],label = 'theta 0')\n",
    "sns.kdeplot(samples['theta'][:,1],label = 'theta 1')\n",
    "sns.kdeplot(samples['noise'],label = 'noise')\n",
    "plt.legend()"
   ]
  },
  {
   "cell_type": "code",
   "execution_count": 55,
   "metadata": {},
   "outputs": [],
   "source": [
    "with open (\"../results/linear_regression_noise/results_data/ajax_model\",\"wb\") as f:\n",
    "    pickle.dump(variational,f,protocol=1)"
   ]
  },
  {
   "cell_type": "code",
   "execution_count": null,
   "metadata": {},
   "outputs": [],
   "source": []
  }
 ],
 "metadata": {
  "interpreter": {
   "hash": "e86a58d0b3133c413efff51ef13f246853108f9d46506a1801e007bc21f6618c"
  },
  "kernelspec": {
   "display_name": "Python 3.7.13 ('base')",
   "language": "python",
   "name": "python3"
  },
  "language_info": {
   "codemirror_mode": {
    "name": "ipython",
    "version": 3
   },
   "file_extension": ".py",
   "mimetype": "text/x-python",
   "name": "python",
   "nbconvert_exporter": "python",
   "pygments_lexer": "ipython3",
   "version": "3.7.13"
  },
  "orig_nbformat": 4
 },
 "nbformat": 4,
 "nbformat_minor": 2
}
