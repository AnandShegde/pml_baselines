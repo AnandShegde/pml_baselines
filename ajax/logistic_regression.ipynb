{
 "cells": [
  {
   "cell_type": "markdown",
   "metadata": {},
   "source": [
    "## Logistic regression in ajax"
   ]
  },
  {
   "cell_type": "code",
   "execution_count": 12,
   "metadata": {},
   "outputs": [],
   "source": [
    "try:\n",
    "  import optax\n",
    "except:\n",
    "  %pip install -qq optax\n",
    "  import optax\n",
    "try:\n",
    "    from ajax import ADVI\n",
    "except:\n",
    "   %pip install -qq git+https://github.com/patel-zeel/ajax.git\n",
    "   from ajax import ADVI\n",
    "\n",
    "try:\n",
    "  import tensorflow_probability.substrates.jax as tfp\n",
    "except:\n",
    "  %pip install -qq tensorflow_probability.substrates.jax\n",
    "  import tensorflow_probability.substrates.jax as tfp\n",
    "\n",
    "try:\n",
    "  import jax.numpy as jnp\n",
    "except:\n",
    "  %pip install -qq jax\n",
    "  import jax.numpy as jnp\n",
    "import jax\n",
    "from ajax.utils import train\n",
    "import matplotlib.pyplot as plt\n",
    "import pickle\n",
    "import pandas as pd\n",
    "import seaborn as sns\n",
    "from functools import partial\n",
    "tfd = tfp.distributions\n",
    "tfb = tfp.bijectors"
   ]
  },
  {
   "cell_type": "code",
   "execution_count": 2,
   "metadata": {},
   "outputs": [],
   "source": [
    "url = \"https://raw.githubusercontent.com/AnandShegde/pml_baselines/main/data/logistic_regression/logistic_regression\"\n",
    "data = pd.read_pickle(url)"
   ]
  },
  {
   "cell_type": "code",
   "execution_count": 3,
   "metadata": {},
   "outputs": [
    {
     "name": "stderr",
     "output_type": "stream",
     "text": [
      "WARNING:absl:No GPU/TPU found, falling back to CPU. (Set TF_CPP_MIN_LOG_LEVEL=0 and rerun for more info.)\n"
     ]
    }
   ],
   "source": [
    "X = data['data']['x']\n",
    "X[:,:2] = (X[:,:2]- jax.numpy.min(X,axis = 0)[:2])/(jax.numpy.max(X,axis = 0)[:2]-jax.numpy.min(X, axis = 0)[:2])\n",
    "mean_prior = data['prior']['loc']\n",
    "var_prior = data['prior']['covariance_matrix']\n",
    "Y = jnp.array(data['data']['y'])\n",
    "Y = jnp.reshape(Y, (Y.shape[1],))"
   ]
  },
  {
   "cell_type": "markdown",
   "metadata": {},
   "source": [
    "## Defining model in ajax"
   ]
  },
  {
   "cell_type": "code",
   "execution_count": 5,
   "metadata": {},
   "outputs": [],
   "source": [
    "prior = {\n",
    "    \"theta\" : tfd.MultivariateNormalDiag(loc=mean_prior, scale_diag= jnp.diagonal(var_prior))\n",
    "}\n",
    "\n",
    "bijectors = {\n",
    "    \"theta\" : tfb.Identity()\n",
    "}\n",
    "\n",
    "def get_log_likelihood(params, aux, data, **kwargs):\n",
    "    probs = jax.nn.sigmoid(aux[\"X\"] @ params[\"theta\"])\n",
    "    likelihood = tfd.Bernoulli(probs = probs)\n",
    "    return likelihood.log_prob(data).sum()\n",
    "\n",
    "model = ADVI(prior, bijectors, get_log_likelihood, vi_type = \"full_rank\")"
   ]
  },
  {
   "cell_type": "markdown",
   "metadata": {},
   "source": [
    "## Training ajax model"
   ]
  },
  {
   "cell_type": "code",
   "execution_count": 20,
   "metadata": {},
   "outputs": [
    {
     "data": {
      "text/plain": [
       "Text(0, 0.5, 'loss')"
      ]
     },
     "execution_count": 20,
     "metadata": {},
     "output_type": "execute_result"
    },
    {
     "data": {
      "image/png": "[encoded data removed]",
      "text/plain": [
       "<Figure size 432x288 with 1 Axes>"
      ]
     },
     "metadata": {
      "needs_background": "light"
     },
     "output_type": "display_data"
    }
   ],
   "source": [
    "optimizer = optax.adam(learning_rate=0.1)\n",
    "epochs = 550\n",
    "seed = jax.random.PRNGKey(10)\n",
    "params = model.init(seed)\n",
    "\n",
    "loss_fn = partial(model.loss_fn,batch = Y,  data_size = len(Y), aux = {\"X\":X}, n_samples = 10)\n",
    "model_params = train(loss_fn, params, optimizer = optimizer, n_epochs = epochs, seed = jax.random.PRNGKey(10),return_args = [\"losses\"])\n",
    "\n",
    "plt.plot(model_params[\"losses\"])\n",
    "plt.xlabel(\"iterations\")\n",
    "plt.ylabel(\"loss\")"
   ]
  },
  {
   "cell_type": "markdown",
   "metadata": {},
   "source": [
    "## Plotting results"
   ]
  },
  {
   "cell_type": "code",
   "execution_count": 21,
   "metadata": {},
   "outputs": [
    {
     "data": {
      "text/plain": [
       "<matplotlib.legend.Legend at 0x7f2bec1a4dd0>"
      ]
     },
     "execution_count": 21,
     "metadata": {},
     "output_type": "execute_result"
    },
    {
     "data": {
      "image/png": "[encoded data removed]",
      "text/plain": [
       "<Figure size 432x288 with 1 Axes>"
      ]
     },
     "metadata": {
      "needs_background": "light"
     },
     "output_type": "display_data"
    }
   ],
   "source": [
    "posterior = model.apply(model_params[\"params\"])\n",
    "samples = posterior.sample(seed = jax.random.PRNGKey(10), sample_shape = (10000,))\n",
    "\n",
    "sns.kdeplot(samples[\"theta\"][:,0],label = \"theta 0\")\n",
    "sns.kdeplot(samples[\"theta\"][:,1], label = \"theta 1\")\n",
    "sns.kdeplot(samples[\"theta\"][:,2],label = \"theta 2\")\n",
    "plt.legend()"
   ]
  },
  {
   "cell_type": "code",
   "execution_count": 23,
   "metadata": {},
   "outputs": [],
   "source": [
    "with open(\"../results/logistic_regression/results_data/logistic_full_rank_Ajax\",'wb') as f:\n",
    "    pickle.dump(posterior, f,protocol = 1)"
   ]
  },
  {
   "cell_type": "code",
   "execution_count": null,
   "metadata": {},
   "outputs": [],
   "source": []
  }
 ],
 "metadata": {
  "kernelspec": {
   "display_name": "Python 3",
   "language": "python",
   "name": "python3"
  },
  "language_info": {
   "codemirror_mode": {
    "name": "ipython",
    "version": 3
   },
   "file_extension": ".py",
   "mimetype": "text/x-python",
   "name": "python",
   "nbconvert_exporter": "python",
   "pygments_lexer": "ipython3",
   "version": "3.7.13"
  }
 },
 "nbformat": 4,
 "nbformat_minor": 4
}
