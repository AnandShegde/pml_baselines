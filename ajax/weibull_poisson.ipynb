{
 "cells": [
  {
   "cell_type": "code",
   "execution_count": 1,
   "metadata": {},
   "outputs": [],
   "source": [
    "try:\n",
    "  from ajax import Prior, Likelihood, Variational, ADVI\n",
    "except:\n",
    "  %pip install -qq git+https://github.com/patel-zeel/ajax.git\n",
    "  from ajax import Prior, Likelihood, Variational, ADVI\n",
    "\n",
    "try:\n",
    "  import optax\n",
    "except:\n",
    "  %pip install -qq optax\n",
    "  import optax\n",
    "\n",
    "try:\n",
    "  import tensorflow_probability.substrates.jax as tfp\n",
    "except:\n",
    "  %pip install -qq tensorflow_probability.substrates.jax\n",
    "  import tensorflow_probability.substrates.jax as tfp\n",
    "\n",
    "try:\n",
    "  import jax.numpy as jnp\n",
    "except:\n",
    "  %pip install -qq jax\n",
    "  import jax.numpy as jnp\n",
    "\n",
    "try:\n",
    "    import seaborn as sns\n",
    "except:\n",
    "    %pip install -qq seaborn \n",
    "    import seaborn as sns\n",
    "from ajax.utils import fill_params\n",
    "import jax\n",
    "import matplotlib.pyplot as plt\n",
    "import pickle\n",
    "tfd = tfp.distributions\n",
    "tfb = tfp.bijectors"
   ]
  },
  {
   "cell_type": "code",
   "execution_count": 2,
   "metadata": {},
   "outputs": [
    {
     "data": {
      "text/plain": [
       "{'samples': array([1, 1, 0, 1, 1, 1, 1, 1, 0, 1], dtype=int32),\n",
       " 'prior': {'alpha': 10, 'beta': 15}}"
      ]
     },
     "execution_count": 2,
     "metadata": {},
     "output_type": "execute_result"
    }
   ],
   "source": [
    "with open(\"../data/coin_toss\",'rb') as f:\n",
    "    data = pickle.load(f)\n",
    "data"
   ]
  },
  {
   "cell_type": "code",
   "execution_count": 3,
   "metadata": {},
   "outputs": [],
   "source": [
    "dataset = data['samples']\n",
    "prior_alpha = data['prior']['alpha']\n",
    "prior_beta = data['prior']['beta']\n"
   ]
  },
  {
   "cell_type": "code",
   "execution_count": 4,
   "metadata": {},
   "outputs": [
    {
     "name": "stderr",
     "output_type": "stream",
     "text": [
      "WARNING:absl:No GPU/TPU found, falling back to CPU. (Set TF_CPP_MIN_LOG_LEVEL=0 and rerun for more info.)\n"
     ]
    }
   ],
   "source": [
    "prior = Prior(\n",
    "    distributions = {\n",
    "        \"theta\" : tfd.Weibull(concentration = prior_alpha, scale = prior_beta)\n",
    "        }\n",
    "    )"
   ]
  },
  {
   "cell_type": "code",
   "execution_count": 5,
   "metadata": {},
   "outputs": [],
   "source": [
    "def link_function(samples):\n",
    "    lamda = samples[\"theta\"]\n",
    "    return {\"rate\" : lamda}"
   ]
  },
  {
   "cell_type": "code",
   "execution_count": 6,
   "metadata": {},
   "outputs": [],
   "source": [
    "likelihood = Likelihood(tfd.Poisson, link_function)\n",
    "variational = Variational(\n",
    "    prior=prior,\n",
    "    bijectors={\"theta\":tfb.Exp()},\n",
    "    vi_type=\"full_rank\"\n",
    ")"
   ]
  },
  {
   "cell_type": "code",
   "execution_count": 7,
   "metadata": {},
   "outputs": [],
   "source": [
    "advi = ADVI(prior, likelihood, variational, dataset)"
   ]
  },
  {
   "cell_type": "code",
   "execution_count": 8,
   "metadata": {},
   "outputs": [],
   "source": [
    "params = variational.get_params()\n",
    "tx = optax.adam(learning_rate=0.1)\n",
    "state = tx.init(params)\n",
    "value_and_grad_fun = jax.jit(jax.value_and_grad(advi.loss))"
   ]
  },
  {
   "cell_type": "code",
   "execution_count": 9,
   "metadata": {},
   "outputs": [],
   "source": [
    "def update_func(carry,x):\n",
    "  params = carry['params']\n",
    "  state = carry['state']\n",
    "  seed = carry['seed']\n",
    "  seed = jax.random.split(seed, 1)[0]\n",
    "  loss, grads = value_and_grad_fun(params, seed = seed)\n",
    "  updates, state = tx.update(grads, state)\n",
    "  params = optax.apply_updates(params, updates)\n",
    "  carry = {'params':params, 'state':state, 'seed':seed}\n",
    "  return carry, loss"
   ]
  },
  {
   "cell_type": "code",
   "execution_count": 10,
   "metadata": {},
   "outputs": [],
   "source": [
    "carry = {'params':params, 'state': state,'seed':jax.random.PRNGKey(10)}\n",
    "carry,loss = jax.lax.scan(update_func, carry,xs = None,length= 50) \n",
    "variational.set_params(carry['params'])"
   ]
  },
  {
   "cell_type": "code",
   "execution_count": 11,
   "metadata": {},
   "outputs": [
    {
     "data": {
      "text/plain": [
       "DeviceArray([32.940586, 49.803177, 35.331165, 49.25509 , 37.36663 ,\n",
       "             34.511715, 33.748707, 40.450104, 39.193367, 36.248146,\n",
       "             31.14122 , 36.31016 , 34.5338  , 39.975   , 32.66206 ,\n",
       "             36.999916, 37.28018 , 34.907967, 31.513428, 31.402718,\n",
       "             36.12049 , 33.300415, 32.14052 , 33.575996, 32.295784,\n",
       "             33.014877, 32.702972, 32.774746, 32.817387, 32.294544,\n",
       "             33.057922, 33.182476, 33.03654 , 33.26306 , 33.37749 ,\n",
       "             33.27987 , 32.96164 , 33.179226, 32.545834, 32.12899 ,\n",
       "             32.789833, 32.852337, 32.426178, 32.325607, 32.712593,\n",
       "             33.063313, 32.78247 , 32.825333, 32.643383, 32.853172],            dtype=float32)"
      ]
     },
     "execution_count": 11,
     "metadata": {},
     "output_type": "execute_result"
    }
   ],
   "source": [
    "loss"
   ]
  },
  {
   "cell_type": "code",
   "execution_count": 19,
   "metadata": {},
   "outputs": [],
   "source": [
    "x = jnp.linspace(0,20,50000)\n",
    "x = x.reshape(-1,1)\n",
    "di = {\"theta\":x}\n",
    "posterior_pdf = jnp.exp(variational.log_prob(di))"
   ]
  },
  {
   "cell_type": "code",
   "execution_count": 21,
   "metadata": {},
   "outputs": [
    {
     "data": {
      "image/png": "[encoded data removed]",
      "text/plain": [
       "<Figure size 432x288 with 1 Axes>"
      ]
     },
     "metadata": {
      "needs_background": "light"
     },
     "output_type": "display_data"
    }
   ],
   "source": [
    "prior = tfd.Weibull(concentration = 10, scale = 15)\n",
    "plt.plot(x,posterior_pdf,label = \"ajax posterior\")\n",
    "plt.plot(x, prior.prob(x),label = \"prior\")\n",
    "plt.legend()\n",
    "plt.savefig(\"weibull\")"
   ]
  },
  {
   "cell_type": "code",
   "execution_count": null,
   "metadata": {},
   "outputs": [],
   "source": []
  }
 ],
 "metadata": {
  "kernelspec": {
   "display_name": "Python 3",
   "language": "python",
   "name": "python3"
  },
  "language_info": {
   "codemirror_mode": {
    "name": "ipython",
    "version": 3
   },
   "file_extension": ".py",
   "mimetype": "text/x-python",
   "name": "python",
   "nbconvert_exporter": "python",
   "pygments_lexer": "ipython3",
   "version": "3.7.13"
  }
 },
 "nbformat": 4,
 "nbformat_minor": 4
}
