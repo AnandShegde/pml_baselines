{
 "cells": [
  {
   "cell_type": "code",
   "execution_count": 11,
   "metadata": {},
   "outputs": [],
   "source": [
    "import jax\n",
    "import jax.numpy as jnp\n",
    "import pickle\n",
    "import tensorflow_probability.substrates.jax as tfp\n",
    "import matplotlib.pyplot as plt\n",
    "tfd = tfp.distributions"
   ]
  },
  {
   "cell_type": "code",
   "execution_count": 15,
   "metadata": {},
   "outputs": [
    {
     "name": "stderr",
     "output_type": "stream",
     "text": [
      "WARNING:root:The use of `check_types` is deprecated and does not have any effect.\n",
      "WARNING:root:The use of `check_types` is deprecated and does not have any effect.\n"
     ]
    }
   ],
   "source": [
    "key = jax.random.PRNGKey(10)\n",
    "uniform = tfd.Uniform(-3,4)\n",
    "x = uniform.sample(sample_shape=(10,1),seed=key)\n",
    "\n",
    "def identity_trans(x):\n",
    "    return jnp.append(jnp.ones((m,1)),x,axis=1)\n",
    "m = x.shape[0]\n",
    "x_trans = identity_trans(x)\n",
    "def f(x,theta): \n",
    "    global key\n",
    "    y = x@theta\n",
    "    normal = tfd.Normal(0,1)\n",
    "    key = jax.random.PRNGKey(15)\n",
    "    noise = normal.sample(seed=key,sample_shape=(m,1))\n",
    "    return y + noise\n",
    "\n",
    "theta = jnp.array([[4.0,2.3]]).T\n",
    "y = f(x_trans,theta)   \n",
    "n = x_trans.shape[1]"
   ]
  },
  {
   "cell_type": "code",
   "execution_count": 17,
   "metadata": {},
   "outputs": [],
   "source": [
    "di = {\"data\":{\"x\":x,\"y\":y},\n",
    "              \"noise_variance\":1,\n",
    "              \"prior\":{\n",
    "                    \"mean\":(theta+jnp.array([[10,5]]).T).reshape(n,),\n",
    "                    \"var\":10*jnp.identity(n)}}\n",
    "\n",
    "with open('../data/linear_regression','wb') as f:\n",
    "    pickle.dump(di,f)"
   ]
  },
  {
   "cell_type": "code",
   "execution_count": null,
   "metadata": {},
   "outputs": [],
   "source": []
  }
 ],
 "metadata": {
  "interpreter": {
   "hash": "31cf91725cfa433ed6f8f914e51425bfdb4b966b135703f258bb56c1780b6111"
  },
  "kernelspec": {
   "display_name": "Python 3.7.13 ('srip')",
   "language": "python",
   "name": "python3"
  },
  "language_info": {
   "codemirror_mode": {
    "name": "ipython",
    "version": 3
   },
   "file_extension": ".py",
   "mimetype": "text/x-python",
   "name": "python",
   "nbconvert_exporter": "python",
   "pygments_lexer": "ipython3",
   "version": "3.7.13"
  },
  "orig_nbformat": 4
 },
 "nbformat": 4,
 "nbformat_minor": 2
}
