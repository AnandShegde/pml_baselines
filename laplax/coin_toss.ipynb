{
 "cells": [
  {
   "cell_type": "code",
   "execution_count": 1,
   "id": "5ee1a844",
   "metadata": {},
   "outputs": [],
   "source": [
    "import jax\n",
    "import jax.numpy as jnp\n",
    "import pandas as pd\n",
    "import optax\n",
    "\n",
    "import tensorflow_probability.substrates.jax as tfp\n",
    "\n",
    "tfd = tfp.distributions\n",
    "tfb = tfp.bijectors\n",
    "\n",
    "import matplotlib.pyplot as plt\n",
    "from tqdm import trange\n",
    "\n",
    "from laplax import ADLaplace\n",
    "from utils import train_model"
   ]
  },
  {
   "cell_type": "code",
   "execution_count": 2,
   "id": "29f26e7c",
   "metadata": {},
   "outputs": [],
   "source": [
    "def get_likelihood(params, aux=None):\n",
    "    return tfd.Bernoulli(probs=params['p_of_h'])\n",
    "\n",
    "def prepare_model(config_name, bijector):\n",
    "    config = pd.read_pickle(f'../data/{config_name}')\n",
    "    data = config['samples']\n",
    "    a0 = config['prior']['alpha']\n",
    "    b0 = config['prior']['beta']\n",
    "    \n",
    "    prior = {'p_of_h': tfd.Beta(a0, b0)}\n",
    "    bijectors = {'p_of_h': bijector}\n",
    "    \n",
    "    \n",
    "    return ADLaplace(prior, bijectors, get_likelihood), data"
   ]
  },
  {
   "cell_type": "markdown",
   "id": "2faed3d0",
   "metadata": {},
   "source": [
    "### coin_toss"
   ]
  },
  {
   "cell_type": "code",
   "execution_count": 3,
   "id": "d330de38",
   "metadata": {},
   "outputs": [
    {
     "name": "stderr",
     "output_type": "stream",
     "text": [
      "WARNING:absl:No GPU/TPU found, falling back to CPU. (Set TF_CPP_MIN_LOG_LEVEL=0 and rerun for more info.)\n"
     ]
    }
   ],
   "source": [
    "model, data = prepare_model(config_name='coin_toss', bijector=tfb.Sigmoid())\n",
    "optimizer = optax.adam(learning_rate=1.0)\n",
    "n_epochs = 100\n",
    "seed = jax.random.PRNGKey(0)\n",
    "\n",
    "params, losses = train_model(model, data, optimizer, n_epochs, seed)"
   ]
  },
  {
   "cell_type": "code",
   "execution_count": 4,
   "id": "4ede83a5",
   "metadata": {},
   "outputs": [
    {
     "data": {
      "image/png": "[encoded data removed]",
      "text/plain": [
       "<Figure size 432x288 with 1 Axes>"
      ]
     },
     "metadata": {
      "needs_background": "light"
     },
     "output_type": "display_data"
    }
   ],
   "source": [
    "plt.plot(losses);"
   ]
  },
  {
   "cell_type": "code",
   "execution_count": 5,
   "id": "20780208",
   "metadata": {},
   "outputs": [],
   "source": [
    "posterior = model.apply(params, data)"
   ]
  },
  {
   "cell_type": "code",
   "execution_count": 7,
   "id": "1a6930f3",
   "metadata": {},
   "outputs": [],
   "source": [
    "pd.to_pickle({'params': params, 'model': model, 'data': data}, '../results/coin_toss/results_data/laplax_coin_toss', protocol=1)"
   ]
  }
 ],
 "metadata": {
  "kernelspec": {
   "display_name": "Python [conda env:ajax]",
   "language": "python",
   "name": "conda-env-ajax-py"
  },
  "language_info": {
   "codemirror_mode": {
    "name": "ipython",
    "version": 3
   },
   "file_extension": ".py",
   "mimetype": "text/x-python",
   "name": "python",
   "nbconvert_exporter": "python",
   "pygments_lexer": "ipython3",
   "version": "3.9.12"
  }
 },
 "nbformat": 4,
 "nbformat_minor": 5
}
