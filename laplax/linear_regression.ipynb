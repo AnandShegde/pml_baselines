{
 "cells": [
  {
   "cell_type": "code",
   "execution_count": 1,
   "id": "23e29a8d",
   "metadata": {},
   "outputs": [],
   "source": [
    "import jax\n",
    "import jax.numpy as jnp\n",
    "import pandas as pd\n",
    "import optax\n",
    "\n",
    "import tensorflow_probability.substrates.jax as tfp\n",
    "\n",
    "tfd = tfp.distributions\n",
    "tfb = tfp.bijectors\n",
    "\n",
    "import matplotlib.pyplot as plt\n",
    "from tqdm import trange\n",
    "\n",
    "from laplax import ADLaplace\n",
    "from laplax.utils import train_model\n",
    "import distrax"
   ]
  },
  {
   "cell_type": "code",
   "execution_count": 2,
   "id": "91cec223",
   "metadata": {},
   "outputs": [],
   "source": [
    "def get_likelihood(params, aux):\n",
    "    loc = params['w1'] * aux['x'] + params['w2']\n",
    "    scale = 1.0\n",
    "    return tfd.Normal(loc, scale)\n",
    "\n",
    "def prepare_model(config_name, bijector):\n",
    "    config = pd.read_pickle(f'../data/linear_regression/{config_name}')\n",
    "    data = config['data']\n",
    "    aux = {'x': data['x'].ravel()}\n",
    "    y = data['y']\n",
    "    prior_loc = config['prior']['mean']\n",
    "    prior_scale = jnp.diag(config['prior']['var'])**0.5\n",
    "    \n",
    "    prior = {'w1': tfd.Normal(loc=prior_loc[0], scale=prior_scale[0]), \n",
    "            \"w2\": tfd.Normal(loc=prior_loc[1], scale=prior_scale[1])}\n",
    "    bijectors = {'w1': bijector, \"w2\": bijector}\n",
    "    \n",
    "    return ADLaplace(prior, bijectors, get_likelihood), y, aux"
   ]
  },
  {
   "cell_type": "code",
   "execution_count": 3,
   "id": "3472d2fb",
   "metadata": {},
   "outputs": [
    {
     "name": "stderr",
     "output_type": "stream",
     "text": [
      "WARNING:absl:No GPU/TPU found, falling back to CPU. (Set TF_CPP_MIN_LOG_LEVEL=0 and rerun for more info.)\n"
     ]
    },
    {
     "data": {
      "image/png": "[encoded data removed]",
      "text/plain": [
       "<Figure size 432x288 with 1 Axes>"
      ]
     },
     "metadata": {
      "needs_background": "light"
     },
     "output_type": "display_data"
    }
   ],
   "source": [
    "config_name = \"linear_regression\"\n",
    "model, data, aux = prepare_model(config_name=config_name, bijector=tfb.Identity())\n",
    "\n",
    "optimizer = optax.adam(learning_rate=0.1)\n",
    "n_epochs = 500\n",
    "seed = jax.random.PRNGKey(1)\n",
    "\n",
    "params, losses = train_model(model, data, aux, optimizer, n_epochs, seed)\n",
    "\n",
    "plt.plot(losses);\n",
    "\n",
    "posterior = model.apply(params, data, aux)\n",
    "\n",
    "pd.to_pickle(\n",
    "    {\"params\": params, \"model\": model, \"data\": data, \"aux\": aux},\n",
    "    f\"../results/linear_regression/results_data/laplax_{config_name}\",\n",
    "    protocol=1,\n",
    ")"
   ]
  },
  {
   "cell_type": "code",
   "execution_count": 4,
   "id": "1e2667e5",
   "metadata": {},
   "outputs": [
    {
     "data": {
      "text/plain": [
       "{'w1': DeviceArray(2.238753, dtype=float32),\n",
       " 'w2': DeviceArray(3.7154002, dtype=float32)}"
      ]
     },
     "execution_count": 4,
     "metadata": {},
     "output_type": "execute_result"
    }
   ],
   "source": [
    "params"
   ]
  }
 ],
 "metadata": {
  "kernelspec": {
   "display_name": "Python [conda env:ajax]",
   "language": "python",
   "name": "conda-env-ajax-py"
  },
  "language_info": {
   "codemirror_mode": {
    "name": "ipython",
    "version": 3
   },
   "file_extension": ".py",
   "mimetype": "text/x-python",
   "name": "python",
   "nbconvert_exporter": "python",
   "pygments_lexer": "ipython3",
   "version": "3.9.12"
  }
 },
 "nbformat": 4,
 "nbformat_minor": 5
}
