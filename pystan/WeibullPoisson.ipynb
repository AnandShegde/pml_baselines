{
  "nbformat": 4,
  "nbformat_minor": 0,
  "metadata": {
    "colab": {
      "name": "WeibullPoisson.ipynb",
      "provenance": [],
      "collapsed_sections": [],
      "authorship_tag": "ABX9TyP4rCSwFBZlBcpdHy2fwS5Y",
      "include_colab_link": true
    },
    "kernelspec": {
      "name": "python3",
      "display_name": "Python 3"
    },
    "language_info": {
      "name": "python"
    }
  },
  "cells": [
    {
      "cell_type": "markdown",
      "metadata": {
        "id": "view-in-github",
        "colab_type": "text"
      },
      "source": [
        "<a href=\"https://colab.research.google.com/github/AnandShegde/pml_baselines/blob/main/pystan/WeibullPoisson.ipynb\" target=\"_parent\"><img src=\"https://colab.research.google.com/assets/colab-badge.svg\" alt=\"Open In Colab\"/></a>"
      ]
    },
    {
      "cell_type": "code",
      "source": [
        "try:\n",
        "  import pystan\n",
        "except:\n",
        "  %pip install -qq pystan\n",
        "  import pystan\n",
        "import tensorflow as tf\n",
        "import seaborn as sns\n",
        "import numpy as np\n",
        "import jax\n",
        "import jax.numpy as jnp\n",
        "!pip install tensorflow_probability\n",
        "import tensorflow_probability.substrates.jax as tfp\n",
        "tfd = tfp.distributions\n",
        "import matplotlib.pyplot as plt\n",
        "import arviz as az"
      ],
      "metadata": {
        "colab": {
          "base_uri": "https://localhost:8080/"
        },
        "id": "LJSOdUTdu31K",
        "outputId": "5d8d1c40-cf1f-47e2-f9f9-3e576f24ba0f"
      },
      "execution_count": 22,
      "outputs": [
        {
          "output_type": "stream",
          "name": "stdout",
          "text": [
            "Looking in indexes: https://pypi.org/simple, https://us-python.pkg.dev/colab-wheels/public/simple/\n",
            "Requirement already satisfied: tensorflow_probability in /usr/local/lib/python3.7/dist-packages (0.16.0)\n",
            "Requirement already satisfied: six>=1.10.0 in /usr/local/lib/python3.7/dist-packages (from tensorflow_probability) (1.15.0)\n",
            "Requirement already satisfied: cloudpickle>=1.3 in /usr/local/lib/python3.7/dist-packages (from tensorflow_probability) (1.3.0)\n",
            "Requirement already satisfied: gast>=0.3.2 in /usr/local/lib/python3.7/dist-packages (from tensorflow_probability) (0.5.3)\n",
            "Requirement already satisfied: numpy>=1.13.3 in /usr/local/lib/python3.7/dist-packages (from tensorflow_probability) (1.21.6)\n",
            "Requirement already satisfied: absl-py in /usr/local/lib/python3.7/dist-packages (from tensorflow_probability) (1.1.0)\n",
            "Requirement already satisfied: dm-tree in /usr/local/lib/python3.7/dist-packages (from tensorflow_probability) (0.1.7)\n",
            "Requirement already satisfied: decorator in /usr/local/lib/python3.7/dist-packages (from tensorflow_probability) (4.4.2)\n"
          ]
        }
      ]
    },
    {
      "cell_type": "code",
      "source": [
        "import pickle\n",
        "file=open('/content/WeibullPoissonData/weibull_poisson','rb')\n",
        "data=pickle.load(file)\n",
        "file.close()\n",
        "data"
      ],
      "metadata": {
        "colab": {
          "base_uri": "https://localhost:8080/"
        },
        "id": "aHmtHdzjCWUw",
        "outputId": "c9b2bd49-a13f-4766-b275-2a01f2c7c59d"
      },
      "execution_count": 23,
      "outputs": [
        {
          "output_type": "execute_result",
          "data": {
            "text/plain": [
              "{'data': array([ 9., 14.,  9., ..., 12., 14., 13.], dtype=float32),\n",
              " 'prior': {'k': 15, 'lamda': 10}}"
            ]
          },
          "metadata": {},
          "execution_count": 23
        }
      ]
    },
    {
      "cell_type": "code",
      "source": [
        "x_space = jnp.linspace(0,30,1000)\n",
        "poisson = tfd.Poisson(rate=10)\n",
        "true_pdf = poisson.prob(x_space)\n",
        "plt.plot(x_space,true_pdf)\n",
        "plt.title(\"True PDF of the generative distribution\")\n",
        "plt.show()"
      ],
      "metadata": {
        "colab": {
          "base_uri": "https://localhost:8080/",
          "height": 281
        },
        "id": "IeAUNxS-Rg_7",
        "outputId": "36d243f4-f27d-4a87-f4fc-cc8a93066fff"
      },
      "execution_count": 24,
      "outputs": [
        {
          "output_type": "display_data",
          "data": {
            "text/plain": [
              "<Figure size 432x288 with 1 Axes>"
            ],
            "image/png": "[encoded data removed]"
          },
          "metadata": {
            "needs_background": "light"
          }
        }
      ]
    },
    {
      "cell_type": "code",
      "source": [
        "samples=data['data']"
      ],
      "metadata": {
        "id": "fN9b1x3SRqKm"
      },
      "execution_count": 25,
      "outputs": []
    },
    {
      "cell_type": "code",
      "source": [
        "plt.hist(samples)\n",
        "plt.xlim(0,30)\n",
        "plt.title(\"histogram of samples\")\n",
        "plt.show()"
      ],
      "metadata": {
        "colab": {
          "base_uri": "https://localhost:8080/",
          "height": 281
        },
        "id": "HX9Jzy2vRtcq",
        "outputId": "5ccfa11a-94d2-4515-e892-19f8f3daab41"
      },
      "execution_count": 26,
      "outputs": [
        {
          "output_type": "display_data",
          "data": {
            "text/plain": [
              "<Figure size 432x288 with 1 Axes>"
            ],
            "image/png": "[encoded data removed]"
          },
          "metadata": {
            "needs_background": "light"
          }
        }
      ]
    },
    {
      "cell_type": "code",
      "source": [
        "WeibullPoisson = \"\"\"\n",
        "data {\n",
        "  int<lower=0> n;\n",
        "  int x[n];\n",
        "}\n",
        "parameters {\n",
        "  real<lower=0>lambda;\n",
        "}\n",
        "model {\n",
        "  lambda~weibull(10,15);\n",
        "  x~poisson(lambda);\n",
        "}\n",
        "\"\"\""
      ],
      "metadata": {
        "id": "YT7ZFglFv6Pq"
      },
      "execution_count": 27,
      "outputs": []
    },
    {
      "cell_type": "markdown",
      "source": [
        "#**Using HMC(Hamiltonian Monte Carlo)**"
      ],
      "metadata": {
        "id": "X9QD73HJxciW"
      }
    },
    {
      "cell_type": "code",
      "source": [
        "model_WeibullPoisson = pystan.StanModel(model_code=WeibullPoisson)"
      ],
      "metadata": {
        "colab": {
          "base_uri": "https://localhost:8080/"
        },
        "id": "V5qmk4dhxUho",
        "outputId": "45ec2f49-655c-4312-b48c-e7fd983fb85b"
      },
      "execution_count": 28,
      "outputs": [
        {
          "output_type": "stream",
          "name": "stderr",
          "text": [
            "INFO:pystan:COMPILING THE C++ CODE FOR MODEL anon_model_3e60283f9b7d28dc8f1fce38d1f77d9d NOW.\n"
          ]
        }
      ]
    },
    {
      "cell_type": "code",
      "source": [
        "data = {\n",
        "    'n':  len(samples),\n",
        "    'x': samples.astype(int),\n",
        "}"
      ],
      "metadata": {
        "id": "Qgzmv_PBx7OV"
      },
      "execution_count": 29,
      "outputs": []
    },
    {
      "cell_type": "code",
      "source": [
        "model_weibull_hmc = model_WeibullPoisson.sampling(data=data, chains=8, warmup=500, iter=1500)"
      ],
      "metadata": {
        "id": "74lFrjiYxztD"
      },
      "execution_count": 30,
      "outputs": []
    },
    {
      "cell_type": "code",
      "source": [
        "model_weibull_hmc"
      ],
      "metadata": {
        "id": "cvhRJGgAzVDT",
        "colab": {
          "base_uri": "https://localhost:8080/"
        },
        "outputId": "8ed1bd6f-e386-4e12-9125-d71ea3824569"
      },
      "execution_count": 31,
      "outputs": [
        {
          "output_type": "execute_result",
          "data": {
            "text/plain": [
              "Inference for Stan model: anon_model_3e60283f9b7d28dc8f1fce38d1f77d9d.\n",
              "8 chains, each with iter=1500; warmup=500; thin=1; \n",
              "post-warmup draws per chain=1000, total post-warmup draws=8000.\n",
              "\n",
              "         mean se_mean     sd   2.5%    25%    50%    75%  97.5%  n_eff   Rhat\n",
              "lambda  10.08  1.3e-3   0.07   9.94  10.03  10.08  10.13  10.22   3211    1.0\n",
              "lp__    2.6e4    0.01   0.71  2.6e4  2.6e4  2.6e4  2.6e4  2.6e4   3620    1.0\n",
              "\n",
              "Samples were drawn using NUTS at Thu Jun 23 09:54:34 2022.\n",
              "For each parameter, n_eff is a crude measure of effective sample size,\n",
              "and Rhat is the potential scale reduction factor on split chains (at \n",
              "convergence, Rhat=1)."
            ]
          },
          "metadata": {},
          "execution_count": 31
        }
      ]
    },
    {
      "cell_type": "code",
      "source": [
        "lambda_hmc=(model_weibull_hmc.extract())['lambda'].mean()\n",
        "lambda_hmc"
      ],
      "metadata": {
        "id": "twTtaLjY5CZw",
        "colab": {
          "base_uri": "https://localhost:8080/"
        },
        "outputId": "bdd9336a-925d-40a3-a8ac-30b4f72d29f4"
      },
      "execution_count": 32,
      "outputs": [
        {
          "output_type": "execute_result",
          "data": {
            "text/plain": [
              "10.082690343138827"
            ]
          },
          "metadata": {},
          "execution_count": 32
        }
      ]
    },
    {
      "cell_type": "code",
      "source": [
        "# az.plot_trace(model_weibull_hmc, figsize = (12, 4))"
      ],
      "metadata": {
        "id": "4CfctjzhzV-L"
      },
      "execution_count": 33,
      "outputs": []
    },
    {
      "cell_type": "code",
      "source": [
        "weibullhmc_df = model_weibull_hmc.to_dataframe()\n",
        "weibullhmc_df\n",
        "lambda_hmc = weibullhmc_df['lambda']\n",
        "lambda_hmc"
      ],
      "metadata": {
        "id": "SJd6JNqGPvFL",
        "colab": {
          "base_uri": "https://localhost:8080/"
        },
        "outputId": "7036e49b-3413-404f-e0a8-8c7f98f0cfe4"
      },
      "execution_count": 34,
      "outputs": [
        {
          "output_type": "execute_result",
          "data": {
            "text/plain": [
              "0       10.027995\n",
              "1       10.003163\n",
              "2       10.003163\n",
              "3       10.139234\n",
              "4       10.120233\n",
              "          ...    \n",
              "7995    10.151776\n",
              "7996    10.177955\n",
              "7997    10.253776\n",
              "7998    10.153791\n",
              "7999    10.046646\n",
              "Name: lambda, Length: 8000, dtype: float64"
            ]
          },
          "metadata": {},
          "execution_count": 34
        }
      ]
    },
    {
      "cell_type": "markdown",
      "source": [
        "# **Using Variational Inference(VI)**"
      ],
      "metadata": {
        "id": "o14TuiZYz84j"
      }
    },
    {
      "cell_type": "code",
      "source": [
        "model_Weibull_vi=model_WeibullPoisson.vb(data=data)"
      ],
      "metadata": {
        "id": "WLV6ZZa-0GON",
        "colab": {
          "base_uri": "https://localhost:8080/"
        },
        "outputId": "0a451313-2bb4-451d-9d0c-7319b3e57302"
      },
      "execution_count": 35,
      "outputs": [
        {
          "output_type": "stream",
          "name": "stderr",
          "text": [
            "WARNING:pystan:Automatic Differentiation Variational Inference (ADVI) is an EXPERIMENTAL ALGORITHM.\n",
            "WARNING:pystan:ADVI samples may be found on the filesystem in the file `/tmp/tmpnd5xr8hb/output.csv`\n"
          ]
        }
      ]
    },
    {
      "cell_type": "code",
      "source": [
        "# model_bernoulli_vi"
      ],
      "metadata": {
        "id": "3Rc-WFIi0ytN"
      },
      "execution_count": 36,
      "outputs": []
    },
    {
      "cell_type": "code",
      "source": [
        "lambda_vi=model_Weibull_vi.get('mean_pars')\n",
        "lambda_vi"
      ],
      "metadata": {
        "id": "qi7-v72G0wj5",
        "colab": {
          "base_uri": "https://localhost:8080/"
        },
        "outputId": "3c381daa-24c3-4e73-97c2-3fb175b80e63"
      },
      "execution_count": 37,
      "outputs": [
        {
          "output_type": "execute_result",
          "data": {
            "text/plain": [
              "[10.118240780924436]"
            ]
          },
          "metadata": {},
          "execution_count": 37
        }
      ]
    },
    {
      "cell_type": "code",
      "source": [
        "# az.plot_trace(data=np.array(model_Weibull_vi.get('sampler_params')[0]), figsize = (12, 4))"
      ],
      "metadata": {
        "id": "lOtJGjeV1iWG"
      },
      "execution_count": 38,
      "outputs": []
    },
    {
      "cell_type": "markdown",
      "source": [
        "#**Plotting the distribution**\n",
        "\n",
        "\n"
      ],
      "metadata": {
        "id": "o7RQcLs-QvQG"
      }
    },
    {
      "cell_type": "code",
      "source": [
        "sns.kdeplot(lambda_hmc,label=\"lambda_hmc\")\n",
        "plt.legend()\n",
        "plt.show()"
      ],
      "metadata": {
        "colab": {
          "base_uri": "https://localhost:8080/",
          "height": 269
        },
        "id": "oCoFglKhOtHW",
        "outputId": "5339f2d2-8b6a-43e6-bb04-54f695189e38"
      },
      "execution_count": 42,
      "outputs": [
        {
          "output_type": "display_data",
          "data": {
            "text/plain": [
              "<Figure size 432x288 with 1 Axes>"
            ],
            "image/png": "[encoded data removed]"
          },
          "metadata": {
            "needs_background": "light"
          }
        }
      ]
    },
    {
      "cell_type": "code",
      "source": [
        "lambda_hmc=jnp.array(lambda_hmc)\n",
        "lambda_hmc"
      ],
      "metadata": {
        "colab": {
          "base_uri": "https://localhost:8080/"
        },
        "id": "JhYkhykve_OZ",
        "outputId": "c9d518b6-c5de-4694-9738-716cb11e1c71"
      },
      "execution_count": 40,
      "outputs": [
        {
          "output_type": "execute_result",
          "data": {
            "text/plain": [
              "DeviceArray([10.027995, 10.003162, 10.003162, ..., 10.253777, 10.15379 ,\n",
              "             10.046646], dtype=float32)"
            ]
          },
          "metadata": {},
          "execution_count": 40
        }
      ]
    },
    {
      "cell_type": "code",
      "source": [
        "# lambda_hmc=jnp.array(lambda_hmc)\n",
        "# with open(\"/content/WeibullPoisson_Data/HMC_Stan\",'wb') as f:\n",
        "#     pickle.dump(lambda_hmc, f,protocol = 1)"
      ],
      "metadata": {
        "id": "en_mfVaneENk"
      },
      "execution_count": 41,
      "outputs": []
    }
  ]
}