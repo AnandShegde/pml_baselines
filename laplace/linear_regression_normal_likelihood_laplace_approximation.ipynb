{
 "cells": [
  {
   "cell_type": "code",
   "execution_count": 1,
   "metadata": {},
   "outputs": [
    {
     "name": "stderr",
     "output_type": "stream",
     "text": [
      "2022-06-13 02:23:41.918074: W tensorflow/stream_executor/platform/default/dso_loader.cc:64] Could not load dynamic library 'libcudart.so.11.0'; dlerror: libcudart.so.11.0: cannot open shared object file: No such file or directory\n"
     ]
    }
   ],
   "source": [
    "# import libraries\n",
    "import jax\n",
    "import jax.numpy as jnp\n",
    "try:\n",
    "  import distrax\n",
    "except ModuleNotFoundError:\n",
    "  %pip install -qq distrax\n",
    "  import distrax\n",
    "try:\n",
    "  import optax\n",
    "except ModuleNotFoundError:\n",
    "  %pip install -qq optax\n",
    "  import optax\n",
    "import tensorflow as tf\n",
    "import tensorflow_probability.substrates.jax as tfp\n",
    "tfd = tfp.distributions\n",
    "try:\n",
    "    import blackjax\n",
    "except:\n",
    "    %pip install -qq blackjax\n",
    "    import blackjax\n",
    "import seaborn as sns\n",
    "import matplotlib.pyplot as plt\n",
    "import ipywidgets as widgets\n",
    "import logging\n",
    "import pickle\n",
    "import scipy.stats as stats\n",
    "logger = logging.getLogger()\n",
    "class CheckTypesFilter(logging.Filter):\n",
    "    def filter(self, record):\n",
    "        return \"check_types\" not in record.getMessage()\n",
    "logger.addFilter(CheckTypesFilter())"
   ]
  },
  {
   "cell_type": "code",
   "execution_count": null,
   "metadata": {},
   "outputs": [],
   "source": []
  },
  {
   "cell_type": "code",
   "execution_count": 2,
   "metadata": {},
   "outputs": [
    {
     "data": {
      "text/plain": [
       "{'data': {'x': array([[ 1.7598495 ],\n",
       "         [-0.23643708],\n",
       "         [ 3.1509051 ],\n",
       "         [-0.79705334],\n",
       "         [-2.500547  ],\n",
       "         [ 1.6101036 ],\n",
       "         [ 0.14806175],\n",
       "         [ 0.05331182],\n",
       "         [ 2.6665907 ],\n",
       "         [-0.14456654]], dtype=float32),\n",
       "  'y': array([[ 9.011515 ],\n",
       "         [ 5.4843464],\n",
       "         [ 9.670069 ],\n",
       "         [ 1.1274505],\n",
       "         [-1.283633 ],\n",
       "         [ 7.062801 ],\n",
       "         [ 3.6567392],\n",
       "         [ 2.2533112],\n",
       "         [10.321623 ],\n",
       "         [ 2.2750926]], dtype=float32)},\n",
       " 'noise_variance': 1,\n",
       " 'prior': {'mean': array([14. ,  7.3], dtype=float32),\n",
       "  'var': array([[10.,  0.],\n",
       "         [ 0., 10.]], dtype=float32)}}"
      ]
     },
     "execution_count": 2,
     "metadata": {},
     "output_type": "execute_result"
    }
   ],
   "source": [
    "with open(\"../data/linear_regression\",'rb') as f:\n",
    "    data = pickle.load(f)\n",
    "data"
   ]
  },
  {
   "cell_type": "code",
   "execution_count": 3,
   "metadata": {},
   "outputs": [
    {
     "name": "stderr",
     "output_type": "stream",
     "text": [
      "WARNING:absl:No GPU/TPU found, falling back to CPU. (Set TF_CPP_MIN_LOG_LEVEL=0 and rerun for more info.)\n"
     ]
    }
   ],
   "source": [
    "x = jnp.array(data['data']['x'])\n",
    "\n",
    "def identity_trans(x):\n",
    "    return jnp.append(jnp.ones((m,1)),x,axis=1)\n",
    "m = x.shape[0]\n",
    "x_trans = identity_trans(x)\n",
    "y = jnp.array(data['data']['y'])\n",
    "\n",
    "prior_mean = jnp.array(data['prior']['mean'])\n",
    "prior_var = jnp.array(data['prior']['var'])\n",
    "noise_var = data['noise_variance']"
   ]
  },
  {
   "cell_type": "code",
   "execution_count": 4,
   "metadata": {},
   "outputs": [
    {
     "data": {
      "text/plain": [
       "<matplotlib.collections.PathCollection at 0x7f5618df2d90>"
      ]
     },
     "execution_count": 4,
     "metadata": {},
     "output_type": "execute_result"
    },
    {
     "data": {
      "image/png": "[encoded data removed]",
      "text/plain": [
       "<Figure size 432x288 with 1 Axes>"
      ]
     },
     "metadata": {
      "needs_background": "light"
     },
     "output_type": "display_data"
    }
   ],
   "source": [
    "plt.scatter(x,y)"
   ]
  },
  {
   "cell_type": "code",
   "execution_count": 5,
   "metadata": {},
   "outputs": [
    {
     "name": "stdout",
     "output_type": "stream",
     "text": [
      "3.6475258e-06\n"
     ]
    }
   ],
   "source": [
    "n = x_trans.shape[1]\n",
    "prior_normal = tfd.MultivariateNormalFullCovariance(\n",
    "    loc = prior_mean,covariance_matrix= prior_var\n",
    ")\n",
    "print(prior_normal.prob([2.1,2.2]))"
   ]
  },
  {
   "cell_type": "code",
   "execution_count": 6,
   "metadata": {},
   "outputs": [
    {
     "data": {
      "text/plain": [
       "DeviceArray(1781.488, dtype=float32)"
      ]
     },
     "execution_count": 6,
     "metadata": {},
     "output_type": "execute_result"
    }
   ],
   "source": [
    "y = y.reshape(m,)\n",
    "def neg_log_postfn(theta):\n",
    "  log_prior = prior_normal.log_prob(theta)\n",
    "  # log_likelihood\n",
    "  mean = (x_trans@theta.reshape(n,1)).reshape(m,)\n",
    "  likelihood_student = tfd.Normal(mean,1)\n",
    "  log_like = jnp.array(jnp.sum(likelihood_student.log_prob(y)))\n",
    "  return -(log_like+log_prior)\n",
    "\n",
    "\n",
    "theta = jnp.array([10.3,11.2])\n",
    "neg_log_postfn(theta)"
   ]
  },
  {
   "cell_type": "code",
   "execution_count": 7,
   "metadata": {},
   "outputs": [
    {
     "name": "stdout",
     "output_type": "stream",
     "text": [
      "MAP found by automatic differenciation is [3.8040311 2.199313 ]\n"
     ]
    }
   ],
   "source": [
    "# automatic differenciation for finding the mode of the posterior.\n",
    "\n",
    "def fit(params,optimizer,steps):\n",
    "  opt_state = optimizer.init(params)\n",
    "\n",
    "  @jax.jit\n",
    "  def step(params,opt_state):\n",
    "    loss_value, grads = jax.value_and_grad(neg_log_postfn)(params)\n",
    "    updates, opt_state = optimizer.update(grads,opt_state,params)\n",
    "    params = optax.apply_updates(params,updates)\n",
    "    return params, opt_state, loss_value\n",
    "  loss = []\n",
    "  for i in range(steps):\n",
    "    params,opt_state,loss_value = step(params, opt_state)\n",
    "    loss.append(loss_value)\n",
    "  return params,loss\n",
    "\n",
    "\n",
    "params = theta\n",
    "optimizer = optax.adam(learning_rate= 1e-2)\n",
    "theta_MAP,loss = fit(params,optimizer,steps = 6000)\n",
    "print(f\"MAP found by automatic differenciation is {(theta_MAP)}\")"
   ]
  },
  {
   "cell_type": "code",
   "execution_count": 8,
   "metadata": {},
   "outputs": [
    {
     "data": {
      "text/plain": [
       "[<matplotlib.lines.Line2D at 0x7f55f83e2590>]"
      ]
     },
     "execution_count": 8,
     "metadata": {},
     "output_type": "execute_result"
    },
    {
     "data": {
      "image/png": "[encoded data removed]",
      "text/plain": [
       "<Figure size 432x288 with 1 Axes>"
      ]
     },
     "metadata": {
      "needs_background": "light"
     },
     "output_type": "display_data"
    }
   ],
   "source": [
    "plt.plot(loss,label='loss')"
   ]
  },
  {
   "cell_type": "code",
   "execution_count": 9,
   "metadata": {},
   "outputs": [
    {
     "data": {
      "text/plain": [
       "DeviceArray([[10.1      ,  5.7102184],\n",
       "             [ 5.7102184, 29.818008 ]], dtype=float32)"
      ]
     },
     "execution_count": 9,
     "metadata": {},
     "output_type": "execute_result"
    }
   ],
   "source": [
    "hessian = (jax.hessian(neg_log_postfn)(theta_MAP))\n",
    "# hessian = jnp.array([[hessian_dict['0']['0'],hessian_dict['0']['1']],[hessian_dict['1']['0'],hessian_dict['1']['1']]])\n",
    "hessian"
   ]
  },
  {
   "cell_type": "code",
   "execution_count": 17,
   "metadata": {},
   "outputs": [
    {
     "data": {
      "text/plain": [
       "DeviceArray([[ 0.11103116, -0.02126273],\n",
       "             [-0.02126273,  0.03760864]], dtype=float32)"
      ]
     },
     "execution_count": 17,
     "metadata": {},
     "output_type": "execute_result"
    }
   ],
   "source": [
    "jnp.linalg.inv(hessian)"
   ]
  },
  {
   "cell_type": "code",
   "execution_count": 10,
   "metadata": {},
   "outputs": [
    {
     "name": "stdout",
     "output_type": "stream",
     "text": [
      "[3.8040311 2.199313 ]\n"
     ]
    },
    {
     "data": {
      "image/png": "[encoded data removed]",
      "text/plain": [
       "<Figure size 432x288 with 1 Axes>"
      ]
     },
     "metadata": {
      "needs_background": "light"
     },
     "output_type": "display_data"
    }
   ],
   "source": [
    "def plot_posterior(mean, cov, w0, w1,title=None,rang=(0,20)):\n",
    "    resolution = 100\n",
    "\n",
    "    grid_x = grid_y = jnp.linspace(rang[0], rang[1], resolution)\n",
    "    grid_flat = jnp.dstack(jnp.meshgrid(grid_x, grid_y)).reshape(-1, 2)\n",
    "\n",
    "    densities = stats.multivariate_normal.pdf(grid_flat, mean=mean.ravel(), cov=cov).reshape(resolution, resolution)\n",
    "    plt.imshow(densities, origin='lower', extent=(rang[0], rang[1], rang[0], rang[1]))\n",
    "    plt.scatter(w0, w1, marker='x', c=\"r\", s=20, label='Truth')\n",
    "    plt.legend()\n",
    "    plt.title(title)\n",
    "    plt.xlabel('w0')\n",
    "    plt.ylabel('w1')\n",
    "\n",
    "print(theta_MAP)\n",
    "plot_posterior(theta_MAP, jnp.linalg.inv(hessian), 4.0, 2.3,title = \"Laplace approximation\",rang=(0,7))\n",
    "plt.savefig(\"lin_reg_laplace_approx.png\")"
   ]
  },
  {
   "cell_type": "code",
   "execution_count": 11,
   "metadata": {},
   "outputs": [
    {
     "name": "stdout",
     "output_type": "stream",
     "text": [
      "[3.804038  2.1993077]\n"
     ]
    },
    {
     "data": {
      "image/png": "[encoded data removed]",
      "text/plain": [
       "<Figure size 432x288 with 1 Axes>"
      ]
     },
     "metadata": {
      "needs_background": "light"
     },
     "output_type": "display_data"
    }
   ],
   "source": [
    "def posterior(phi,m_0, t, S_0, beta, return_inverse=False):\n",
    "    \"\"\"Computes mean and covariance matrix of the posterior distribution.\"\"\"\n",
    "    S_N_inv = jnp.linalg.inv(S_0) + beta * phi.T.dot(phi)\n",
    "    S_N = jnp.linalg.inv(S_N_inv)\n",
    "    m_N =S_N@(jnp.linalg.inv(S_0)@m_0+beta *phi.T.dot(t))\n",
    "\n",
    "    if return_inverse:\n",
    "        return m_N, S_N, S_N_inv\n",
    "    else:\n",
    "        return m_N, S_N\n",
    "\n",
    "m_N, S_N = posterior(phi=x_trans,m_0=prior_mean,t=y,S_0=prior_var,beta=1)\n",
    "print(m_N.ravel())\n",
    "plot_posterior(mean=m_N,cov=S_N,w0=4.0,w1=2.3,title=\"True posterior\",rang=(0,7))\n",
    "plt.savefig(\"true_posterior.png\")"
   ]
  },
  {
   "cell_type": "code",
   "execution_count": 18,
   "metadata": {},
   "outputs": [
    {
     "data": {
      "text/plain": [
       "DeviceArray([[ 0.11103116, -0.02126273],\n",
       "             [-0.02126273,  0.03760864]], dtype=float32)"
      ]
     },
     "execution_count": 18,
     "metadata": {},
     "output_type": "execute_result"
    }
   ],
   "source": [
    "S_N"
   ]
  },
  {
   "cell_type": "code",
   "execution_count": 12,
   "metadata": {},
   "outputs": [
    {
     "name": "stdout",
     "output_type": "stream",
     "text": [
      "[14.   7.3]\n"
     ]
    },
    {
     "data": {
      "image/png": "[encoded data removed]",
      "text/plain": [
       "<Figure size 432x288 with 1 Axes>"
      ]
     },
     "metadata": {
      "needs_background": "light"
     },
     "output_type": "display_data"
    }
   ],
   "source": [
    "plot_posterior(mean=prior_mean,cov=prior_var,w0=4.0,w1=2.3,title=\"Prior\")\n",
    "plt.savefig(\"prior.png\")\n",
    "print(prior_mean)"
   ]
  },
  {
   "cell_type": "code",
   "execution_count": 15,
   "metadata": {},
   "outputs": [],
   "source": [
    "laplace = {\"mean\":theta_MAP, \"cov\":jnp.linalg.inv(hessian)}"
   ]
  },
  {
   "cell_type": "code",
   "execution_count": 16,
   "metadata": {},
   "outputs": [],
   "source": [
    "with open(\"../results/linear_regression/results_data/linear_regression_laplace\",'wb') as f:\n",
    "    pickle.dump(laplace,f)"
   ]
  },
  {
   "cell_type": "code",
   "execution_count": null,
   "metadata": {},
   "outputs": [],
   "source": []
  }
 ],
 "metadata": {
  "interpreter": {
   "hash": "31cf91725cfa433ed6f8f914e51425bfdb4b966b135703f258bb56c1780b6111"
  },
  "kernelspec": {
   "display_name": "Python 3.7.13 ('srip')",
   "language": "python",
   "name": "python3"
  },
  "language_info": {
   "codemirror_mode": {
    "name": "ipython",
    "version": 3
   },
   "file_extension": ".py",
   "mimetype": "text/x-python",
   "name": "python",
   "nbconvert_exporter": "python",
   "pygments_lexer": "ipython3",
   "version": "3.7.13"
  },
  "orig_nbformat": 4
 },
 "nbformat": 4,
 "nbformat_minor": 2
}
